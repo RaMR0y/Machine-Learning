{
  "nbformat": 4,
  "nbformat_minor": 0,
  "metadata": {
    "colab": {
      "provenance": [],
      "include_colab_link": true
    },
    "kernelspec": {
      "name": "python3",
      "display_name": "Python 3"
    },
    "language_info": {
      "name": "python"
    }
  },
  "cells": [
    {
      "cell_type": "markdown",
      "metadata": {
        "id": "view-in-github",
        "colab_type": "text"
      },
      "source": [
        "<a href=\"https://colab.research.google.com/github/RaMR0y/Machine-Learning/blob/Python-Basics/CS1342FALL2024_CHAPTER_07.ipynb\" target=\"_parent\"><img src=\"https://colab.research.google.com/assets/colab-badge.svg\" alt=\"Open In Colab\"/></a>"
      ]
    },
    {
      "cell_type": "markdown",
      "source": [
        "# **EXCEPTION & ERROR HANDLING**"
      ],
      "metadata": {
        "id": "wFy8E30Z6ovx"
      }
    },
    {
      "cell_type": "markdown",
      "source": [
        "## Beginner's Common Errors\n",
        "---"
      ],
      "metadata": {
        "id": "hK1FokDK2Nwl"
      }
    },
    {
      "cell_type": "markdown",
      "source": [
        "### **1. `SyntaxError`**\n",
        "- **Description**: Raised when the parser encounters a syntax mistake.\n",
        "- **Common Causes**:\n",
        "  - Missing colons (`:`) in function definitions, loops, or conditional statements.\n",
        "  - Incorrect indentation.\n",
        "  - Unclosed quotes or parentheses.\n"
      ],
      "metadata": {
        "id": "8I-ijKv82HcQ"
      }
    },
    {
      "cell_type": "markdown",
      "source": [
        "- **Example**:\n",
        "  ```python\n",
        "  if x > 10  # Missing colon\n",
        "      print(\"x is greater than 10\")\n",
        "  ```\n",
        "\n"
      ],
      "metadata": {
        "id": "65m6B9M52WLU"
      }
    },
    {
      "cell_type": "markdown",
      "source": [
        "### **2. `IndentationError`**\n",
        "- **Description**: Raised when there’s an incorrect indentation level.\n",
        "- **Common Causes**:\n",
        "  - Mixing tabs and spaces.\n",
        "  - Missing indentation in code blocks (e.g., under `if`, `for`, `while`).\n"
      ],
      "metadata": {
        "id": "udyL6Dfq2Yhd"
      }
    },
    {
      "cell_type": "markdown",
      "source": [
        "- **Example**:\n",
        "  ```python\n",
        "  def greet():\n",
        "  print(\"Hello!\")  # Should be indented\n",
        "  ```\n",
        "\n"
      ],
      "metadata": {
        "id": "YozBD58B2bYc"
      }
    },
    {
      "cell_type": "markdown",
      "source": [
        "### **3. `NameError`**\n",
        "- **Description**: Raised when a variable or function is referenced before it’s defined.\n",
        "- **Common Causes**:\n",
        "  - Misspelling a variable or function name.\n",
        "  - Using a variable before it has been initialized.\n"
      ],
      "metadata": {
        "id": "V2hdqJRk2eVE"
      }
    },
    {
      "cell_type": "markdown",
      "source": [
        "- **Example**:\n",
        "  ```python\n",
        "  print(name)  # 'name' is not defined\n",
        "  ```\n",
        "\n"
      ],
      "metadata": {
        "id": "-iOr-SDb2gmW"
      }
    },
    {
      "cell_type": "markdown",
      "source": [
        "### **4. `TypeError`**\n",
        "- **Description**: Raised when an operation or function is applied to an object of an inappropriate type.\n",
        "- **Common Causes**:\n",
        "  - Trying to add a string to an integer.\n",
        "  - Passing the wrong number of arguments to a function.\n"
      ],
      "metadata": {
        "id": "HCiv8Yd92iIZ"
      }
    },
    {
      "cell_type": "markdown",
      "source": [
        "- **Example**:\n",
        "  ```python\n",
        "  result = \"Number: \" + 5  # Cannot concatenate str and int\n",
        "  ```\n",
        "\n"
      ],
      "metadata": {
        "id": "1LNL7wK32kIj"
      }
    },
    {
      "cell_type": "markdown",
      "source": [
        "### **5. `IndexError`**\n",
        "- **Description**: Raised when trying to access an index that is out of range in a sequence (e.g., list, string).\n",
        "- **Common Causes**:\n",
        "  - Trying to access an element in a list using an index that is outside its range.\n"
      ],
      "metadata": {
        "id": "W0CNFyE02nRR"
      }
    },
    {
      "cell_type": "markdown",
      "source": [
        "- **Example**:\n",
        "  ```python\n",
        "  my_list = [1, 2, 3]\n",
        "  print(my_list[3])  # Index out of range\n",
        "  ```\n",
        "\n"
      ],
      "metadata": {
        "id": "YJ5i_iFn2rYU"
      }
    },
    {
      "cell_type": "markdown",
      "source": [
        "### **6. `ValueError`**\n",
        "- **Description**: Raised when a function receives an argument of the correct type but an inappropriate value.\n",
        "- **Common Causes**:\n",
        "  - Converting a non-numeric string to an integer.\n",
        "  - Passing an invalid argument to a function.\n"
      ],
      "metadata": {
        "id": "uyYNZ2zs2w-p"
      }
    },
    {
      "cell_type": "markdown",
      "source": [
        "- **Example**:\n",
        "  ```python\n",
        "  number = int(\"abc\")  # Cannot convert 'abc' to int\n",
        "  ```\n",
        "\n"
      ],
      "metadata": {
        "id": "5ZsWTlxZ2zxI"
      }
    },
    {
      "cell_type": "markdown",
      "source": [
        "### **7. `AttributeError`**\n",
        "- **Description**: Raised when an attribute reference or assignment fails.\n",
        "- **Common Causes**:\n",
        "  - Trying to access or assign an attribute that doesn’t exist in an object.\n"
      ],
      "metadata": {
        "id": "ZEkI0JoO2tio"
      }
    },
    {
      "cell_type": "markdown",
      "source": [
        "- **Example**:\n",
        "  ```python\n",
        "  my_list = [1, 2, 3]\n",
        "  my_list.append(4)  # Correct\n",
        "  my_list.add(5)  # 'list' object has no attribute 'add'\n",
        "  ```\n",
        "\n"
      ],
      "metadata": {
        "id": "nNYkuQ-_2_mt"
      }
    },
    {
      "cell_type": "markdown",
      "source": [
        "### **8. `KeyError`**\n",
        "- **Description**: Raised when a dictionary key is not found in the dictionary.\n",
        "- **Common Causes**:\n",
        "  - Trying to access a dictionary key that doesn’t exist.\n"
      ],
      "metadata": {
        "id": "K6c7WKJy21k_"
      }
    },
    {
      "cell_type": "markdown",
      "source": [
        "- **Example**:\n",
        "  ```python\n",
        "  my_dict = {'a': 1, 'b': 2}\n",
        "  print(my_dict['c'])  # Key 'c' does not exist\n",
        "  ```\n",
        "\n"
      ],
      "metadata": {
        "id": "FNgeXBLn2-GZ"
      }
    },
    {
      "cell_type": "markdown",
      "source": [
        "### **9. `ImportError`**\n",
        "- **Description**: Raised when an import statement fails to find the module definition or when a specific function/class in a module cannot be found.\n",
        "- **Common Causes**:\n",
        "  - Typo in the module name.\n",
        "  - Trying to import a module that isn’t installed.\n"
      ],
      "metadata": {
        "id": "Ww4aAAJ8224p"
      }
    },
    {
      "cell_type": "markdown",
      "source": [
        "- **Example**:\n",
        "  ```python\n",
        "  import numpyy  # Typo in module name, should be 'numpy'\n",
        "  ```\n",
        "\n"
      ],
      "metadata": {
        "id": "_-_bZ7o62826"
      }
    },
    {
      "cell_type": "markdown",
      "source": [
        "### **10. `ZeroDivisionError`**\n",
        "- **Description**: Raised when a division or modulo operation is attempted with zero as the divisor.\n",
        "- **Common Causes**:\n",
        "  - Attempting to divide by zero in calculations.\n"
      ],
      "metadata": {
        "id": "HLSgYOLq24Mw"
      }
    },
    {
      "cell_type": "markdown",
      "source": [
        "- **Example**:\n",
        "  ```python\n",
        "  result = 10 / 0  # Division by zero\n",
        "  ```\n",
        "\n"
      ],
      "metadata": {
        "id": "eqR9riRZ27kI"
      }
    },
    {
      "cell_type": "markdown",
      "source": [
        "### **Tips to Avoid Common Errors:**\n",
        "- **Use an IDE or code editor**: Helps in catching syntax and indentation errors early.\n",
        "- **Test your code frequently**: Regularly run your code to catch errors early in development.\n",
        "- **Read error messages carefully**: They often provide clear guidance on what went wrong and where.\n",
        "- **Write meaningful variable names**: Reduces the chances of mistyping and confusion.\n",
        "- **Comment your code**: Helps in understanding and debugging."
      ],
      "metadata": {
        "id": "7aQUlGFC25ha"
      }
    },
    {
      "cell_type": "markdown",
      "source": [
        "## Python Exception Handling\n",
        "\n",
        "**Purpose**: Handle exceptions gracefully in Python to prevent your program from crashing and to provide informative feedback to users.\n",
        "\n",
        "---\n",
        "\n"
      ],
      "metadata": {
        "id": "NzYz7kzM4EPj"
      }
    },
    {
      "cell_type": "markdown",
      "source": [
        "### **1. Basic `try-except` Structure**\n",
        "```python\n",
        "try:\n",
        "    # Code that might raise an exception\n",
        "except ExceptionType:\n",
        "    # Code that runs if the exception occurs\n",
        "```\n",
        "\n",
        "- **Example**:\n",
        "  "
      ],
      "metadata": {
        "id": "9OcDpJU45bCV"
      }
    },
    {
      "cell_type": "code",
      "source": [
        "try:\n",
        "    result = 10 / 0\n",
        "except ZeroDivisionError:\n",
        "    print(\"You can't divide by zero!\")"
      ],
      "metadata": {
        "colab": {
          "base_uri": "https://localhost:8080/"
        },
        "id": "SM8BxOor4VO2",
        "outputId": "6b8472af-96c7-4d31-cefb-c6e31f512b2a"
      },
      "execution_count": null,
      "outputs": [
        {
          "output_type": "stream",
          "name": "stdout",
          "text": [
            "You can't divide by zero!\n"
          ]
        }
      ]
    },
    {
      "cell_type": "markdown",
      "source": [
        "### **2. Catching Multiple Exceptions**\n",
        "```python\n",
        "try:\n",
        "    # Code that might raise multiple exceptions\n",
        "except (ExceptionType1, ExceptionType2):\n",
        "    # Handle either exception\n",
        "```\n",
        "\n",
        "- **Example**:\n",
        "  "
      ],
      "metadata": {
        "id": "Koj7cBWA4TVa"
      }
    },
    {
      "cell_type": "code",
      "source": [
        "try:\n",
        "    value = int(\"abc\")\n",
        "except (ValueError, TypeError):\n",
        "    print(\"Conversion error occurred.\")"
      ],
      "metadata": {
        "colab": {
          "base_uri": "https://localhost:8080/"
        },
        "id": "vgdNFZ7x5Qqo",
        "outputId": "4e90ca9a-743f-4e5a-8f1b-2bdfe593443f"
      },
      "execution_count": null,
      "outputs": [
        {
          "output_type": "stream",
          "name": "stdout",
          "text": [
            "Conversion error occurred.\n"
          ]
        }
      ]
    },
    {
      "cell_type": "markdown",
      "source": [
        "### **3. Using `else` with `try-except`**\n",
        "```python\n",
        "try:\n",
        "    # Code that might raise an exception\n",
        "except ExceptionType:\n",
        "    # Code that runs if the exception occurs\n",
        "else:\n",
        "    # Code that runs if no exception occurs\n",
        "```\n",
        "\n",
        "- **Example**:\n",
        "  "
      ],
      "metadata": {
        "id": "El30QdFy4hqk"
      }
    },
    {
      "cell_type": "code",
      "source": [
        "try:\n",
        "    number = int(\"10\")\n",
        "except ValueError:\n",
        "    print(\"That's not a valid number.\")\n",
        "else:\n",
        "    print(f\"The number is {number}.\")"
      ],
      "metadata": {
        "colab": {
          "base_uri": "https://localhost:8080/"
        },
        "id": "B5W5DemU5Lqg",
        "outputId": "cf0c8803-0abd-4638-9e0d-f989bdcc1e16"
      },
      "execution_count": null,
      "outputs": [
        {
          "output_type": "stream",
          "name": "stdout",
          "text": [
            "The number is 10.\n"
          ]
        }
      ]
    },
    {
      "cell_type": "markdown",
      "source": [
        "### **4. The `finally` Block**\n",
        "```python\n",
        "try:\n",
        "    # Code that might raise an exception\n",
        "except ExceptionType:\n",
        "    # Handle the exception\n",
        "finally:\n",
        "    # Code that runs no matter what\n",
        "```\n",
        "\n",
        "- **Example**:\n",
        "  "
      ],
      "metadata": {
        "id": "sjD9mCSt4mK6"
      }
    },
    {
      "cell_type": "code",
      "source": [
        "try:\n",
        "    file = open(\"data.txt\")\n",
        "except FileNotFoundError:\n",
        "    print(\"File not found.\")\n",
        "finally:\n",
        "    print(\"Execution completed.\")"
      ],
      "metadata": {
        "colab": {
          "base_uri": "https://localhost:8080/"
        },
        "id": "Mah9ItDq5IKc",
        "outputId": "ac4626c7-1a39-424d-c638-8c677819387f"
      },
      "execution_count": null,
      "outputs": [
        {
          "output_type": "stream",
          "name": "stdout",
          "text": [
            "File not found.\n",
            "Execution completed.\n"
          ]
        }
      ]
    },
    {
      "cell_type": "markdown",
      "source": [
        "### **5. Raising Exceptions**\n",
        "```python\n",
        "raise ExceptionType(\"Error message\")\n",
        "```\n",
        "\n",
        "- **Example**:\n",
        "  "
      ],
      "metadata": {
        "id": "Xvz8qAve4p19"
      }
    },
    {
      "cell_type": "code",
      "source": [
        "age = -5\n",
        "if age < 0:\n",
        "    raise ValueError(\"Age can't be negative!\")"
      ],
      "metadata": {
        "colab": {
          "base_uri": "https://localhost:8080/",
          "height": 176
        },
        "id": "s50JHpMc5CVv",
        "outputId": "52314c1c-abc4-4632-9fca-2b76b124eb1f"
      },
      "execution_count": null,
      "outputs": [
        {
          "output_type": "error",
          "ename": "ValueError",
          "evalue": "Age can't be negative!",
          "traceback": [
            "\u001b[0;31m---------------------------------------------------------------------------\u001b[0m",
            "\u001b[0;31mValueError\u001b[0m                                Traceback (most recent call last)",
            "\u001b[0;32m<ipython-input-5-6e98424e0084>\u001b[0m in \u001b[0;36m<cell line: 2>\u001b[0;34m()\u001b[0m\n\u001b[1;32m      1\u001b[0m \u001b[0mage\u001b[0m \u001b[0;34m=\u001b[0m \u001b[0;34m-\u001b[0m\u001b[0;36m5\u001b[0m\u001b[0;34m\u001b[0m\u001b[0;34m\u001b[0m\u001b[0m\n\u001b[1;32m      2\u001b[0m \u001b[0;32mif\u001b[0m \u001b[0mage\u001b[0m \u001b[0;34m<\u001b[0m \u001b[0;36m0\u001b[0m\u001b[0;34m:\u001b[0m\u001b[0;34m\u001b[0m\u001b[0;34m\u001b[0m\u001b[0m\n\u001b[0;32m----> 3\u001b[0;31m     \u001b[0;32mraise\u001b[0m \u001b[0mValueError\u001b[0m\u001b[0;34m(\u001b[0m\u001b[0;34m\"Age can't be negative!\"\u001b[0m\u001b[0;34m)\u001b[0m\u001b[0;34m\u001b[0m\u001b[0;34m\u001b[0m\u001b[0m\n\u001b[0m",
            "\u001b[0;31mValueError\u001b[0m: Age can't be negative!"
          ]
        }
      ]
    },
    {
      "cell_type": "markdown",
      "source": [
        "### **6. Custom Exceptions [[ADVANCE]]**\n",
        "```python\n",
        "class MyCustomError(Exception):\n",
        "    pass\n",
        "\n",
        "raise MyCustomError(\"This is a custom error.\")\n",
        "\n",
        "\n",
        "# More Advance\n",
        "class ValidationError(Exception):\n",
        "    def __init__(self, message, errors):            \n",
        "        # Call the base class constructor with the parameters it needs\n",
        "        super().__init__(message)\n",
        "            \n",
        "        # Now for your custom code...\n",
        "        self.errors = errors\n",
        "```\n",
        "\n",
        "- **Example**:\n",
        "  "
      ],
      "metadata": {
        "id": "-V3Hiyf14vEi"
      }
    },
    {
      "cell_type": "code",
      "source": [
        "class NegativeNumberError(Exception):\n",
        "    pass\n",
        "\n",
        "def square_root(x):\n",
        "    if x < 0:\n",
        "        raise NegativeNumberError(\"Cannot compute square root of a negative number.\")\n",
        "    return x ** 0.5\n",
        "square_root(-5)"
      ],
      "metadata": {
        "colab": {
          "base_uri": "https://localhost:8080/",
          "height": 297
        },
        "id": "dTSOUfZs46X4",
        "outputId": "45bf0886-18ea-4abd-a5b7-0f53ac6ce02b"
      },
      "execution_count": null,
      "outputs": [
        {
          "output_type": "error",
          "ename": "NegativeNumberError",
          "evalue": "Cannot compute square root of a negative number.",
          "traceback": [
            "\u001b[0;31m---------------------------------------------------------------------------\u001b[0m",
            "\u001b[0;31mNegativeNumberError\u001b[0m                       Traceback (most recent call last)",
            "\u001b[0;32m<ipython-input-3-d19bd42e3b40>\u001b[0m in \u001b[0;36m<cell line: 8>\u001b[0;34m()\u001b[0m\n\u001b[1;32m      6\u001b[0m         \u001b[0;32mraise\u001b[0m \u001b[0mNegativeNumberError\u001b[0m\u001b[0;34m(\u001b[0m\u001b[0;34m\"Cannot compute square root of a negative number.\"\u001b[0m\u001b[0;34m)\u001b[0m\u001b[0;34m\u001b[0m\u001b[0;34m\u001b[0m\u001b[0m\n\u001b[1;32m      7\u001b[0m     \u001b[0;32mreturn\u001b[0m \u001b[0mx\u001b[0m \u001b[0;34m**\u001b[0m \u001b[0;36m0.5\u001b[0m\u001b[0;34m\u001b[0m\u001b[0;34m\u001b[0m\u001b[0m\n\u001b[0;32m----> 8\u001b[0;31m \u001b[0msquare_root\u001b[0m\u001b[0;34m(\u001b[0m\u001b[0;34m-\u001b[0m\u001b[0;36m5\u001b[0m\u001b[0;34m)\u001b[0m\u001b[0;34m\u001b[0m\u001b[0;34m\u001b[0m\u001b[0m\n\u001b[0m",
            "\u001b[0;32m<ipython-input-3-d19bd42e3b40>\u001b[0m in \u001b[0;36msquare_root\u001b[0;34m(x)\u001b[0m\n\u001b[1;32m      4\u001b[0m \u001b[0;32mdef\u001b[0m \u001b[0msquare_root\u001b[0m\u001b[0;34m(\u001b[0m\u001b[0mx\u001b[0m\u001b[0;34m)\u001b[0m\u001b[0;34m:\u001b[0m\u001b[0;34m\u001b[0m\u001b[0;34m\u001b[0m\u001b[0m\n\u001b[1;32m      5\u001b[0m     \u001b[0;32mif\u001b[0m \u001b[0mx\u001b[0m \u001b[0;34m<\u001b[0m \u001b[0;36m0\u001b[0m\u001b[0;34m:\u001b[0m\u001b[0;34m\u001b[0m\u001b[0;34m\u001b[0m\u001b[0m\n\u001b[0;32m----> 6\u001b[0;31m         \u001b[0;32mraise\u001b[0m \u001b[0mNegativeNumberError\u001b[0m\u001b[0;34m(\u001b[0m\u001b[0;34m\"Cannot compute square root of a negative number.\"\u001b[0m\u001b[0;34m)\u001b[0m\u001b[0;34m\u001b[0m\u001b[0;34m\u001b[0m\u001b[0m\n\u001b[0m\u001b[1;32m      7\u001b[0m     \u001b[0;32mreturn\u001b[0m \u001b[0mx\u001b[0m \u001b[0;34m**\u001b[0m \u001b[0;36m0.5\u001b[0m\u001b[0;34m\u001b[0m\u001b[0;34m\u001b[0m\u001b[0m\n\u001b[1;32m      8\u001b[0m \u001b[0msquare_root\u001b[0m\u001b[0;34m(\u001b[0m\u001b[0;34m-\u001b[0m\u001b[0;36m5\u001b[0m\u001b[0;34m)\u001b[0m\u001b[0;34m\u001b[0m\u001b[0;34m\u001b[0m\u001b[0m\n",
            "\u001b[0;31mNegativeNumberError\u001b[0m: Cannot compute square root of a negative number."
          ]
        }
      ]
    },
    {
      "cell_type": "markdown",
      "source": [
        "### **Key Points**\n",
        "- **Use `try-except`**: To handle exceptions and prevent your program from crashing.\n",
        "- **Use `else`**: For code that should run only if no exceptions are raised.\n",
        "- **Use `finally`**: To execute code that should run no matter what, such as closing files.\n",
        "- **Raise Exceptions**: When you need to signal an error condition explicitly.\n",
        "- **Custom Exceptions**: Define when built-in exceptions aren’t specific enough.\n",
        "\n",
        "This concise cheat sheet covers essential techniques for handling errors effectively in Python."
      ],
      "metadata": {
        "id": "Rh9on3Pz45Uh"
      }
    },
    {
      "cell_type": "markdown",
      "source": [
        "## Common Python Exceptions"
      ],
      "metadata": {
        "id": "smWMIz0-6Wa9"
      }
    },
    {
      "cell_type": "markdown",
      "source": [
        "| **Exception Name**       | **Description**                                                | **Scenario**                                                                 |\n",
        "|--------------------------|----------------------------------------------------------------|-------------------------------------------------------------------------------|\n",
        "| **`SyntaxError`**         | Occurs when there is an error in Python syntax.                | Missing a colon after an `if` statement or function definition.               |\n",
        "| **`IndentationError`**    | Occurs due to incorrect indentation in the code.               | Mixing tabs and spaces or improper indentation in a block of code.            |\n",
        "| **`NameError`**           | Raised when a variable or function name is not found.          | Using a variable before declaring it.                                         |\n",
        "| **`TypeError`**           | Raised when an operation or function is applied to an object of inappropriate type. | Adding a string and an integer together.                                      |\n",
        "| **`ValueError`**          | Raised when a function receives an argument of the correct type but an inappropriate value. | Converting a non-numeric string to an integer, like `int(\"abc\")`.             |\n",
        "| **`IndexError`**          | Raised when trying to access an element outside the bounds of a list or other sequence. | Accessing the 5th element in a list with only 3 elements.                     |\n",
        "| **`KeyError`**            | Raised when a dictionary key is not found.                     | Accessing a non-existent key in a dictionary, like `my_dict['missing_key']`.  |\n",
        "| **`AttributeError`**      | Raised when an attribute reference or assignment fails.        | Attempting to call a method on an object that doesn’t have it.                |\n",
        "| **`ImportError`**         | Raised when an import statement fails to find the module or specific name in a module. | Importing a non-existent module or function.                                  |\n",
        "| **`ModuleNotFoundError`** | Raised when a module cannot be found.                          | Importing a module that is not installed or available.                        |\n",
        "| **`ZeroDivisionError`**   | Raised when attempting to divide by zero.                      | Performing `10 / 0`.                                                          |\n",
        "| **`FileNotFoundError`**   | Raised when trying to open a file that does not exist.         | Attempting to read a file that is not present in the directory.               |\n",
        "| **`IOError`**             | Raised when an input/output operation fails.                   | Errors during file reading/writing operations.                                |\n",
        "| **`OverflowError`**       | Raised when a numeric calculation exceeds the maximum limit.   | Calculating extremely large numbers, like `float('inf')`.                     |\n",
        "| **`RuntimeError`**        | Raised when an error is detected that doesn’t fall into any other category. | Exceeding the maximum recursion depth in a recursive function.                |\n",
        "| **`NotImplementedError`** | Raised when an abstract method in a base class is not implemented in a subclass. | Creating an abstract method in a class and not implementing it in the subclass. |\n",
        "| **`OSError`**             | Raised for system-related errors, such as file operations.     | Trying to open a file without the correct permissions.                        |\n",
        "| **`MemoryError`**         | Raised when an operation runs out of memory.                   | Allocating more memory than is available, especially in large data processing tasks. |\n",
        "\n",
        "This table provides a quick overview of common Python exceptions, their descriptions, and scenarios in which they might occur."
      ],
      "metadata": {
        "id": "cl58a8ZO6Spu"
      }
    },
    {
      "cell_type": "code",
      "source": [],
      "metadata": {
        "id": "0fFhhLTi6ToE"
      },
      "execution_count": null,
      "outputs": []
    },
    {
      "cell_type": "markdown",
      "source": [],
      "metadata": {
        "id": "h1IPtmZc6th5"
      }
    },
    {
      "cell_type": "markdown",
      "source": [
        "# Modules & Packages"
      ],
      "metadata": {
        "id": "AEJ4_a7Y6umU"
      }
    },
    {
      "cell_type": "markdown",
      "source": [
        "### Understanding Python Modules"
      ],
      "metadata": {
        "id": "7-RM2zuv_u8X"
      }
    },
    {
      "cell_type": "markdown",
      "source": [
        "\n",
        "#### **What is a Module?**\n",
        "\n",
        "A **module** in Python is simply a file that contains Python code. This code can include functions, classes, variables, and runnable code. By organizing code into modules, you can reuse it across different parts of your program or even in different projects.\n",
        "\n",
        "Modules help in:\n",
        "\n",
        "- **Code Reusability**: You can use the same module in multiple programs without rewriting the code.\n",
        "- **Organization**: Breaking your code into modules makes it easier to manage and understand.\n",
        "- **Namespace Management**: Modules help avoid naming conflicts by providing their own scope.\n",
        "\n",
        "#### **Types of Modules**\n",
        "\n",
        "1. **Standard Library Modules**: Python comes with a rich standard library that includes modules for common tasks like math operations, file handling, data serialization, and more.\n",
        "   - Example: `math`, `datetime`, `os`, `sys`\n",
        "   \n",
        "2. **Third-Party Modules**: These are modules developed by others that you can install using package managers like `pip`.\n",
        "   - Example: `requests`, `numpy`, `pandas`\n",
        "   \n",
        "3. **User-Defined Modules**: These are modules you create in your own projects.\n",
        "   - Example: A file named `my_module.py` containing custom functions and classes.\n",
        "\n",
        "#### **Creating a Simple Module**\n",
        "\n",
        "Let's create a basic module that contains some utility functions.\n",
        "\n",
        "1. **Create a Python file** named `utilities.py`:\n",
        "\n",
        "```python\n",
        "# utilities.py\n",
        "\n",
        "def add(a, b):\n",
        "    return a + b\n",
        "\n",
        "def subtract(a, b):\n",
        "    return a - b\n",
        "\n",
        "def multiply(a, b):\n",
        "    return a * b\n",
        "\n",
        "def divide(a, b):\n",
        "    if b == 0:\n",
        "        return \"Cannot divide by zero\"\n",
        "    return a / b\n",
        "```\n",
        "\n",
        "2. **Using the Module in Another Script**:\n",
        "\n",
        "You can import and use the `utilities` module in another Python script.\n",
        "\n",
        "```python\n",
        "# main.py\n",
        "\n",
        "import utilities\n",
        "\n",
        "x = 10\n",
        "y = 5\n",
        "\n",
        "print(f\"{x} + {y} = {utilities.add(x, y)}\")\n",
        "print(f\"{x} - {y} = {utilities.subtract(x, y)}\")\n",
        "print(f\"{x} * {y} = {utilities.multiply(x, y)}\")\n",
        "print(f\"{x} / {y} = {utilities.divide(x, y)}\")\n",
        "```\n",
        "\n",
        "**Output**:\n",
        "```\n",
        "10 + 5 = 15\n",
        "10 - 5 = 5\n",
        "10 * 5 = 50\n",
        "10 / 5 = 2.0\n",
        "```\n",
        "\n",
        "#### **Importing Modules**\n",
        "\n",
        "- **Basic Import**: Import the entire module using the module name.\n",
        "  ```python\n",
        "  import utilities\n",
        "  ```\n",
        "  \n",
        "- **Import Specific Functions**: Import specific functions or classes from the module.\n",
        "  ```python\n",
        "  from utilities import add, subtract\n",
        "  ```\n",
        "  \n",
        "- **Import with Alias**: Give the module or function a different name for convenience.\n",
        "  ```python\n",
        "  import utilities as util\n",
        "  from utilities import multiply as mul\n",
        "  ```\n",
        "\n",
        "#### **The `__name__` Variable**\n",
        "\n",
        "Every Python module has a built-in variable called `__name__`. When a module is run directly, `__name__` is set to `\"__main__\"`. When it is imported, `__name__` is set to the module's name.\n",
        "\n",
        "This allows you to control what happens when the module is run directly versus when it is imported:\n",
        "\n",
        "```python\n",
        "# utilities.py\n",
        "\n",
        "def add(a, b):\n",
        "    return a + b\n",
        "\n",
        "if __name__ == \"__main__\":\n",
        "    # This block will only run if this file is executed directly\n",
        "    print(\"This is a utility module with basic math functions.\")\n",
        "```\n",
        "\n",
        "#### **The `__init__.py` File**\n",
        "\n",
        "In a package (a directory containing multiple modules), the `__init__.py` file is used to initialize the package and can be used to import specific submodules automatically. In Python 3.3 and above, the `__init__.py` file is optional, but it's still commonly used for package initialization.\n",
        "\n",
        "#### **Summary**\n",
        "\n",
        "- **Modules** help in organizing Python code into manageable and reusable pieces.\n",
        "- They can be **imported** into other scripts or modules to use the functions, classes, and variables defined within them.\n",
        "- Python's **standard library** provides a wide range of built-in modules, and you can also install third-party modules using `pip`.\n",
        "- Creating your own **modules** and organizing them into packages allows for better code structure and reusability across projects."
      ],
      "metadata": {
        "id": "ed3kwCv5_mtb"
      }
    },
    {
      "cell_type": "markdown",
      "source": [
        "### Understanding Python Packages"
      ],
      "metadata": {
        "id": "r1HUC4DpAX-e"
      }
    },
    {
      "cell_type": "markdown",
      "source": [
        "### **Overview**"
      ],
      "metadata": {
        "id": "0QtSJtJVBb1A"
      }
    },
    {
      "cell_type": "markdown",
      "source": [
        "A **Python package** is a way of organizing multiple related modules into a directory hierarchy. Packages help in structuring your Python code into manageable, reusable components, especially in large projects. A package is essentially a directory containing one or more Python modules, and it often includes a special `__init__.py` file.\n",
        "\n",
        "#### **Why Use Packages?**\n",
        "\n",
        "- **Organization**: Packages allow you to group related modules together, making your codebase easier to navigate and maintain.\n",
        "- **Namespace Management**: Packages create separate namespaces, reducing the likelihood of name conflicts between modules.\n",
        "- **Modularity**: Encourages breaking down complex systems into smaller, more manageable components.\n",
        "\n",
        "#### **Basic Structure of a Python Package**\n",
        "\n",
        "Here’s what a simple package might look like:\n",
        "\n",
        "```plaintext\n",
        "my_package/\n",
        "│\n",
        "├── __init__.py\n",
        "├── module1.py\n",
        "└── module2.py\n",
        "```\n",
        "\n",
        "- **`__init__.py`**: This file makes Python treat the directory as a package. It can be empty or used to initialize the package, import submodules, or define package-level variables.\n",
        "- **`module1.py` and `module2.py`**: These are Python modules that contain functions, classes, or variables.\n",
        "\n",
        "#### **Creating and Using a Python Package**\n",
        "\n",
        "Let's create a basic package called `math_operations` with two modules: `addition.py` and `subtraction.py`.\n",
        "\n",
        "### **1. Create the Package Structure**\n",
        "\n",
        "```plaintext\n",
        "math_operations/\n",
        "│\n",
        "├── __init__.py\n",
        "├── addition.py\n",
        "└── subtraction.py\n",
        "```\n",
        "\n",
        "### **2. Define the Modules**\n",
        "\n",
        "- **`addition.py`**:\n",
        "\n",
        "```python\n",
        "# math_operations/addition.py\n",
        "\n",
        "def add(a, b):\n",
        "    return a + b\n",
        "```\n",
        "\n",
        "- **`subtraction.py`**:\n",
        "\n",
        "```python\n",
        "# math_operations/subtraction.py\n",
        "\n",
        "def subtract(a, b):\n",
        "    return a - b\n",
        "```\n",
        "\n",
        "### **3. Initialize the Package**\n",
        "\n",
        "- **`__init__.py`**:\n",
        "  \n",
        "  This file can be used to control what’s accessible when the package is imported. For example, you might want to import specific functions directly at the package level:\n",
        "\n",
        "```python\n",
        "# math_operations/__init__.py\n",
        "\n",
        "from .addition import add\n",
        "from .subtraction import subtract\n",
        "```\n",
        "\n",
        "With this setup, you can now import and use the `math_operations` package in your code.\n",
        "\n",
        "### **4. Using the Package**\n",
        "\n",
        "In another Python file or an interactive Python session, you can import and use the package like this:\n",
        "\n",
        "```python\n",
        "import math_operations\n",
        "\n",
        "result_add = math_operations.add(10, 5)\n",
        "result_subtract = math_operations.subtract(10, 5)\n",
        "\n",
        "print(f\"Addition: {result_add}\")\n",
        "print(f\"Subtraction: {result_subtract}\")\n",
        "```\n",
        "\n",
        "**Output**:\n",
        "```\n",
        "Addition: 15\n",
        "Subtraction: 5\n",
        "```\n",
        "\n",
        "### **Advanced Package Structures**\n",
        "\n",
        "Packages can be nested to any depth, allowing for complex hierarchies in large projects. For example:\n",
        "\n",
        "```plaintext\n",
        "my_project/\n",
        "│\n",
        "├── __init__.py\n",
        "├── utils/\n",
        "│   ├── __init__.py\n",
        "│   ├── file_utils.py\n",
        "│   └── data_utils.py\n",
        "└── algorithms/\n",
        "    ├── __init__.py\n",
        "    ├── sorting.py\n",
        "    └── searching.py\n",
        "```\n",
        "\n",
        "In this structure:\n",
        "- `utils/` and `algorithms/` are sub-packages within the `my_project` package.\n",
        "- Each sub-package has its own modules and can be imported and used accordingly.\n",
        "\n",
        "### **Importing from Nested Packages**\n",
        "\n",
        "You can import from nested packages using dot notation:\n",
        "\n",
        "```python\n",
        "from my_project.utils.file_utils import some_function\n",
        "from my_project.algorithms.sorting import quicksort\n",
        "```\n",
        "\n",
        "### **Distributing Packages [ADVANCE]**\n",
        "\n",
        "When your package is ready to be shared with others, you can distribute it via Python’s package index (PyPI) using tools like `setuptools`. This allows other developers to install your package using `pip`.\n",
        "\n",
        "### **Summary**\n",
        "\n",
        "- **Packages** are directories containing one or more Python modules and an `__init__.py` file.\n",
        "- They allow you to organize your code into separate namespaces, making large projects easier to manage.\n",
        "- Packages can be nested, creating a hierarchy of modules that can be imported and used in various parts of your application.\n",
        "- **Using packages** enhances code reusability, maintainability, and scalability in Python projects."
      ],
      "metadata": {
        "id": "db8xa8-oAIe1"
      }
    },
    {
      "cell_type": "markdown",
      "source": [
        "### **Project: Simulated Weather App**"
      ],
      "metadata": {
        "id": "xinK76wTAv60"
      }
    },
    {
      "cell_type": "markdown",
      "source": [
        "We'll simulate weather data in the `fetch.py` module, process it, and display the results using other modules.\n",
        "\n",
        "#### **Directory Structure**\n",
        "\n",
        "```plaintext\n",
        "weather_app/\n",
        "│\n",
        "├── weather_app/\n",
        "│   ├── __init__.py\n",
        "│   ├── data/\n",
        "│   │   ├── __init__.py\n",
        "│   │   ├── fetch.py\n",
        "│   │   ├── process.py\n",
        "│   └── display/\n",
        "│       ├── __init__.py\n",
        "│       ├── format.py\n",
        "│       ├── show.py\n",
        "│\n",
        "└── main.py\n",
        "```\n",
        "\n",
        "#### **1. The `weather_app/` Directory (Package)**\n",
        "\n",
        "This is the main package for the weather app. Inside it, we have two sub-packages: `data` and `display`.\n",
        "\n",
        "##### **`__init__.py`**\n",
        "\n",
        "The `__init__.py` files make the directories `weather_app/`, `data/`, and `display/` recognized as Python packages. These files can be empty or used to initialize package-level variables or imports.\n",
        "\n",
        "#### **2. The `data/` Sub-Package**\n",
        "\n",
        "This package handles fetching and processing weather data.\n",
        "\n",
        "##### **`fetch.py` (Module)**\n",
        "\n",
        "Instead of fetching real data, this module will simulate weather data.\n",
        "\n",
        "```python\n",
        "# weather_app/data/fetch.py\n",
        "\n",
        "import random\n",
        "\n",
        "def fetch_weather_data(location):\n",
        "    # Simulate fetching weather data for a location\n",
        "    print(f\"Fetching simulated weather data for {location}...\")\n",
        "    \n",
        "    simulated_data = {\n",
        "        \"location\": location,\n",
        "        \"temperature\": random.randint(-10, 40),  # Simulate temperature between -10°C and 40°C\n",
        "        \"condition\": random.choice([\"Sunny\", \"Cloudy\", \"Rainy\", \"Snowy\"]),\n",
        "    }\n",
        "    \n",
        "    return simulated_data\n",
        "```\n",
        "\n",
        "#### **`process.py` (Module)**\n",
        "\n",
        "This module will process the fetched data.\n",
        "\n",
        "```python\n",
        "# weather_app/data/process.py\n",
        "\n",
        "def process_weather_data(weather_data):\n",
        "    # Simulate processing the fetched data\n",
        "    processed_data = {\n",
        "        \"location\": weather_data[\"location\"],\n",
        "        \"temperature_celsius\": weather_data[\"temperature\"],\n",
        "        \"temperature_fahrenheit\": weather_data[\"temperature\"] * 9/5 + 32,\n",
        "        \"condition\": weather_data[\"condition\"],\n",
        "    }\n",
        "    return processed_data\n",
        "```\n",
        "\n",
        "#### **3. The `display/` Sub-Package**\n",
        "\n",
        "This package is responsible for formatting and displaying the weather information.\n",
        "\n",
        "##### **`format.py` (Module)**\n",
        "\n",
        "This module will format the processed weather data.\n",
        "\n",
        "```python\n",
        "# weather_app/display/format.py\n",
        "\n",
        "def format_weather_data(processed_data):\n",
        "    # Format the weather data for display\n",
        "    formatted_data = (\n",
        "        f\"Weather in {processed_data['location']}:\\n\"\n",
        "        f\"Condition: {processed_data['condition']}\\n\"\n",
        "        f\"Temperature: {processed_data['temperature_celsius']}°C / \"\n",
        "        f\"{processed_data['temperature_fahrenheit']}°F\"\n",
        "    )\n",
        "    return formatted_data\n",
        "```\n",
        "\n",
        "##### **`show.py` (Module)**\n",
        "\n",
        "This module will handle displaying the formatted weather data.\n",
        "\n",
        "```python\n",
        "# weather_app/display/show.py\n",
        "\n",
        "def display_weather(formatted_data):\n",
        "    # Display the formatted weather data\n",
        "    print(formatted_data)\n",
        "```\n",
        "\n",
        "#### **4. The `main.py` Script**\n",
        "\n",
        "This is the entry point of the application. It ties together the modules from different packages to fetch, process, and display the weather data.\n",
        "\n",
        "```python\n",
        "# main.py\n",
        "\n",
        "from weather_app.data.fetch import fetch_weather_data\n",
        "from weather_app.data.process import process_weather_data\n",
        "from weather_app.display.format import format_weather_data\n",
        "from weather_app.display.show import display_weather\n",
        "\n",
        "def main():\n",
        "    location = \"New York\"\n",
        "    weather_data = fetch_weather_data(location)\n",
        "    processed_data = process_weather_data(weather_data)\n",
        "    formatted_data = format_weather_data(processed_data)\n",
        "    display_weather(formatted_data)\n",
        "\n",
        "if __name__ == \"__main__\":\n",
        "    main()\n",
        "```\n",
        "\n",
        "#### **How to Run the Project**\n",
        "\n",
        "1. Create the directory structure as shown above.\n",
        "2. Place the code in the appropriate files.\n",
        "3. Run the `main.py` script.\n",
        "\n",
        "#### **Sample Output**:\n",
        "```\n",
        "Fetching simulated weather data for New York...\n",
        "Weather in New York:\n",
        "Condition: Sunny\n",
        "Temperature: 25°C / 77.0°F\n",
        "```\n",
        "\n",
        "#### **Summary**\n",
        "\n",
        "This simplified weather app project demonstrates how to structure a Python application using packages and modules. By simulating data instead of using a real API, we keep the example simple while still providing a practical understanding of how to organize and build modular Python code."
      ],
      "metadata": {
        "id": "feDgbOSs_1jw"
      }
    },
    {
      "cell_type": "markdown",
      "source": [
        "## Python Package Index (PyPI) and `pip`"
      ],
      "metadata": {
        "id": "3Syy6evoo8oa"
      }
    },
    {
      "cell_type": "markdown",
      "source": [
        "#### **What is PyPI?**\n",
        "- **PyPI**: The Python Package Index is the official repository for third-party Python packages. It hosts thousands of libraries that you can easily install and use in your projects.\n",
        "\n",
        "#### **What is `pip`?**\n",
        "- **`pip`**: `pip` is the package installer for Python. It allows you to install, update, and manage Python packages from PyPI or other sources.\n",
        "\n",
        "#### **Why Use PyPI and `pip`?**\n",
        "- **Access to a vast library of packages**: PyPI offers thousands of packages for various tasks, including web development, data analysis, machine learning, and more.\n",
        "- **Simplifies dependency management**: `pip` makes it easy to install and manage the packages your project depends on.\n",
        "\n",
        "#### **Basic `pip` Commands**\n",
        "\n",
        "1. **Install a Package**:\n",
        "   ```bash\n",
        "   pip install package_name\n",
        "   ```\n",
        "   - Example: `pip install requests` installs the `requests` package for making HTTP requests.\n",
        "\n",
        "2. **Upgrade a Package**:\n",
        "   ```bash\n",
        "   pip install --upgrade package_name\n",
        "   ```\n",
        "   - Example: `pip install --upgrade numpy` upgrades the `numpy` package to the latest version.\n",
        "\n",
        "3. **Uninstall a Package**:\n",
        "   ```bash\n",
        "   pip uninstall package_name\n",
        "   ```\n",
        "   - Example: `pip uninstall flask` removes the `flask` package from your environment.\n",
        "\n",
        "4. **List Installed Packages**:\n",
        "   ```bash\n",
        "   pip list\n",
        "   ```\n",
        "   - Displays all packages currently installed in your environment.\n",
        "\n",
        "5. **Freeze Requirements**:\n",
        "   ```bash\n",
        "   pip freeze > requirements.txt\n",
        "   ```\n",
        "   - Generates a `requirements.txt` file listing all installed packages and their versions. This file can be shared to recreate the environment.\n",
        "\n",
        "6. **Install from `requirements.txt`**:\n",
        "   ```bash\n",
        "   pip install -r requirements.txt\n",
        "   ```\n",
        "   - Installs all the packages listed in a `requirements.txt` file, often used for setting up a project’s environment.\n",
        "\n",
        "#### **Key Benefits**\n",
        "- **Easy Package Management**: `pip` simplifies the process of installing and managing Python packages.\n",
        "- **Reproducibility**: Using `requirements.txt` ensures that other developers or environments can replicate the exact package setup.\n",
        "- **Community and Support**: PyPI hosts a wide range of packages, many of which are actively maintained and supported by the Python community.\n",
        "\n",
        "### Summary\n",
        "PyPI and `pip` are essential tools for Python developers, providing access to a vast ecosystem of third-party packages and simplifying the management of project dependencies. Whether you're building web applications, analyzing data, or exploring machine learning, `pip` and PyPI are integral to your workflow."
      ],
      "metadata": {
        "id": "9ipNFoN5ovBg"
      }
    }
  ]
}