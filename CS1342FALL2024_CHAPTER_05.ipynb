{
  "nbformat": 4,
  "nbformat_minor": 0,
  "metadata": {
    "colab": {
      "provenance": [],
      "collapsed_sections": [
        "vi2NRFipA-W9",
        "-2KPDxpHFWyN",
        "07j7c8IjJ8Dm",
        "YxZe6xWfKAzn",
        "0125pFWvSr9j",
        "DzbXsNOaStro",
        "aACnn1LTPnDY",
        "x0XHZQKsUrB8",
        "w_tauK0YVYHM",
        "pyE7D60XVfCy",
        "BGedK7GQVuxn",
        "NPXP8nu1V5Qg",
        "ruAqj2EqWYpo",
        "9WwfPso5WwTl",
        "hwTAw5vVW4vu",
        "CUgqcQfGXMIQ",
        "ls9KWcgOYfvf",
        "F1Dp_5BYYqDZ",
        "Id6HRyEDY4pq",
        "0Q9WGo1fZYh4"
      ],
      "include_colab_link": true
    },
    "kernelspec": {
      "name": "python3",
      "display_name": "Python 3"
    },
    "language_info": {
      "name": "python"
    }
  },
  "cells": [
    {
      "cell_type": "markdown",
      "metadata": {
        "id": "view-in-github",
        "colab_type": "text"
      },
      "source": [
        "<a href=\"https://colab.research.google.com/github/RaMR0y/Machine-Learning/blob/Python-Basics/CS1342FALL2024_CHAPTER_05.ipynb\" target=\"_parent\"><img src=\"https://colab.research.google.com/assets/colab-badge.svg\" alt=\"Open In Colab\"/></a>"
      ]
    },
    {
      "cell_type": "markdown",
      "source": [
        "# CONTROL FLOW: 1. Conditionals\n"
      ],
      "metadata": {
        "id": "bWyeceup_P7Y"
      }
    },
    {
      "cell_type": "markdown",
      "source": [
        "### Understanding Conditional Statements: Job Application Screening Example\n",
        "\n",
        "Imagine you're an HR manager responsible for screening job applications. You need to decide which candidates move forward in the hiring process based on their qualifications:\n",
        "\n",
        "- **If** the candidate has a relevant degree and 5+ years of experience, they qualify for an interview.\n",
        "- **If** the candidate has a relevant degree but less than 5 years of experience, they qualify for a preliminary phone screen.\n",
        "- **If** the candidate lacks a relevant degree but has significant experience or certifications, they qualify for further review.\n",
        "- **Otherwise**, the candidate is not selected.\n",
        "\n",
        "### **Why Conditional Statements Are Needed**\n",
        "\n",
        "In this scenario, your decision to advance a candidate depends on specific conditions:\n",
        "\n",
        "- **Relevant degree + 5+ years of experience** -> Invite for an interview.\n",
        "- **Relevant degree + less than 5 years of experience** -> Phone screen.\n",
        "- **No degree but strong experience/certifications** -> Further review.\n",
        "- **Otherwise** -> Not selected.\n",
        "\n",
        "Without considering these conditions, you might overlook qualified candidates or waste time on those who don’t meet the requirements.\n",
        "\n",
        "### **The Need for Conditional Statements in Programming**\n",
        "\n",
        "Just as you screen job applicants based on their qualifications, programs use conditional statements to make decisions based on specific criteria. For example:\n",
        "\n",
        "- **In an applicant tracking system**, the program might automatically sort and filter candidates based on their qualifications.\n",
        "- **In an automated email system**, the program might decide which email template to send based on the candidate's status in the application process."
      ],
      "metadata": {
        "id": "vqslrtTXSE4b"
      }
    },
    {
      "cell_type": "markdown",
      "source": [
        "## 1.1 **'match'** statement"
      ],
      "metadata": {
        "id": "yg_DLfem_0GX"
      }
    },
    {
      "cell_type": "markdown",
      "source": [
        "### Python `match` Statement Cheat Sheet\n",
        "\n",
        "The `match` statement in Python, introduced in Python 3.10, is a powerful control flow structure that allows pattern matching against a value. It is similar to switch-case statements in other languages but with more advanced capabilities.\n",
        "\n",
        "---\n",
        "\n",
        "### **Basic Syntax**\n",
        "\n",
        "```python\n",
        "match value:\n",
        "    case pattern1:\n",
        "        # Code block for pattern1\n",
        "    case pattern2:\n",
        "        # Code block for pattern2\n",
        "    case _:\n",
        "        # Default case (optional)\n",
        "```\n",
        "\n",
        "- **value**: The value or expression you are matching against.\n",
        "- **pattern**: A specific structure or value to match. The underscore (`_`) acts as a wildcard (similar to \"default\" in switch-case)."
      ],
      "metadata": {
        "id": "Bs8UVKWwALBF"
      }
    },
    {
      "cell_type": "markdown",
      "source": [
        "### **Simple Value Matching**"
      ],
      "metadata": {
        "id": "EKaOtY7eChfX"
      }
    },
    {
      "cell_type": "code",
      "source": [
        "import random\n",
        "codes = [200, 404, 500, 0]\n",
        "status = random.choice(codes) #Randomly picks one of the codes\n",
        "\n",
        "match status:\n",
        "    case 200:\n",
        "        print(\"OK\")\n",
        "    case 404:\n",
        "        print(\"Not Found\")\n",
        "    case 500:\n",
        "        print(\"Server Error\")\n",
        "    case _:\n",
        "        print(\"Unknown Status\")"
      ],
      "metadata": {
        "colab": {
          "base_uri": "https://localhost:8080/"
        },
        "id": "COH5xaVNAWfL",
        "outputId": "f570af95-a55a-4b9e-b67e-6f72f617cfac"
      },
      "execution_count": null,
      "outputs": [
        {
          "output_type": "stream",
          "name": "stdout",
          "text": [
            "Server Error\n"
          ]
        }
      ]
    },
    {
      "cell_type": "markdown",
      "source": [
        "\n",
        "### **Matching Multiple Values**\n"
      ],
      "metadata": {
        "id": "cyDwDlqoAVXu"
      }
    },
    {
      "cell_type": "code",
      "source": [
        "value = int(input(\"Enter the value: \")) # What happens if we do not conver this to int?\n",
        "match value:\n",
        "    case 1 | 2 | 3:\n",
        "        print(\"Value is 1, 2, or 3\")\n",
        "    case _:\n",
        "        print(\"Other value\")\n"
      ],
      "metadata": {
        "colab": {
          "base_uri": "https://localhost:8080/"
        },
        "id": "t6zv4gckAbcA",
        "outputId": "9f3a1964-7ebd-4b69-d932-2f6686ec9f84"
      },
      "execution_count": null,
      "outputs": [
        {
          "output_type": "stream",
          "name": "stdout",
          "text": [
            "Enter the value: 1\n",
            "Value is 1, 2, or 3\n"
          ]
        }
      ]
    },
    {
      "cell_type": "markdown",
      "source": [
        "### **Destructuring with Tuples**\n"
      ],
      "metadata": {
        "id": "JcOlUYU4AaTU"
      }
    },
    {
      "cell_type": "code",
      "source": [
        "point = (10, 2)\n",
        "\n",
        "match point:\n",
        "    case (0, 0):\n",
        "        print(\"Origin\")\n",
        "    case (x, 0):\n",
        "        print(f\"On the X-axis at {x}\")\n",
        "    case (0, y):\n",
        "        print(f\"On the Y-axis at {y}\")\n",
        "    case (x, y):\n",
        "        print(f\"Point at ({x}, {y})\")\n",
        "    case _:\n",
        "        print(\"No match\")"
      ],
      "metadata": {
        "colab": {
          "base_uri": "https://localhost:8080/"
        },
        "id": "CAkcMMczAzUJ",
        "outputId": "071b1e2f-15c1-4962-b613-c61e4af025b5"
      },
      "execution_count": null,
      "outputs": [
        {
          "output_type": "stream",
          "name": "stdout",
          "text": [
            "Point at (10, 2)\n"
          ]
        }
      ]
    },
    {
      "cell_type": "markdown",
      "source": [
        "### **Matching Dictionary Keys**\n"
      ],
      "metadata": {
        "id": "9rKwp0YNAxta"
      }
    },
    {
      "cell_type": "code",
      "source": [
        "data = {\"type\": \"circle\", \"radius\": 5}\n",
        "\n",
        "match data:\n",
        "    case {\"type\": \"circle\", \"radius\": r}:\n",
        "        print(f\"Circle with radius {r}\")\n",
        "    case {\"type\": \"square\", \"side\": s}:\n",
        "        print(f\"Square with side {s}\")\n",
        "    case _:\n",
        "        print(\"Unknown shape\")"
      ],
      "metadata": {
        "colab": {
          "base_uri": "https://localhost:8080/"
        },
        "id": "O12gzsTvA7h3",
        "outputId": "1c6cc665-4b31-4689-f2b5-77fe44e6aa03"
      },
      "execution_count": null,
      "outputs": [
        {
          "output_type": "stream",
          "name": "stdout",
          "text": [
            "Circle with radius 5\n"
          ]
        }
      ]
    },
    {
      "cell_type": "markdown",
      "source": [
        "### **Matching with Guards (Conditions)**\n",
        "\n"
      ],
      "metadata": {
        "id": "9z5upoivA6tF"
      }
    },
    {
      "cell_type": "code",
      "source": [
        "number = 10\n",
        "\n",
        "match number:\n",
        "    case n if n > 0:\n",
        "        print(\"Positive number\")\n",
        "    case n if n < 0:\n",
        "        print(\"Negative number\")\n",
        "    case _:\n",
        "        print(\"Zero\")"
      ],
      "metadata": {
        "colab": {
          "base_uri": "https://localhost:8080/"
        },
        "id": "gmyJL7y1A_Hy",
        "outputId": "52707e5b-084f-4ff0-93e1-acb03ed2142d"
      },
      "execution_count": null,
      "outputs": [
        {
          "output_type": "stream",
          "name": "stdout",
          "text": [
            "Positive number\n"
          ]
        }
      ]
    },
    {
      "cell_type": "markdown",
      "source": [
        "### **Wildcard Pattern (`_`)**\n",
        "\n",
        "- **Usage**: The `_` pattern matches anything and is often used as a fallback.\n",
        "  \n"
      ],
      "metadata": {
        "id": "vi2NRFipA-W9"
      }
    },
    {
      "cell_type": "code",
      "source": [
        "command = \"Continue\"\n",
        "match command:\n",
        "    case \"start\":\n",
        "        print(\"Starting\")\n",
        "    case \"stop\":\n",
        "        print(\"Stopping\")\n",
        "    case _:\n",
        "        print(\"Unknown command\")"
      ],
      "metadata": {
        "colab": {
          "base_uri": "https://localhost:8080/"
        },
        "id": "eB7m_AcyBS3j",
        "outputId": "ecc776dd-1f05-4ecd-ee90-0becc68778dd"
      },
      "execution_count": null,
      "outputs": [
        {
          "output_type": "stream",
          "name": "stdout",
          "text": [
            "Unknown command\n"
          ]
        }
      ]
    },
    {
      "cell_type": "markdown",
      "source": [
        "### **Key Takeaways**\n",
        "\n",
        "- **`match`**: Similar to switch-case in other languages, but more powerful with pattern matching.\n",
        "- **Patterns**: Can be simple values, tuples, lists, dictionaries, or custom patterns.\n",
        "- **Wildcard `_`**: Acts as a catch-all for unmatched cases.\n",
        "- **Guards**: Use conditions (`if`) to further refine pattern matching."
      ],
      "metadata": {
        "id": "-CALLZ0uBXpb"
      }
    },
    {
      "cell_type": "code",
      "source": [],
      "metadata": {
        "id": "MiRJ0zoB_Tw-"
      },
      "execution_count": null,
      "outputs": []
    },
    {
      "cell_type": "markdown",
      "source": [
        "## 1.2 **if-elif-else** statement"
      ],
      "metadata": {
        "id": "RZ4m0RG5CrtR"
      }
    },
    {
      "cell_type": "markdown",
      "source": [
        "### **Basic Syntax**\n",
        "\n",
        "```python\n",
        "if condition1:\n",
        "    # Code block for condition1\n",
        "elif condition2:\n",
        "    # Code block for condition2\n",
        "else:\n",
        "    # Code block if no conditions are met\n",
        "```\n",
        "\n",
        "- **`if`**: Evaluates the first condition. If `True`, its block is executed.\n",
        "- **`elif`**: (short for \"else if\") Evaluates another condition if the previous ones are `False`.\n",
        "- **`else`**: Executes when none of the above conditions are `True`.\n",
        "\n"
      ],
      "metadata": {
        "id": "X07Oq-vtDh1J"
      }
    },
    {
      "cell_type": "markdown",
      "source": [
        "### **Simple Example**"
      ],
      "metadata": {
        "id": "FcSEdqIzDrR2"
      }
    },
    {
      "cell_type": "code",
      "source": [
        "age = 9999\n",
        "\n",
        "if age < 18:\n",
        "    print(\"You are a minor.\")\n",
        "elif age < 65:\n",
        "    print(\"You are an adult.\")\n",
        "elif age < 120:\n",
        "    print(\"You are a senior.\")\n",
        "else:\n",
        "    print(\"You are DEAD Duhh!\")"
      ],
      "metadata": {
        "colab": {
          "base_uri": "https://localhost:8080/"
        },
        "id": "36NRK3ErDu-0",
        "outputId": "6871118d-7f9c-4345-96c2-9bc85fb3926b"
      },
      "execution_count": null,
      "outputs": [
        {
          "output_type": "stream",
          "name": "stdout",
          "text": [
            "You are DEAD Duhh!\n"
          ]
        }
      ]
    },
    {
      "cell_type": "markdown",
      "source": [
        "\n",
        "**Explanation**:\n",
        "- Checks if `age` is less than 18, prints \"You are a minor.\"\n",
        "- If not, it checks if `age` is less than 65, prints \"You are an adult.\"\n",
        "- Otherwise, it prints \"You are a senior.\"\n",
        "\n"
      ],
      "metadata": {
        "id": "BR2GVqksDs1y"
      }
    },
    {
      "cell_type": "markdown",
      "source": [
        "### **Multiple Conditions Example**\n"
      ],
      "metadata": {
        "id": "2EYfzfEkDx8b"
      }
    },
    {
      "cell_type": "code",
      "source": [
        "score = 95\n",
        "\n",
        "if score >= 90:\n",
        "    print(\"Grade: A\")\n",
        "elif score >= 80:\n",
        "    print(\"Grade: B\")\n",
        "elif score >= 70:\n",
        "    print(\"Grade: C\")\n",
        "else:\n",
        "    print(\"Grade: F\")"
      ],
      "metadata": {
        "colab": {
          "base_uri": "https://localhost:8080/"
        },
        "id": "v62Ti--0D2Sp",
        "outputId": "768caced-597c-4435-eabe-1637c84f6038"
      },
      "execution_count": null,
      "outputs": [
        {
          "output_type": "stream",
          "name": "stdout",
          "text": [
            "Grade: B\n"
          ]
        }
      ]
    },
    {
      "cell_type": "markdown",
      "source": [
        "**Explanation**:\n",
        "- Checks if `score` is 90 or above, prints \"Grade: A\".\n",
        "- If not, checks if `score` is 80 or above, prints \"Grade: B\".\n",
        "- If not, checks if `score` is 70 or above, prints \"Grade: C\".\n",
        "- If none of the conditions are met, prints \"Grade: F\".\n"
      ],
      "metadata": {
        "id": "1n5U_AvHD0lf"
      }
    },
    {
      "cell_type": "markdown",
      "source": [
        "### **Handling Multiple Conditions**\n",
        "\n"
      ],
      "metadata": {
        "id": "uRt-N-_kD4hz"
      }
    },
    {
      "cell_type": "code",
      "source": [
        "temperature = 30\n",
        "\n",
        "if temperature > 35:\n",
        "    print(\"It's really hot!\")\n",
        "elif 25 <= temperature <= 35:\n",
        "    print(\"It's warm.\")\n",
        "else:\n",
        "    print(\"It's cool.\")"
      ],
      "metadata": {
        "colab": {
          "base_uri": "https://localhost:8080/"
        },
        "id": "Bm7BOm8cD9v1",
        "outputId": "3d0093d4-a712-427a-a6cf-784f5045c3d7"
      },
      "execution_count": null,
      "outputs": [
        {
          "output_type": "stream",
          "name": "stdout",
          "text": [
            "It's warm.\n"
          ]
        }
      ]
    },
    {
      "cell_type": "markdown",
      "source": [
        "**Explanation**:\n",
        "- Checks if `temperature` is greater than 35, prints \"It's really hot!\"\n",
        "- If not, checks if `temperature` is between 25 and 35 (inclusive), prints \"It's warm.\"\n",
        "- Otherwise, prints \"It's cool.\"\n",
        "\n"
      ],
      "metadata": {
        "id": "a4c1xznKD8O_"
      }
    },
    {
      "cell_type": "markdown",
      "source": [
        "### **Using `else` Only**\n"
      ],
      "metadata": {
        "id": "Vx4lkmsgEBKd"
      }
    },
    {
      "cell_type": "code",
      "source": [
        "password = \"open123\"\n",
        "\n",
        "if password == \"secret123\":\n",
        "    print(\"Access granted\")\n",
        "else:\n",
        "    print(\"Access denied\")"
      ],
      "metadata": {
        "colab": {
          "base_uri": "https://localhost:8080/"
        },
        "id": "QZaDQoSNEFQx",
        "outputId": "5fdc29c9-2278-4714-d717-01644cf1584f"
      },
      "execution_count": null,
      "outputs": [
        {
          "output_type": "stream",
          "name": "stdout",
          "text": [
            "Access denied\n"
          ]
        }
      ]
    },
    {
      "cell_type": "markdown",
      "source": [
        "**Explanation**:\n",
        "- Checks if `password` matches \"secret123\", prints \"Access granted\".\n",
        "- If not, prints \"Access denied\".\n",
        "\n"
      ],
      "metadata": {
        "id": "Ek-5Gi1bED4M"
      }
    },
    {
      "cell_type": "markdown",
      "source": [
        "### **Key Takeaways**\n",
        "\n",
        "- **`if`**: Starts the conditional check.\n",
        "- **`elif`**: Adds additional conditions if the first `if` is `False`.\n",
        "- **`else`**: Provides a fallback if none of the conditions are `True`.\n",
        "- **Order Matters**: Conditions are checked in order, and the first `True` condition's block is executed."
      ],
      "metadata": {
        "id": "HLWq-BJmEKiu"
      }
    },
    {
      "cell_type": "markdown",
      "source": [
        "### Concise Comparison: Multiple `if` vs. Chained `if-elif-else`"
      ],
      "metadata": {
        "id": "mFH4ywHJERhr"
      }
    },
    {
      "cell_type": "markdown",
      "source": [
        "#### **Multiple `if` Statements**\n",
        "- **Behavior**: Each `if` condition is checked independently.\n",
        "- **Execution**: Multiple blocks can run if multiple conditions are `True`.\n",
        "- **Use Case**: When conditions are independent, and you want multiple actions to occur.\n",
        "\n",
        "**Example**:\n"
      ],
      "metadata": {
        "id": "y7grNomvENZ3"
      }
    },
    {
      "cell_type": "code",
      "source": [
        "temperature = 30\n",
        "\n",
        "if temperature > 25:\n",
        "    print(\"It's warm.\")\n",
        "if temperature > 20:\n",
        "    print(\"It's a nice day.\")\n",
        "if temperature > 15:\n",
        "    print(\"It's mild outside.\")"
      ],
      "metadata": {
        "colab": {
          "base_uri": "https://localhost:8080/"
        },
        "id": "J4cCjrQeEYf7",
        "outputId": "6a1793c4-479f-4600-9cdb-cce919755a06"
      },
      "execution_count": null,
      "outputs": [
        {
          "output_type": "stream",
          "name": "stdout",
          "text": [
            "It's warm.\n",
            "It's a nice day.\n",
            "It's mild outside.\n"
          ]
        }
      ]
    },
    {
      "cell_type": "markdown",
      "source": [
        "**Output**: All conditions are `True`, so all messages print."
      ],
      "metadata": {
        "id": "tBELlFHDEbHC"
      }
    },
    {
      "cell_type": "markdown",
      "source": [
        "---\n",
        "\n",
        "#### **Chained `if-elif-else`**\n",
        "- **Behavior**: Conditions are checked in sequence; the first `True` condition stops further checks.\n",
        "- **Execution**: Only one block runs, corresponding to the first matching condition.\n",
        "- **Use Case**: When conditions are mutually exclusive, and only one action should occur.\n",
        "\n",
        "**Example**:\n"
      ],
      "metadata": {
        "id": "qNV7V6oeEXjm"
      }
    },
    {
      "cell_type": "code",
      "source": [
        "temperature = 30\n",
        "\n",
        "if temperature > 25:\n",
        "    print(\"It's warm.\")\n",
        "elif temperature > 20:\n",
        "    print(\"It's a nice day.\")\n",
        "elif temperature > 15:\n",
        "    print(\"It's mild outside.\")\n",
        "else:\n",
        "    print(\"It's cool.\")"
      ],
      "metadata": {
        "colab": {
          "base_uri": "https://localhost:8080/"
        },
        "id": "XqshLdodEeVS",
        "outputId": "ecf98efe-7eba-4283-d1a5-280c9551a391"
      },
      "execution_count": null,
      "outputs": [
        {
          "output_type": "stream",
          "name": "stdout",
          "text": [
            "It's warm.\n"
          ]
        }
      ]
    },
    {
      "cell_type": "markdown",
      "source": [
        "**Output**: \"It's warm.\" prints, as the first condition is `True`.\n",
        "\n",
        "---\n",
        "\n"
      ],
      "metadata": {
        "id": "Ja3LN6kTEdYr"
      }
    },
    {
      "cell_type": "markdown",
      "source": [
        "### **Key Points**\n",
        "- **Multiple `if`**: For independent checks, allowing multiple actions.\n",
        "- **`if-elif-else`**: For exclusive conditions, ensuring only one action."
      ],
      "metadata": {
        "id": "hm6Cg4kuEgk7"
      }
    },
    {
      "cell_type": "markdown",
      "source": [
        "## EXAMPLES : Nested Conditionals and Fun examples"
      ],
      "metadata": {
        "id": "4w2fOLleFQBJ"
      }
    },
    {
      "cell_type": "markdown",
      "source": [
        "Certainly! Let's start with the decision tables for each example, followed by the corresponding Python code.\n",
        "\n",
        "---\n",
        "\n",
        "### **Example 1: Employee Bonus Calculation**\n",
        "\n",
        "**Decision Table**:\n",
        "\n",
        "| Performance         | Years of Service         | Bonus ($)      |\n",
        "|---------------------|--------------------------|----------------|\n",
        "| Excellent           | > 3                      | 1000           |\n",
        "| Excellent           | ≤ 3                      | 500            |\n",
        "| Good                | > 3                      | 600            |\n",
        "| Good                | ≤ 3                      | 300            |\n",
        "| Any Other           | Any                      | 100            |\n",
        "\n",
        "\n",
        "**Code**:\n"
      ],
      "metadata": {
        "id": "-2KPDxpHFWyN"
      }
    },
    {
      "cell_type": "code",
      "source": [
        "performance = random.choice([\"Excellent\", \"Good\", \"Worse\", \"Bad\"])\n",
        "years_of_service = random.randint(0, 10)\n",
        "\n",
        "if performance == \"Excellent\":\n",
        "    if years_of_service > 3:\n",
        "        bonus = 1000\n",
        "    else:\n",
        "        bonus = 500\n",
        "elif performance == \"Good\":\n",
        "    if years_of_service > 3:\n",
        "        bonus = 600\n",
        "    else:\n",
        "        bonus = 300\n",
        "else:\n",
        "    bonus = 100\n",
        "\n",
        "print(f\"Employee Bonus: ${bonus}, Employee Performance: {performance}, Employee Years: {years_of_service}\")"
      ],
      "metadata": {
        "colab": {
          "base_uri": "https://localhost:8080/"
        },
        "id": "O3zwpmeBJ9aj",
        "outputId": "b209768b-b6b5-4c08-c8bc-aa022bbc002b"
      },
      "execution_count": null,
      "outputs": [
        {
          "output_type": "stream",
          "name": "stdout",
          "text": [
            "Employee Bonus: $600, Employee Performance: Good, Employee Years: 10\n"
          ]
        }
      ]
    },
    {
      "cell_type": "markdown",
      "source": [
        "---\n",
        "\n",
        "### **Example 2: Admission Eligibility**\n",
        "\n",
        "**Decision Table**:\n",
        "\n",
        "| Test Score | Extracurriculars | Admission Status            |\n",
        "|------------|------------------|-----------------------------|\n",
        "| ≥ 90       | Any              | Accepted with Scholarship   |\n",
        "| 75 - 89    | Yes              | Accepted                    |\n",
        "| 75 - 89    | No               | Waitlisted                  |\n",
        "| < 75       | Any              | Rejected                    |\n",
        "\n",
        "\n",
        "**Code**:\n"
      ],
      "metadata": {
        "id": "07j7c8IjJ8Dm"
      }
    },
    {
      "cell_type": "code",
      "source": [
        "test_score = 85\n",
        "extracurriculars = True\n",
        "\n",
        "if test_score >= 90:\n",
        "    admission = \"Accepted with Scholarship\"\n",
        "elif test_score >= 75:\n",
        "    if extracurriculars:\n",
        "        admission = \"Accepted\"\n",
        "    else:\n",
        "        admission = \"Waitlisted\"\n",
        "else:\n",
        "    admission = \"Rejected\"\n",
        "\n",
        "print(f\"Admission Status: {admission}\")"
      ],
      "metadata": {
        "colab": {
          "base_uri": "https://localhost:8080/"
        },
        "id": "zMnxLwnFKBs9",
        "outputId": "5cc897e1-f234-490a-e0b0-2d65aa678f63"
      },
      "execution_count": null,
      "outputs": [
        {
          "output_type": "stream",
          "name": "stdout",
          "text": [
            "Admission Status: Accepted\n"
          ]
        }
      ]
    },
    {
      "cell_type": "markdown",
      "source": [
        "---\n",
        "\n",
        "### **Example 3: Product Pricing Based on Category and Demand**\n",
        "\n",
        "**Decision Table**:\n",
        "\n",
        "\n",
        "| Category          | Demand       | Price($) |\n",
        "|-------------------|--------------|----------|\n",
        "| Electronics       | High         | 1200     |\n",
        "| Electronics       | Low          | 1000     |\n",
        "| Clothing          | High         | 100      |\n",
        "| Clothing          | Low          | 80       |\n",
        "| Any Other         | Any          | 50       |\n",
        "\n",
        "\n",
        "**Code**:\n"
      ],
      "metadata": {
        "id": "YxZe6xWfKAzn"
      }
    },
    {
      "cell_type": "code",
      "source": [
        "category = \"Electronics\"\n",
        "demand = \"High\"\n",
        "\n",
        "if category == \"Electronics\":\n",
        "    if demand == \"High\":\n",
        "        price = 1200\n",
        "    else:\n",
        "        price = 1000\n",
        "elif category == \"Clothing\":\n",
        "    if demand == \"High\":\n",
        "        price = 100\n",
        "    else:\n",
        "        price = 80\n",
        "else:\n",
        "    price = 50\n",
        "\n",
        "print(f\"Product Price: ${price}\")"
      ],
      "metadata": {
        "colab": {
          "base_uri": "https://localhost:8080/"
        },
        "id": "p_EmMkVhKLlj",
        "outputId": "b36f78a8-176a-475a-840f-20cf358e561b"
      },
      "execution_count": null,
      "outputs": [
        {
          "output_type": "stream",
          "name": "stdout",
          "text": [
            "Product Price: $1200\n"
          ]
        }
      ]
    },
    {
      "cell_type": "markdown",
      "source": [
        "---\n",
        "\n",
        "### **Example 4: Travel Recommendations**\n",
        "\n",
        "**Decision Table**:\n",
        "\n",
        "| Weather | Time Available | Recommendation         |\n",
        "|---------|----------------|------------------------|\n",
        "| Sunny   | Full day       | Go for a hike          |\n",
        "| Sunny   | Partial day    | Visit a park           |\n",
        "| Rainy   | Full day       | Visit a museum         |\n",
        "| Rainy   | Partial day    | Watch a movie          |\n",
        "| Any     | Any            | Stay at home and read a book |\n",
        "\n",
        "**Code**:"
      ],
      "metadata": {
        "id": "KnGd8Uq7KKyM"
      }
    },
    {
      "cell_type": "code",
      "source": [
        "weather = \"Sunny\"\n",
        "time_available = \"Full day\"\n",
        "\n",
        "if weather == \"Sunny\":\n",
        "    if time_available == \"Full day\":\n",
        "        recommendation = \"Go for a hike\"\n",
        "    else:\n",
        "        recommendation = \"Visit a park\"\n",
        "elif weather == \"Rainy\":\n",
        "    if time_available == \"Full day\":\n",
        "        recommendation = \"Visit a museum\"\n",
        "    else:\n",
        "        recommendation = \"Watch a movie\"\n",
        "else:\n",
        "    recommendation = \"Stay at home and read a book\"\n",
        "\n",
        "print(f\"Recommendation: {recommendation}\")"
      ],
      "metadata": {
        "colab": {
          "base_uri": "https://localhost:8080/"
        },
        "id": "Ix7lBs64FSuP",
        "outputId": "f40b5154-4974-49b8-d7f5-5fca668e7a23"
      },
      "execution_count": null,
      "outputs": [
        {
          "output_type": "stream",
          "name": "stdout",
          "text": [
            "Recommendation: Go for a hike\n"
          ]
        }
      ]
    },
    {
      "cell_type": "code",
      "source": [],
      "metadata": {
        "id": "GEHdO2AeKQR1"
      },
      "execution_count": null,
      "outputs": []
    },
    {
      "cell_type": "markdown",
      "source": [
        "## 1.3 Ternary Operator"
      ],
      "metadata": {
        "id": "HS6gti9yUWgR"
      }
    },
    {
      "cell_type": "markdown",
      "source": [
        "The ternary operator in Python is a concise way to express conditional statements. It allows you to make decisions and assign values based on conditions in a single line of code. This is particularly useful when you want to simplify `if-else` statements for readability and efficiency.\n",
        "\n",
        "---\n",
        "\n",
        "### **Basic Syntax**\n",
        "\n",
        "```python\n",
        "value = true_expression if condition else false_expression\n",
        "```\n",
        "\n",
        "- **`true_expression`**: The value or expression to use if the condition is `True`.\n",
        "- **`condition`**: The condition being evaluated.\n",
        "- **`false_expression`**: The value or expression to use if the condition is `False`.\n",
        "\n",
        "---\n",
        "\n"
      ],
      "metadata": {
        "id": "YzR6k-0CSW2f"
      }
    },
    {
      "cell_type": "markdown",
      "source": [
        "## EXAMPLES : Ternary Operator"
      ],
      "metadata": {
        "id": "_io5jmfUUDOD"
      }
    },
    {
      "cell_type": "markdown",
      "source": [
        "### **Example 1: Checking Eligibility for a Discount**\n",
        "\n",
        "**Scenario**: You want to apply a discount based on a customer’s total purchase amount. If the total is over $100, they get a 10% discount; otherwise, no discount.\n"
      ],
      "metadata": {
        "id": "rZ06XO2BSny7"
      }
    },
    {
      "cell_type": "code",
      "source": [
        "# expr_when_true if condition else expr_when_false\n",
        "\n",
        "total_purchase = 120\n",
        "discount = 0.1 * total_purchase if total_purchase > 100 else 0\n",
        "print(f\"The discount is ${discount:.2f}\")"
      ],
      "metadata": {
        "colab": {
          "base_uri": "https://localhost:8080/"
        },
        "id": "TE95Sk1-S2xg",
        "outputId": "b5a13adc-aaca-4135-f9c6-76752143c0ff"
      },
      "execution_count": null,
      "outputs": [
        {
          "output_type": "stream",
          "name": "stdout",
          "text": [
            "The discount is $12.00\n"
          ]
        }
      ]
    },
    {
      "cell_type": "markdown",
      "source": [
        "**Explanation**:\n",
        "- If `total_purchase` is greater than 100, `discount` is set to 0.1 (10%).\n",
        "- Otherwise, `discount` is set to 0.\n",
        "\n",
        "---\n"
      ],
      "metadata": {
        "id": "ZvvH1T0tS1hZ"
      }
    },
    {
      "cell_type": "markdown",
      "source": [
        "### **Example 2: Determining Pass or Fail**\n",
        "\n",
        "**Scenario**: You want to quickly determine if a student passed based on their score. A score of 50 or more is a pass.\n",
        "\n"
      ],
      "metadata": {
        "id": "0125pFWvSr9j"
      }
    },
    {
      "cell_type": "code",
      "source": [
        "score = 95\n",
        "result = \"Pass\" if score >= 50 else \"Fail\"\n",
        "print(f\"The student is {result}.\")"
      ],
      "metadata": {
        "colab": {
          "base_uri": "https://localhost:8080/"
        },
        "id": "w8rMah_eTGHB",
        "outputId": "a32c93d9-31d2-47b4-851d-8d3e6bd5c6ff"
      },
      "execution_count": null,
      "outputs": [
        {
          "output_type": "stream",
          "name": "stdout",
          "text": [
            "The student is Pass.\n"
          ]
        }
      ]
    },
    {
      "cell_type": "markdown",
      "source": [
        "**Explanation**:\n",
        "- If `score` is 50 or more, `result` is set to \"Pass\".\n",
        "- Otherwise, `result` is set to \"Fail\".\n",
        "\n",
        "---\n"
      ],
      "metadata": {
        "id": "W-6u3_5aTFNt"
      }
    },
    {
      "cell_type": "markdown",
      "source": [
        "### **Example 3: Setting Default Values**\n",
        "\n",
        "**Scenario**: You want to assign a value to a variable, but only if it hasn't already been set.\n",
        "\n"
      ],
      "metadata": {
        "id": "DzbXsNOaStro"
      }
    },
    {
      "cell_type": "markdown",
      "source": [
        "**Explanation**:\n",
        "- If `user_input` is not `None`, `value` is set to `user_input`.\n",
        "- Otherwise, `value` is set to \"Default Value\"."
      ],
      "metadata": {
        "id": "IRgacYkYTRor"
      }
    },
    {
      "cell_type": "code",
      "source": [
        "default_value = 999\n",
        "user_input = None # Lets assume the user_input is a None Value\n",
        "value = user_input if user_input is not None else default_value\n",
        "print(f\"The value is {value}\")"
      ],
      "metadata": {
        "colab": {
          "base_uri": "https://localhost:8080/"
        },
        "id": "QUGdR71VTSg1",
        "outputId": "38fb9134-9f32-42ff-b2de-2fdcbdb61e92"
      },
      "execution_count": null,
      "outputs": [
        {
          "output_type": "stream",
          "name": "stdout",
          "text": [
            "The value is 999\n"
          ]
        }
      ]
    },
    {
      "cell_type": "code",
      "source": [
        "# Advance Stuff: Above can be done with something like following\n",
        "default_value = 999\n",
        "user_input = None # Lets assume the user_input is a None Value\n",
        "value = user_input or default_value\n",
        "print(f\"The value is {value} when we had user_input = None\")"
      ],
      "metadata": {
        "colab": {
          "base_uri": "https://localhost:8080/"
        },
        "id": "4KbXFHkYThWE",
        "outputId": "cad26897-abaa-4f36-ae61-d830f274e9f1"
      },
      "execution_count": null,
      "outputs": [
        {
          "output_type": "stream",
          "name": "stdout",
          "text": [
            "The value is 999 when we had user_input = None\n"
          ]
        }
      ]
    },
    {
      "cell_type": "code",
      "source": [
        "user_input = 33 # Now Lets change the user_input to some value\n",
        "value = user_input or default_value\n",
        "print(f\"The value is {value} when we had user_input != None\")"
      ],
      "metadata": {
        "colab": {
          "base_uri": "https://localhost:8080/"
        },
        "id": "kEAjG4PVT6tH",
        "outputId": "af532c94-880f-404c-b041-68b05765b5ef"
      },
      "execution_count": null,
      "outputs": [
        {
          "output_type": "stream",
          "name": "stdout",
          "text": [
            "The value is 33 when we had user_input != None\n"
          ]
        }
      ]
    },
    {
      "cell_type": "markdown",
      "source": [
        "# CONTROL FLOW: 2. Loops"
      ],
      "metadata": {
        "id": "GwylMamoKfwP"
      }
    },
    {
      "cell_type": "markdown",
      "source": [
        "### Automating Repetitive Tasks in Engineering: A Concise Example\n",
        "\n",
        "Imagine you're a civil engineer, responsible for ensuring that concrete beams used in a construction project meet the required strength standards. To do this, you need to calculate the average compressive strength of concrete samples from multiple construction sites.\n",
        "\n",
        "### **The Problem with Manual Calculations**\n",
        "\n",
        "You receive data from several sites:\n",
        "\n",
        "- **Site A**: 32 MPa, 34 MPa, 33 MPa\n",
        "- **Site B**: 30 MPa, 31 MPa, 29 MPa, 32 MPa\n",
        "- **Site C**: 35 MPa, 36 MPa, 34 MPa\n",
        "\n",
        "Calculating the average strength for each site manually is manageable with a few sites, but as the number of sites grows, this becomes time-consuming and prone to errors.\n",
        "\n",
        "### **Why Automate?**\n",
        "\n",
        "Automation ensures that you can handle data from dozens or hundreds of sites efficiently and accurately. Instead of manually repeating the same calculation for each site, you let the computer do it:\n",
        "\n",
        "1. **Set up the calculation process once**.\n",
        "2. **Let the computer repeat it** for each site's data.\n",
        "\n",
        "### **Intuitive Example**\n",
        "\n",
        "Think of it like quality control in a factory. Instead of manually inspecting each product, machines automate the checks. Similarly, in programming, loops automate repetitive calculations, ensuring accuracy and saving time."
      ],
      "metadata": {
        "id": "_JDeTcJUMCNN"
      }
    },
    {
      "cell_type": "markdown",
      "source": [
        "## 2.1 **for** loop"
      ],
      "metadata": {
        "id": "RsVwLokWKjxm"
      }
    },
    {
      "cell_type": "markdown",
      "source": [
        "### Python `for` Loop Cheat Sheet\n",
        "\n",
        "A `for` loop in Python is used to iterate over a sequence (like a list, tuple, dictionary, or string) and perform a set of actions repeatedly. This is especially useful for automating repetitive tasks, like those described in our engineering examples.\n",
        "\n",
        "---\n",
        "\n",
        "### **Basic `for` Loop Pattern**\n",
        "\n",
        "```python\n",
        "for item in sequence:\n",
        "    # Perform actions with item\n",
        "```\n",
        "\n",
        "- **`item`**: Represents the current element in the sequence during each iteration.\n",
        "- **`sequence`**: The collection of items you want to iterate over (e.g., a list of numbers, a string, etc.).\n",
        "\n",
        "---\n"
      ],
      "metadata": {
        "id": "rMfLEziFN4XU"
      }
    },
    {
      "cell_type": "markdown",
      "source": [
        "## EXAMPLES : For Loops"
      ],
      "metadata": {
        "id": "0g8SuSjBROdd"
      }
    },
    {
      "cell_type": "markdown",
      "source": [
        "### **Project 1: Calculating Average Compressive Strengths**"
      ],
      "metadata": {
        "id": "-Rl889LMOIeI"
      }
    },
    {
      "cell_type": "markdown",
      "source": [
        "**Task**: Calculate the average compressive strength for each construction site and print the report.\n",
        "\n",
        "**Scenario**:\n",
        "You have compressive strength data for multiple sites. You need to automate the calculation of average strength for each site.\n",
        "\n",
        "**Code**:"
      ],
      "metadata": {
        "id": "o1YTw89HOHmR"
      }
    },
    {
      "cell_type": "code",
      "source": [
        "strength_data = {\n",
        "    \"Site A\": [32, 34, 33],\n",
        "    \"Site B\": [30, 31, 29, 32],\n",
        "    \"Site C\": [35, 36, 34],\n",
        "}\n",
        "\n",
        "for site, strengths in strength_data.items():\n",
        "    average_strength = sum(strengths) / len(strengths)\n",
        "    print(f\"{site} Average Strength: {average_strength} MPa\")"
      ],
      "metadata": {
        "colab": {
          "base_uri": "https://localhost:8080/"
        },
        "id": "hUd-jbzDN-9r",
        "outputId": "a05b5e30-efac-40da-8c8c-69b90a2be424"
      },
      "execution_count": null,
      "outputs": [
        {
          "output_type": "stream",
          "name": "stdout",
          "text": [
            "Site A Average Strength: 33.0 MPa\n",
            "Site B Average Strength: 30.5 MPa\n",
            "Site C Average Strength: 35.0 MPa\n"
          ]
        }
      ]
    },
    {
      "cell_type": "code",
      "source": [
        "# What happens if i ignore '.items()'\n",
        "for item in strength_data:\n",
        "  strengths = strength_data[item]\n",
        "  average_strength = sum(strengths)/len(strengths)\n",
        "  print(f\"{item} Average Strength: {average_strength} MPa\")"
      ],
      "metadata": {
        "colab": {
          "base_uri": "https://localhost:8080/"
        },
        "id": "izpFwjC74UmB",
        "outputId": "4f29cfa9-1654-4a5f-d0d8-60ad3b3816bf"
      },
      "execution_count": null,
      "outputs": [
        {
          "output_type": "stream",
          "name": "stdout",
          "text": [
            "Site A Average Strength: 33.0 MPa\n",
            "Site B Average Strength: 30.5 MPa\n",
            "Site C Average Strength: 35.0 MPa\n"
          ]
        }
      ]
    },
    {
      "cell_type": "code",
      "source": [
        "# What happens if i ignore '.keys()'\n",
        "for item in strength_data.keys():\n",
        "  print(item)"
      ],
      "metadata": {
        "colab": {
          "base_uri": "https://localhost:8080/"
        },
        "id": "YDP9puqN4hQ-",
        "outputId": "0261d0a5-d786-4263-acdb-bcb61bcba891"
      },
      "execution_count": null,
      "outputs": [
        {
          "output_type": "stream",
          "name": "stdout",
          "text": [
            "Site A\n",
            "Site B\n",
            "Site C\n"
          ]
        }
      ]
    },
    {
      "cell_type": "code",
      "source": [
        "# What happens if i ignore '.values()'\n",
        "for item in strength_data.values():\n",
        "  print(item)"
      ],
      "metadata": {
        "colab": {
          "base_uri": "https://localhost:8080/"
        },
        "id": "7Gjj0Dhj4jqk",
        "outputId": "d22773df-98ce-4661-86ff-6b5213756ce0"
      },
      "execution_count": null,
      "outputs": [
        {
          "output_type": "stream",
          "name": "stdout",
          "text": [
            "[32, 34, 33]\n",
            "[30, 31, 29, 32]\n",
            "[35, 36, 34]\n"
          ]
        }
      ]
    },
    {
      "cell_type": "code",
      "source": [],
      "metadata": {
        "id": "0PCMs7hQ4mAV"
      },
      "execution_count": null,
      "outputs": []
    },
    {
      "cell_type": "markdown",
      "source": [
        "**Explanation**:\n",
        "- The `for` loop iterates over each site in `strength_data`.\n",
        "- For each site, it calculates the average compressive strength and prints the result."
      ],
      "metadata": {
        "id": "PUpG45WuOL1C"
      }
    },
    {
      "cell_type": "markdown",
      "source": [
        "# New Section"
      ],
      "metadata": {
        "id": "1ZlvTivI2OUS"
      }
    },
    {
      "cell_type": "markdown",
      "source": [
        "---\n",
        "\n",
        "### **Project 2: Generating a Report for Engineering Sites**\n"
      ],
      "metadata": {
        "id": "4mo4s_rYN-Lq"
      }
    },
    {
      "cell_type": "markdown",
      "source": [
        "**Task**: Print a report summarizing whether each site meets the required strength standards.\n",
        "\n",
        "**Scenario**:\n",
        "Let's say the required average strength is 32 MPa.\n",
        "\n",
        "**Using a `for` Loop**:\n"
      ],
      "metadata": {
        "id": "vzLgyF3VOOPr"
      }
    },
    {
      "cell_type": "code",
      "source": [
        "required_strength = 33\n",
        "\n",
        "for site, strengths in strength_data.items():\n",
        "    average_strength = sum(strengths) / len(strengths)\n",
        "    if average_strength >= required_strength:\n",
        "        print(f\"{site}: Passes (Average Strength: {average_strength} MPa)\")\n",
        "    else:\n",
        "        print(f\"{site}: Fails (Average Strength: {average_strength} MPa)\")"
      ],
      "metadata": {
        "colab": {
          "base_uri": "https://localhost:8080/"
        },
        "id": "g1NjWP8EOSrw",
        "outputId": "c29838ee-931a-41af-efc6-4681b880e06b"
      },
      "execution_count": null,
      "outputs": [
        {
          "output_type": "stream",
          "name": "stdout",
          "text": [
            "Site A: Passes (Average Strength: 33.0 MPa)\n",
            "Site B: Fails (Average Strength: 30.5 MPa)\n",
            "Site C: Passes (Average Strength: 35.0 MPa)\n"
          ]
        }
      ]
    },
    {
      "cell_type": "markdown",
      "source": [
        "**Explanation**:\n",
        "- The `for` loop iterates over each site and calculates the average strength.\n",
        "- It then checks if the average meets the required strength and prints whether the site passes or fails."
      ],
      "metadata": {
        "id": "aI0p4wSbORaD"
      }
    },
    {
      "cell_type": "markdown",
      "source": [
        "### **Project 3: Inventory Check for Production Line**\n",
        "\n",
        "**Objective**: Check if the inventory levels for each production line meet the minimum required levels.\n",
        "\n",
        "**Scenario**:\n",
        "You have inventory data for different production lines and need to ensure that each line has enough of each required item.\n",
        "\n"
      ],
      "metadata": {
        "id": "wCxQ794cPApS"
      }
    },
    {
      "cell_type": "code",
      "source": [
        "inventory = {\n",
        "    \"Line A\": {\"screws\": 150, \"bolts\": 80, \"washers\": 50},\n",
        "    \"Line B\": {\"screws\": 100, \"bolts\": 60, \"washers\": 40},\n",
        "}\n",
        "min_requirements = {\"screws\": 120, \"bolts\": 75, \"washers\": 45}\n",
        "\n",
        "for line, items in inventory.items():              # l-\"Line A\", i = {150..}\n",
        "    status = \"Pass\"                                #\n",
        "    for item, quantity in items.items():           #\n",
        "        if quantity < min_requirements[item]:      #\n",
        "            status = \"Fail\"                        #\n",
        "            break                                  #\n",
        "    print(f\"{line}: {status}\")                     #"
      ],
      "metadata": {
        "colab": {
          "base_uri": "https://localhost:8080/"
        },
        "id": "Ids9L12_PoGs",
        "outputId": "a02fb600-218c-4fdb-922c-eb85747e1ed6"
      },
      "execution_count": null,
      "outputs": [
        {
          "output_type": "stream",
          "name": "stdout",
          "text": [
            "Line A: Pass\n",
            "Line B: Fail\n"
          ]
        }
      ]
    },
    {
      "cell_type": "markdown",
      "source": [
        "---\n",
        "### **Project 4: Daily Production Summary**\n",
        "\n",
        "**Objective**: Summarize the daily production counts for different machines.\n",
        "\n",
        "**Scenario**:\n",
        "You have production counts for various machines over several days and need to calculate the total output for each machine.\n",
        "\n"
      ],
      "metadata": {
        "id": "aACnn1LTPnDY"
      }
    },
    {
      "cell_type": "code",
      "source": [
        "production_data = {\n",
        "    \"Machine 1\": [100, 110, 120],\n",
        "    \"Machine 2\": [80, 85, 90],\n",
        "    \"Machine 3\": [95, 100, 105],\n",
        "}\n",
        "\n",
        "for machine, counts in production_data.items():\n",
        "    total_production = sum(counts)\n",
        "    print(f\"{machine} Total Production: {total_production} units\")"
      ],
      "metadata": {
        "colab": {
          "base_uri": "https://localhost:8080/"
        },
        "id": "xF9FV6PxPwTN",
        "outputId": "c06d7d7d-fed7-48be-f8df-c4f9fe4c63ee"
      },
      "execution_count": null,
      "outputs": [
        {
          "output_type": "stream",
          "name": "stdout",
          "text": [
            "Machine 1 Total Production: 330 units\n",
            "Machine 2 Total Production: 255 units\n",
            "Machine 3 Total Production: 300 units\n"
          ]
        }
      ]
    },
    {
      "cell_type": "markdown",
      "source": [
        "## 2.2 **while** loops"
      ],
      "metadata": {
        "id": "x0XHZQKsUrB8"
      }
    },
    {
      "cell_type": "markdown",
      "source": [
        "A `while` loop in Python repeatedly executes a block of code as long as a given condition is `True`. It’s useful for situations where you don’t know in advance how many times you need to repeat the action.\n",
        "\n",
        "---\n",
        "\n",
        "### **Basic Syntax**\n",
        "\n",
        "```python\n",
        "while condition:\n",
        "    # Code block to execute\n",
        "```\n",
        "\n",
        "- **`condition`**: The loop continues as long as this condition is `True`.\n",
        "- **Code block**: The set of statements that are executed with each iteration.\n",
        "\n",
        "---\n",
        "\n"
      ],
      "metadata": {
        "id": "y3AN7fU8VVIS"
      }
    },
    {
      "cell_type": "markdown",
      "source": [
        "### **Example 1: Counting Down**\n",
        "\n",
        "**Scenario**: You want to count down from 5 to 1 and then stop.\n"
      ],
      "metadata": {
        "id": "w_tauK0YVYHM"
      }
    },
    {
      "cell_type": "code",
      "source": [
        "count = 5\n",
        "\n",
        "while count > 0:\n",
        "    print(count)\n",
        "    count -= 1 # count = count + 1"
      ],
      "metadata": {
        "colab": {
          "base_uri": "https://localhost:8080/"
        },
        "id": "NaeZ3Zl-Vcov",
        "outputId": "07d627da-b6cc-43b3-8c91-1e757f420797"
      },
      "execution_count": null,
      "outputs": [
        {
          "output_type": "stream",
          "name": "stdout",
          "text": [
            "5\n",
            "4\n",
            "3\n",
            "2\n",
            "1\n"
          ]
        }
      ]
    },
    {
      "cell_type": "markdown",
      "source": [
        "\n",
        "**Explanation**:\n",
        "- The loop continues as long as `count` is greater than 0.\n",
        "- `count -= 1` decreases the value of `count` with each iteration.\n",
        "\n",
        "---\n"
      ],
      "metadata": {
        "id": "opa6O8o4VbJF"
      }
    },
    {
      "cell_type": "markdown",
      "source": [
        "### **Example 2: Waiting for User Input**\n",
        "\n",
        "**Scenario**: You keep asking the user to input a correct password until they get it right.\n"
      ],
      "metadata": {
        "id": "pyE7D60XVfCy"
      }
    },
    {
      "cell_type": "code",
      "source": [
        "password = \"\"\n",
        "\n",
        "while password != \"secret\":\n",
        "    password = input(\"Enter the password: \")"
      ],
      "metadata": {
        "colab": {
          "base_uri": "https://localhost:8080/"
        },
        "id": "MNEGQj6rVl1-",
        "outputId": "d5e90890-46f7-481c-b382-7f8c3e56a133"
      },
      "execution_count": null,
      "outputs": [
        {
          "name": "stdout",
          "output_type": "stream",
          "text": [
            "Enter the password: kldajfla\n",
            "Enter the password: dkjafl\n",
            "Enter the password: kaldjsflka\n",
            "Enter the password: ldakfjlakdsjfa\n",
            "Enter the password: jdaklfjladk\n",
            "Enter the password: adfadfljhal\n",
            "Enter the password: dflkdjaf\n",
            "Enter the password: ldkafsjlkdsa\n",
            "Enter the password: secret\n"
          ]
        }
      ]
    },
    {
      "cell_type": "markdown",
      "source": [
        "**Explanation**:\n",
        "- The loop keeps running until the user inputs the correct password, `\"secret\"`.\n",
        "- Once the correct password is entered, the loop stops.\n",
        "\n",
        "---\n"
      ],
      "metadata": {
        "id": "9rOnKKhiVko9"
      }
    },
    {
      "cell_type": "markdown",
      "source": [
        "### **Example 3: Summing Numbers**\n",
        "\n",
        "**Scenario**: You want to sum numbers entered by the user until they enter `0`.\n",
        "\n"
      ],
      "metadata": {
        "id": "BGedK7GQVuxn"
      }
    },
    {
      "cell_type": "code",
      "source": [
        "total = 0\n",
        "number = int(input(\"Enter a number (0 to stop): \"))\n",
        "\n",
        "while number != 0:\n",
        "    total += number\n",
        "    number = int(input(\"Enter a number (0 to stop): \"))\n",
        "\n",
        "print(\"Total sum:\", total)"
      ],
      "metadata": {
        "colab": {
          "base_uri": "https://localhost:8080/"
        },
        "id": "PEVsoUgHVzCq",
        "outputId": "191cb1e6-bd6e-4d1a-aa06-24f548444ab4"
      },
      "execution_count": null,
      "outputs": [
        {
          "output_type": "stream",
          "name": "stdout",
          "text": [
            "Enter a number (0 to stop): 2\n",
            "Enter a number (0 to stop): 5\n",
            "Enter a number (0 to stop): 1\n",
            "Enter a number (0 to stop): 3\n",
            "Enter a number (0 to stop): 0\n",
            "Total sum: 11\n"
          ]
        }
      ]
    },
    {
      "cell_type": "markdown",
      "source": [
        "**Explanation**:\n",
        "- The loop continues to add numbers to `total` until the user enters `0`.\n",
        "- Once `0` is entered, the loop stops, and the total sum is printed.\n",
        "---\n",
        "\n"
      ],
      "metadata": {
        "id": "X_pOD4GsVyDJ"
      }
    },
    {
      "cell_type": "markdown",
      "source": [
        "### **Infinite Loops**\n",
        "\n",
        "Be cautious with `while` loops. If the condition never becomes `False`, the loop will run forever:\n",
        "\n"
      ],
      "metadata": {
        "id": "NPXP8nu1V5Qg"
      }
    },
    {
      "cell_type": "code",
      "source": [
        "while True:\n",
        "    print(\"This will run forever!\")"
      ],
      "metadata": {
        "id": "QmMAX68aV9se"
      },
      "execution_count": null,
      "outputs": []
    },
    {
      "cell_type": "markdown",
      "source": [
        "**Avoiding Infinite Loops**:\n",
        "- Ensure the loop has a condition that will eventually become `False`.\n",
        "- Use `break` to exit the loop manually if needed. [We will discuss this later]\n",
        "\n",
        "---\n",
        "\n",
        "### **Key Points**\n",
        "\n",
        "- **Repetition**: Use `while` loops when you need to repeat an action but don’t know in advance how many times.\n",
        "- **Condition**: The loop continues as long as the condition is `True`.\n",
        "- **Break the Loop**: Ensure that the loop condition can be met or use `break` to avoid infinite loops."
      ],
      "metadata": {
        "id": "YZ0yzkN1V8qB"
      }
    },
    {
      "cell_type": "markdown",
      "source": [
        "## 2.3 **break** & **continue**"
      ],
      "metadata": {
        "id": "ruAqj2EqWYpo"
      }
    },
    {
      "cell_type": "markdown",
      "source": [
        "#### **`break` Statement**\n",
        "- **Purpose**: Immediately exits the loop, stopping any further iterations.\n",
        "- **Use Case**: When you’ve found what you’re looking for or need to exit the loop early.\n",
        "\n"
      ],
      "metadata": {
        "id": "9WwfPso5WwTl"
      }
    },
    {
      "cell_type": "markdown",
      "source": [
        "**Example in a `while` loop**:\n"
      ],
      "metadata": {
        "id": "2GKv17JqWzSr"
      }
    },
    {
      "cell_type": "code",
      "source": [
        "while True:\n",
        "    user_input = input(\"Enter something (or 'stop' to end): \")\n",
        "    if user_input == \"stop\":\n",
        "        break  # Exits the loop if the user types 'stop'"
      ],
      "metadata": {
        "id": "87b8lhOXXC01"
      },
      "execution_count": null,
      "outputs": []
    },
    {
      "cell_type": "markdown",
      "source": [
        "**Example in a `for` loop**:\n"
      ],
      "metadata": {
        "id": "w94qlo9MW1rZ"
      }
    },
    {
      "cell_type": "code",
      "source": [
        "for number in range(10):\n",
        "    if number == 5:\n",
        "        break  # Exits the loop when number equals 5\n",
        "    print(number)"
      ],
      "metadata": {
        "id": "Lf9zVP-1XFXx"
      },
      "execution_count": null,
      "outputs": []
    },
    {
      "cell_type": "markdown",
      "source": [
        "---\n",
        "\n"
      ],
      "metadata": {
        "id": "CtPxzpjuXEtI"
      }
    },
    {
      "cell_type": "markdown",
      "source": [
        "#### **`continue` Statement**\n",
        "- **Purpose**: Skips the current iteration and moves to the next one.\n",
        "- **Use Case**: When you want to skip certain conditions but continue looping.\n",
        "\n"
      ],
      "metadata": {
        "id": "hwTAw5vVW4vu"
      }
    },
    {
      "cell_type": "markdown",
      "source": [
        "**Example in a `while` loop**:\n"
      ],
      "metadata": {
        "id": "BX_JLWahW6cV"
      }
    },
    {
      "cell_type": "code",
      "source": [
        "count = 0\n",
        "\n",
        "while count < 5:\n",
        "    count += 1\n",
        "    if count == 3:\n",
        "        continue  # Skips printing when count equals 3\n",
        "    print(count)"
      ],
      "metadata": {
        "id": "IIZwnBeGXJFm"
      },
      "execution_count": null,
      "outputs": []
    },
    {
      "cell_type": "markdown",
      "source": [
        "**Example in a `for` loop**:\n"
      ],
      "metadata": {
        "id": "GcdXgaVIW-tV"
      }
    },
    {
      "cell_type": "code",
      "source": [
        "for number in range(5):\n",
        "    if number == 2:\n",
        "        continue  # Skips printing when number equals 2\n",
        "    print(number)"
      ],
      "metadata": {
        "id": "uiWFOcBTXNEa"
      },
      "execution_count": null,
      "outputs": []
    },
    {
      "cell_type": "markdown",
      "source": [
        "---\n",
        "\n",
        "### **Key Points**\n",
        "- **`break`**: Stops the loop entirely.\n",
        "- **`continue`**: Skips the rest of the current iteration and continues with the next one.\n",
        "\n",
        "These statements provide more control over the flow of loops, helping to manage complex conditions and optimize your code's execution."
      ],
      "metadata": {
        "id": "CUgqcQfGXMIQ"
      }
    },
    {
      "cell_type": "code",
      "source": [],
      "metadata": {
        "id": "9x83Lnp2Wbco"
      },
      "execution_count": null,
      "outputs": []
    },
    {
      "cell_type": "markdown",
      "source": [
        "# Everything Everywhere All at Once"
      ],
      "metadata": {
        "id": "ls9KWcgOYfvf"
      }
    },
    {
      "cell_type": "markdown",
      "source": [
        "## Project 1: Mechanical Component Selection and Cost Estimation\n",
        "\n",
        "**Objective**: Automate the selection of mechanical components based on specifications and estimate the total cost for a project.\n",
        "\n",
        "#### **Scenario**:\n",
        "You are tasked with selecting mechanical components (like gears, bolts, and bearings) based on specific requirements for a machine design. The selection is based on load capacity and material type. After selecting the components, you need to calculate the total cost.\n",
        "\n",
        "#### **Project Workflow**:\n",
        "\n",
        "1. **Component Database**: A dictionary storing available components with their specifications and prices.\n",
        "2. **User Input**: Get the required load capacity and material type.\n",
        "3. **Component Selection**: Use loops and conditional statements to select the right components.\n",
        "4. **Cost Estimation**: Calculate the total cost based on the selected components.\n"
      ],
      "metadata": {
        "id": "F1Dp_5BYYqDZ"
      }
    },
    {
      "cell_type": "code",
      "source": [
        "# Step 1: Component Database\n",
        "components = {\n",
        "    \"gears\": [\n",
        "        {\"type\": \"Steel\", \"load_capacity\": 500, \"price\": 50},\n",
        "        {\"type\": \"Aluminum\", \"load_capacity\": 300, \"price\": 30},\n",
        "        {\"type\": \"Titanium\", \"load_capacity\": 800, \"price\": 100}\n",
        "    ],\n",
        "    \"bolts\": [\n",
        "        {\"type\": \"Steel\", \"load_capacity\": 200, \"price\": 10},\n",
        "        {\"type\": \"Aluminum\", \"load_capacity\": 100, \"price\": 5},\n",
        "        {\"type\": \"Titanium\", \"load_capacity\": 400, \"price\": 20}\n",
        "    ],\n",
        "    \"bearings\": [\n",
        "        {\"type\": \"Steel\", \"load_capacity\": 1000, \"price\": 75},\n",
        "        {\"type\": \"Aluminum\", \"load_capacity\": 600, \"price\": 50},\n",
        "        {\"type\": \"Titanium\", \"load_capacity\": 1500, \"price\": 150}\n",
        "    ]\n",
        "}\n",
        "\n",
        "# Step 2: User Input\n",
        "required_load = int(input(\"Enter the required load capacity: \"))\n",
        "material_type = input(\"Enter the material type (Steel, Aluminum, Titanium): \")\n",
        "\n",
        "# Step 3: Component Selection\n",
        "selected_components = []\n",
        "total_cost = 0\n",
        "\n",
        "for component_type, options in components.items():\n",
        "    for component in options:\n",
        "        if component[\"type\"] == material_type and component[\"load_capacity\"] >= required_load:\n",
        "            selected_components.append(f\"{component_type} ({material_type}, {component['load_capacity']}kg)\")\n",
        "            total_cost += component[\"price\"]\n",
        "            break  # Select the first suitable component and move on to the next component type\n",
        "\n",
        "# Step 4: Cost Estimation and Output\n",
        "if selected_components:\n",
        "    print(f\"\\nSelected Components:\")\n",
        "    for component in selected_components:\n",
        "        print(f\"- {component}\")\n",
        "    print(f\"\\nTotal Cost: ${total_cost:.2f}\")\n",
        "else:\n",
        "    print(\"\\nNo suitable components found for the given specifications.\")"
      ],
      "metadata": {
        "colab": {
          "base_uri": "https://localhost:8080/"
        },
        "id": "KjQfzzHaY9nh",
        "outputId": "9b3f5902-d289-4512-9e8a-7935ab1893fe"
      },
      "execution_count": null,
      "outputs": [
        {
          "output_type": "stream",
          "name": "stdout",
          "text": [
            "Enter the required load capacity: 400\n",
            "Enter the material type (Steel, Aluminum, Titanium): Titanium\n",
            "\n",
            "Selected Components:\n",
            "- gears (Titanium, 800kg)\n",
            "- bolts (Titanium, 400kg)\n",
            "- bearings (Titanium, 1500kg)\n",
            "\n",
            "Total Cost: $270.00\n"
          ]
        }
      ]
    },
    {
      "cell_type": "markdown",
      "source": [
        "**Key Concepts**:\n",
        "- **Dictionary**: To store component data.\n",
        "- **If-else Statements**: To filter components based on material type and load capacity.\n",
        "- **For Loop**: To iterate through components and select the appropriate ones.\n",
        "- **String Manipulation and f-strings**: For user-friendly output.\n",
        "---\n"
      ],
      "metadata": {
        "id": "s4grylHnYwbf"
      }
    },
    {
      "cell_type": "markdown",
      "source": [
        "## Project 2: Heat Exchanger Design Validation and Cost Calculation\n",
        "\n",
        "**Objective**: Validate the design parameters of a heat exchanger and estimate the cost based on selected materials and dimensions.\n",
        "\n",
        "#### **Scenario**:\n",
        "You need to validate whether the design parameters of a heat exchanger meet the required thermal performance. After validation, calculate the cost based on the selected materials and dimensions.\n",
        "\n",
        "#### **Project Workflow**:\n",
        "\n",
        "1. **Material and Dimension Database**: A dictionary storing available materials with their thermal conductivity and cost per unit length.\n",
        "2. **User Input**: Get the required thermal conductivity and length of the heat exchanger.\n",
        "3. **Design Validation**: Use loops and conditional statements to validate the design.\n",
        "4. **Cost Calculation**: Estimate the total cost based on the selected material and length.\n",
        "\n"
      ],
      "metadata": {
        "id": "Id6HRyEDY4pq"
      }
    },
    {
      "cell_type": "code",
      "source": [
        "# Step 1: Material and Dimension Database\n",
        "materials = {\n",
        "    \"Copper\": {\"thermal_conductivity\": 400, \"cost_per_meter\": 30},\n",
        "    \"Aluminum\": {\"thermal_conductivity\": 205, \"cost_per_meter\": 20},\n",
        "    \"Stainless Steel\": {\"thermal_conductivity\": 16, \"cost_per_meter\": 50}\n",
        "}\n",
        "\n",
        "# Step 2: User Input\n",
        "required_conductivity = int(input(\"Enter the required thermal conductivity (W/m·K): \"))\n",
        "exchanger_length = int(input(\"Enter the length of the heat exchanger (meters): \"))\n",
        "\n",
        "# Step 3: Design Validation\n",
        "valid_material = None\n",
        "\n",
        "for material, properties in materials.items():\n",
        "    if properties[\"thermal_conductivity\"] >= required_conductivity:\n",
        "        valid_material = material\n",
        "        break  # Stop searching once a valid material is found\n",
        "\n",
        "# Step 4: Cost Calculation and Output\n",
        "if valid_material:\n",
        "    material_cost = materials[valid_material][\"cost_per_meter\"]\n",
        "    total_cost = material_cost * exchanger_length\n",
        "    print(f\"\\nSelected Material: {valid_material}\")\n",
        "    print(f\"Thermal Conductivity: {materials[valid_material]['thermal_conductivity']} W/m·K\")\n",
        "    print(f\"Total Cost for {exchanger_length} meters: ${total_cost:.2f}\")\n",
        "else:\n",
        "    print(\"\\nNo suitable material found for the required thermal conductivity.\")"
      ],
      "metadata": {
        "colab": {
          "base_uri": "https://localhost:8080/"
        },
        "id": "OhZwYNUGZPaT",
        "outputId": "b24ca36f-8d4b-489d-9c12-b89e673e4a5e"
      },
      "execution_count": null,
      "outputs": [
        {
          "output_type": "stream",
          "name": "stdout",
          "text": [
            "Enter the required thermal conductivity (W/m·K): 200\n",
            "Enter the length of the heat exchanger (meters): 20\n",
            "\n",
            "Selected Material: Copper\n",
            "Thermal Conductivity: 400 W/m·K\n",
            "Total Cost for 20 meters: $600.00\n"
          ]
        }
      ]
    },
    {
      "cell_type": "markdown",
      "source": [
        "**Key Concepts**:\n",
        "- **Dictionary**: To store material properties and costs.\n",
        "- **If-else Statements and Ternary Operator**: To validate design parameters and select materials.\n",
        "- **For Loop**: To iterate through available materials and find a match.\n",
        "- **String Manipulation and f-strings**: To present the results clearly and professionally.\n",
        "---"
      ],
      "metadata": {
        "id": "sC3CRWoyZKjL"
      }
    },
    {
      "cell_type": "markdown",
      "source": [
        "### Project 3: Iterative Load Testing for Mechanical Structures\n",
        "\n",
        "**Objective**: Determine the maximum load a mechanical structure can bear before failure, given a set of incremental load increases. The load is applied iteratively, and the loop continues until the structure fails.\n",
        "\n",
        "#### **Scenario**:\n",
        "You are tasked with testing the load-bearing capacity of a new mechanical structure. The structure is subjected to increasing loads until it fails. The exact load at which the structure will fail is unknown, so you need to keep applying incremental loads until the failure condition is met.\n",
        "\n",
        "#### **Project Workflow**:\n",
        "\n",
        "1. **Initial Parameters**: Start with a low load and gradually increase it.\n",
        "2. **Load Application**: Use a `while` loop to apply the load until the structure fails.\n",
        "3. **Failure Condition**: The loop continues until the structure’s maximum capacity is exceeded.\n"
      ],
      "metadata": {
        "id": "0Q9WGo1fZYh4"
      }
    },
    {
      "cell_type": "code",
      "source": [
        "# Step 1: Initial Parameters\n",
        "initial_load = 50  # Starting load in kg\n",
        "load_increment = 10  # Incremental increase in load\n",
        "max_capacity = 300  # Assume this is the structure's theoretical maximum load capacity\n",
        "\n",
        "# Step 2: Load Application with While Loop\n",
        "current_load = initial_load\n",
        "test_results = []\n",
        "\n",
        "# Assume simple condition current_load <= max_capacity\n",
        "# simulates the structure's ability to bear load.\n",
        "# In this example, let's use a simple condition to simulate failure.\n",
        "while current_load <= max_capacity:\n",
        "    test_results.append(f\"Load applied: {current_load}kg - Structure holds.\")\n",
        "    current_load += load_increment\n",
        "\n",
        "# Step 3: Failure Detection and Output\n",
        "test_results.append(f\"Load applied: {current_load}kg - Structure failed!\")\n",
        "print(\"\\n\".join(test_results))"
      ],
      "metadata": {
        "colab": {
          "base_uri": "https://localhost:8080/"
        },
        "id": "jwfrzDU6Zuv4",
        "outputId": "246fad98-84d1-47ba-810f-e95cfbeb5f90"
      },
      "execution_count": null,
      "outputs": [
        {
          "output_type": "stream",
          "name": "stdout",
          "text": [
            "Load applied: 50kg - Structure holds.\n",
            "Load applied: 60kg - Structure holds.\n",
            "Load applied: 70kg - Structure holds.\n",
            "Load applied: 80kg - Structure holds.\n",
            "Load applied: 90kg - Structure holds.\n",
            "Load applied: 100kg - Structure holds.\n",
            "Load applied: 110kg - Structure holds.\n",
            "Load applied: 120kg - Structure holds.\n",
            "Load applied: 130kg - Structure holds.\n",
            "Load applied: 140kg - Structure holds.\n",
            "Load applied: 150kg - Structure holds.\n",
            "Load applied: 160kg - Structure holds.\n",
            "Load applied: 170kg - Structure holds.\n",
            "Load applied: 180kg - Structure holds.\n",
            "Load applied: 190kg - Structure holds.\n",
            "Load applied: 200kg - Structure holds.\n",
            "Load applied: 210kg - Structure holds.\n",
            "Load applied: 220kg - Structure holds.\n",
            "Load applied: 230kg - Structure holds.\n",
            "Load applied: 240kg - Structure holds.\n",
            "Load applied: 250kg - Structure holds.\n",
            "Load applied: 260kg - Structure holds.\n",
            "Load applied: 270kg - Structure holds.\n",
            "Load applied: 280kg - Structure holds.\n",
            "Load applied: 290kg - Structure holds.\n",
            "Load applied: 300kg - Structure holds.\n",
            "Load applied: 310kg - Structure failed!\n"
          ]
        }
      ]
    },
    {
      "cell_type": "markdown",
      "source": [
        "**Explanation**:\n",
        "- **Initial Load**: The test starts with an initial load of 50 kg.\n",
        "- **Load Increment**: The load increases by 10 kg in each iteration.\n",
        "- **While Loop**: The loop continues to apply the load until the structure fails.\n",
        "- **Failure Condition**: The structure is considered failed when the applied load exceeds its maximum capacity.\n",
        "\n",
        "---\n",
        "\n",
        "#### **Key Concepts Illustrated**:\n",
        "\n",
        "- **`while` Loop**: The loop is essential here because we don't know in advance at which load the structure will fail. The loop continues until the failure condition is met.\n",
        "- **Condition Checking**: The `apply_load` function simulates the check to see if the structure can still bear the current load.\n",
        "- **Dynamic Process**: Unlike fixed iterations in a `for` loop, the `while` loop runs an indefinite number of times, which is crucial for this type of testing scenario."
      ],
      "metadata": {
        "id": "2uQ808mNZtbZ"
      }
    },
    {
      "cell_type": "code",
      "source": [],
      "metadata": {
        "id": "mKct08HLYpVT"
      },
      "execution_count": null,
      "outputs": []
    }
  ]
}