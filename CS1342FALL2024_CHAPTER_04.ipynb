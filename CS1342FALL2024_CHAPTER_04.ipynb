{
  "nbformat": 4,
  "nbformat_minor": 0,
  "metadata": {
    "colab": {
      "provenance": [],
      "collapsed_sections": [
        "Vs70RaeLzMUd",
        "nD-T30p51j1y",
        "L57vTxZ91sr1",
        "I99EiM231_zf",
        "wBApbdZX2Ljj",
        "vrf-Gyi-5di4",
        "ERDJMsOg5pvZ",
        "tDIl0u5P55NH",
        "p2mXiJgb6BKa",
        "SJk8YlMe315I"
      ],
      "include_colab_link": true
    },
    "kernelspec": {
      "name": "python3",
      "display_name": "Python 3"
    },
    "language_info": {
      "name": "python"
    }
  },
  "cells": [
    {
      "cell_type": "markdown",
      "metadata": {
        "id": "view-in-github",
        "colab_type": "text"
      },
      "source": [
        "<a href=\"https://colab.research.google.com/github/RaMR0y/Machine-Learning/blob/Python-Basics/CS1342FALL2024_CHAPTER_04.ipynb\" target=\"_parent\"><img src=\"https://colab.research.google.com/assets/colab-badge.svg\" alt=\"Open In Colab\"/></a>"
      ]
    },
    {
      "cell_type": "markdown",
      "source": [
        "# DATA STRUCTURES II - Part-1 : Sets"
      ],
      "metadata": {
        "id": "Vs70RaeLzMUd"
      }
    },
    {
      "cell_type": "markdown",
      "source": [
        "#### **Definition of a Set**\n",
        "\n",
        "A **set** in Python is an unordered collection of unique elements. It is similar to the concept of sets in mathematics, where a set is defined as a collection of distinct objects, considered as an object in its own right. Just like mathematical sets, Python sets do not allow duplicate elements and support various operations like union, intersection, and difference, mirroring their mathematical counterparts.\n",
        "\n",
        "### **Creating Sets**\n",
        "\n",
        "- **Empty Set**:\n",
        "  ```python\n",
        "  my_set = set()  # Creates an empty set\n",
        "  print(f\"The type of my_set is {type(my_set)}\") #Prints: The type of my_set is <class 'set'>\n",
        "  ```\n",
        "\n",
        "- **Set with Initial Elements**:\n",
        "  ```python\n",
        "  my_set = {1, 2, 3, 4}  # Creates a set with elements 1, 2, 3, 4\n",
        "  ```\n",
        "\n",
        "- **From a List (Automatically Removes Duplicates)**:\n",
        "  ```python\n",
        "  my_set = set([1, 2, 3, 4, 4, 5])\n",
        "  # After: {1, 2, 3, 4, 5}\n",
        "  ```\n",
        "\n",
        "### **Adding Elements**\n",
        "\n",
        "- **Add a Single Element**:\n",
        "  ```python\n",
        "  my_set = {1, 2, 3}\n",
        "  # Before: {1, 2, 3}\n",
        "  my_set.add(4)  # Adds 4 to the set\n",
        "  # After: {1, 2, 3, 4}\n",
        "  ```\n",
        "\n",
        "- **Add Multiple Elements**:\n",
        "  ```python\n",
        "  my_set = {1, 2, 3}\n",
        "  # Before: {1, 2, 3}\n",
        "  my_set.update([4, 5, 6])  # Adds 4, 5, and 6 to the set\n",
        "  # After: {1, 2, 3, 4, 5, 6}\n",
        "  ```\n",
        "\n",
        "### **Removing Elements**\n",
        "\n",
        "- **Remove an Element (Raises KeyError if Not Found)**:\n",
        "  ```python\n",
        "  my_set = {1, 2, 3, 4}\n",
        "  # Before: {1, 2, 3, 4}\n",
        "  my_set.remove(3)  # Removes 3 from the set\n",
        "  # After: {1, 2, 4}\n",
        "  ```\n",
        "\n",
        "- **Remove an Element (No Error if Not Found)**:\n",
        "  ```python\n",
        "  my_set = {1, 2, 3, 4}\n",
        "  # Before: {1, 2, 3, 4}\n",
        "  my_set.discard(5)  # Tries to remove 5, which is not in the set\n",
        "  # After: {1, 2, 3, 4}  # No change, 5 was not present\n",
        "  ```\n",
        "\n",
        "- **Remove and Return a Random Element**:\n",
        "  ```python\n",
        "  my_set = {1, 2, 3, 4}\n",
        "  # Before: {1, 2, 3, 4}\n",
        "  removed_element = my_set.pop()  # Removes and returns a random element (e.g., 1)\n",
        "  # After: {2, 3, 4}\n",
        "  ```\n",
        "\n",
        "- **Clear All Elements**:\n",
        "  ```python\n",
        "  my_set = {1, 2, 3, 4}\n",
        "  # Before: {1, 2, 3, 4}\n",
        "  my_set.clear()  # Clears all elements from the set\n",
        "  # After: set()  # Now the set is empty\n",
        "  ```\n",
        "\n",
        "### **Set Operations**\n",
        "\n",
        "- **Union (`|`)**: Combines elements from both sets.\n",
        "  ```python\n",
        "  set1 = {1, 2, 3}\n",
        "  set2 = {3, 4, 5}\n",
        "  # Before: set1 = {1, 2, 3}, set2 = {3, 4, 5}\n",
        "  union_set = set1 | set2\n",
        "  # After: union_set = {1, 2, 3, 4, 5}\n",
        "  ```\n",
        "\n",
        "- **Intersection (`&`)**: Elements common to both sets.\n",
        "  ```python\n",
        "  set1 = {1, 2, 3}\n",
        "  set2 = {3, 4, 5}\n",
        "  # Before: set1 = {1, 2, 3}, set2 = {3, 4, 5}\n",
        "  intersection_set = set1 & set2\n",
        "  # After: intersection_set = {3}\n",
        "  ```\n",
        "\n",
        "- **Difference (`-`)**: Elements in the first set but not in the second.\n",
        "  ```python\n",
        "  set1 = {1, 2, 3}\n",
        "  set2 = {3, 4, 5}\n",
        "  # Before: set1 = {1, 2, 3}, set2 = {3, 4, 5}\n",
        "  difference_set = set1 - set2\n",
        "  # After: difference_set = {1, 2}\n",
        "  ```\n",
        "\n",
        "- **Symmetric Difference (`^`)**: Elements in either set, but not in both.\n",
        "  ```python\n",
        "  set1 = {1, 2, 3}\n",
        "  set2 = {3, 4, 5}\n",
        "  # Before: set1 = {1, 2, 3}, set2 = {3, 4, 5}\n",
        "  symmetric_difference_set = set1 ^ set2\n",
        "  # After: symmetric_difference_set = {1, 2, 4, 5}\n",
        "  ```\n",
        "\n",
        "### **Checking Membership**\n",
        "\n",
        "- **Check if an Element Exists in a Set**:\n",
        "  ```python\n",
        "  set1 = {1, 2, 3}\n",
        "  # Check if 3 is in the set\n",
        "  is_in_set = 3 in set1  # Returns True\n",
        "  ```\n",
        "\n",
        "### **Set Comparisons**\n",
        "\n",
        "- **Subset (`<=`)**: Check if one set is a subset of another.\n",
        "  ```python\n",
        "  set1 = {1, 2}\n",
        "  set2 = {1, 2, 3, 4}\n",
        "  # Check if set1 is a subset of set2\n",
        "  is_subset = set1 <= set2  # Returns True\n",
        "  ```\n",
        "\n",
        "- **Superset (`>=`)**: Check if one set is a superset of another.\n",
        "  ```python\n",
        "  set1 = {1, 2, 3, 4}\n",
        "  set2 = {1, 2}\n",
        "  # Check if set1 is a superset of set2\n",
        "  is_superset = set1 >= set2  # Returns True\n",
        "  ```\n",
        "\n",
        "- **Disjoint (`isdisjoint()`)**: Check if two sets have no elements in common.\n",
        "  ```python\n",
        "  set1 = {1, 2, 3}\n",
        "  set3 = {4, 5, 6}\n",
        "  # Check if set1 and set3 are disjoint\n",
        "  are_disjoint = set1.isdisjoint(set3)  # Returns True\n",
        "  ```\n",
        "\n",
        "### **Set Comprehension**\n",
        "\n",
        "- **Create a Set Using Comprehension**:\n",
        "  ```python\n",
        "  # Before: range(5) = [0, 1, 2, 3, 4]\n",
        "  my_set = {x**2 for x in range(5)}\n",
        "  # After: my_set = {0, 1, 4, 9, 16}\n",
        "  ```\n",
        "\n",
        "### **Iterating Over a Set**\n",
        "\n",
        "- **Loop Through a Set**:\n",
        "  ```python\n",
        "  my_set = {1, 2, 3, 4}\n",
        "  # Iterating over the set\n",
        "  for item in my_set:\n",
        "      print(item)\n",
        "  ```\n",
        "\n",
        "### **Immutable Sets (frozenset)**\n",
        "\n",
        "- **Create an Immutable Set**:\n",
        "  ```python\n",
        "  # Creating an immutable set\n",
        "  my_frozenset = frozenset([1, 2, 3, 4])\n",
        "  ```\n",
        "\n",
        "- **Properties**:\n",
        "  - Like a set but immutable (cannot be modified after creation).\n",
        "  - Supports all set operations but not add, remove, or update.\n",
        "\n",
        "### **Example Usage**\n",
        "\n",
        "```python\n",
        "# Creating sets\n",
        "set_a = {1, 2, 3}\n",
        "set_b = {3, 4, 5}\n",
        "\n",
        "# Performing operations\n",
        "union_set = set_a | set_b\n",
        "intersection_set = set_a & set_b\n",
        "difference_set = set_a - set_b\n",
        "\n",
        "# Checking membership\n",
        "if 2 in set_a:\n",
        "    print(\"2 is in set_a\")\n",
        "\n",
        "# Set comprehension\n",
        "squared_set = {x**2 for x in range(5)}\n",
        "\n",
        "# Immutable set\n",
        "immutable_set = frozenset([1, 2, 3])\n",
        "\n",
        "print(\"Union:\", union_set)\n",
        "print(\"Intersection:\", intersection_set)\n",
        "print(\"Difference:\", difference_set)\n",
        "print(\"Squared Set:\", squared_set)\n",
        "```\n",
        "\n",
        "This cheat sheet provides a comprehensive overview of Python sets, with comments showing the state of the set before and after each operation, helping you understand how the set elements change as different operations are performed."
      ],
      "metadata": {
        "id": "kcD3kdwOy_88"
      }
    },
    {
      "cell_type": "code",
      "execution_count": null,
      "metadata": {
        "id": "7pKwXmF7rwCG"
      },
      "outputs": [],
      "source": []
    },
    {
      "cell_type": "markdown",
      "source": [],
      "metadata": {
        "id": "hanFd38RzLHv"
      }
    },
    {
      "cell_type": "markdown",
      "source": [
        "# Sets - Fun Projects!"
      ],
      "metadata": {
        "id": "3DygmTT30bB2"
      }
    },
    {
      "cell_type": "markdown",
      "source": [
        "### Fun and Practical Projects for Industrial Engineering Students Using Python Sets\n",
        "\n",
        "Python sets can be incredibly useful in solving real-world problems, especially in the context of industrial engineering, where managing unique items, optimizing processes, and handling large datasets are common tasks. Below are a few project ideas that leverage the power of sets to address practical challenges.\n",
        "\n",
        "---\n"
      ],
      "metadata": {
        "id": "Ux_KP7Ip1Way"
      }
    },
    {
      "cell_type": "markdown",
      "source": [
        "#### **Project 1: Inventory Management System**"
      ],
      "metadata": {
        "id": "nD-T30p51j1y"
      }
    },
    {
      "cell_type": "markdown",
      "source": [
        "**Objective**: Track and manage unique items in a warehouse.\n",
        "\n",
        "**Concepts Used**: Set operations, adding/removing items, checking membership.\n",
        "\n",
        "**Scenario**:\n",
        "- You're managing a warehouse with various parts and products. Each item in the warehouse must be unique (no duplicates).\n",
        "- You'll create a system to add new items, remove obsolete items, and check if certain items are in stock.\n",
        "\n",
        "**Implementation**:\n"
      ],
      "metadata": {
        "id": "wDDURqBE1hrN"
      }
    },
    {
      "cell_type": "code",
      "source": [
        "# Initial inventory\n",
        "inventory = {\"screws\", \"bolts\", \"nuts\", \"washers\"}\n",
        "\n",
        "# Adding new items\n",
        "inventory.update({\"gears\", \"belts\"})\n",
        "print(\"Updated Inventory:\", inventory)\n",
        "\n",
        "# Removing an obsolete item\n",
        "inventory.discard(\"washers\")\n",
        "print(f\"Inventory after removing obsolete item: {inventory}\")\n",
        "\n",
        "# Checking if an item is in stock\n",
        "item_to_check = \"gears\"\n",
        "if item_to_check in inventory:\n",
        "    print(f\"{item_to_check} is in stock.\")\n",
        "else:\n",
        "    print(f\"{item_to_check} is out of stock.\")"
      ],
      "metadata": {
        "colab": {
          "base_uri": "https://localhost:8080/"
        },
        "id": "pcPbVTMq1oFz",
        "outputId": "ed6879c9-3c2c-4f13-db28-3973bebf9d97"
      },
      "execution_count": null,
      "outputs": [
        {
          "output_type": "stream",
          "name": "stdout",
          "text": [
            "Updated Inventory: {'bolts', 'nuts', 'washers', 'gears', 'belts', 'screws'}\n",
            "Inventory after removing obsolete item: {'bolts', 'nuts', 'gears', 'belts', 'screws'}\n",
            "gears is in stock.\n"
          ]
        }
      ]
    },
    {
      "cell_type": "markdown",
      "source": [
        "\n",
        "**Learning Outcomes**:\n",
        "- Understand how to use sets to manage unique items efficiently.\n",
        "- Learn how to apply basic set operations to a real-world scenario.\n",
        "\n",
        "---\n"
      ],
      "metadata": {
        "id": "_DARRU4I1nUV"
      }
    },
    {
      "cell_type": "markdown",
      "source": [
        "### **Project 2: Optimizing Production Line Processes**"
      ],
      "metadata": {
        "id": "L57vTxZ91sr1"
      }
    },
    {
      "cell_type": "markdown",
      "source": [
        "**Objective**: Identify common and unique tasks across different production lines.\n",
        "\n",
        "**Concepts Used**: Set intersection, union, difference.\n",
        "\n",
        "**Scenario**:\n",
        "- You oversee several production lines, each with its own set of tasks. Some tasks are common across lines, while others are unique.\n",
        "- You'll create a system to identify tasks that are common to all production lines (intersection), tasks that are unique to one line (difference), and all tasks across the lines (union).\n",
        "\n",
        "**Implementation**:\n"
      ],
      "metadata": {
        "id": "YNeeudRg1dXg"
      }
    },
    {
      "cell_type": "code",
      "source": [
        "# Tasks for different production lines\n",
        "line1_tasks = {\"assemble\", \"paint\", \"inspect\", \"package\"}\n",
        "line2_tasks = {\"weld\", \"paint\", \"inspect\", \"package\"}\n",
        "line3_tasks = {\"cut\", \"assemble\", \"paint\", \"inspect\"}\n",
        "\n",
        "# Find common tasks across all lines\n",
        "common_tasks = line1_tasks & line2_tasks & line3_tasks\n",
        "print(\"Common tasks across all lines:\", common_tasks)\n",
        "\n",
        "# Find all unique tasks across the lines\n",
        "all_tasks = line1_tasks | line2_tasks | line3_tasks\n",
        "print(\"All unique tasks across the lines:\", all_tasks)\n",
        "\n",
        "# Find tasks unique to line1\n",
        "unique_line1_tasks = line1_tasks - line2_tasks - line3_tasks\n",
        "print(\"Tasks unique to Line 1:\", unique_line1_tasks)\n",
        "\n",
        "# Find tasks unique to line2\n",
        "unique_line2_tasks = line2_tasks - line1_tasks - line3_tasks\n",
        "print(\"Tasks unique to Line 2:\", unique_line2_tasks)"
      ],
      "metadata": {
        "colab": {
          "base_uri": "https://localhost:8080/"
        },
        "id": "FYpOnzH51070",
        "outputId": "2db83fe7-6af5-4e24-8d6b-951723d21c1d"
      },
      "execution_count": null,
      "outputs": [
        {
          "output_type": "stream",
          "name": "stdout",
          "text": [
            "Common tasks across all lines: {'paint', 'inspect'}\n",
            "All unique tasks across the lines: {'package', 'assemble', 'paint', 'inspect', 'weld', 'cut'}\n",
            "Tasks unique to Line 1: set()\n"
          ]
        }
      ]
    },
    {
      "cell_type": "markdown",
      "source": [
        "**Learning Outcomes**:\n",
        "- Learn how to use set operations to compare and optimize production processes.\n",
        "- Understand the value of identifying common and unique tasks to streamline operations.\n",
        "---\n"
      ],
      "metadata": {
        "id": "tkfN11Ab1zzq"
      }
    },
    {
      "cell_type": "markdown",
      "source": [
        "### **Project 3: Supplier Quality Analysis**"
      ],
      "metadata": {
        "id": "I99EiM231_zf"
      }
    },
    {
      "cell_type": "markdown",
      "source": [
        "\n",
        "**Objective**: Identify suppliers that consistently meet quality standards.\n",
        "\n",
        "**Concepts Used**: Set comparison, membership checks.\n",
        "\n",
        "**Scenario**:\n",
        "- You're working with multiple suppliers, and each shipment is either accepted or rejected based on quality.\n",
        "- You'll analyze which suppliers consistently meet quality standards by keeping track of accepted and rejected shipments.\n",
        "\n",
        "**Implementation**:\n"
      ],
      "metadata": {
        "id": "dq69lp-V17da"
      }
    },
    {
      "cell_type": "code",
      "source": [
        "# Suppliers with accepted and rejected shipments\n",
        "accepted_suppliers = {\"SupplierA\", \"SupplierB\", \"SupplierC\", \"SupplierD\"}\n",
        "rejected_suppliers = {\"SupplierB\", \"SupplierD\", \"SupplierE\"}\n",
        "\n",
        "# Find suppliers with only accepted shipments\n",
        "high_quality_suppliers = accepted_suppliers - rejected_suppliers\n",
        "print(\"Suppliers with consistently high quality:\", high_quality_suppliers)\n",
        "\n",
        "# Check if a new supplier is consistently high quality\n",
        "new_supplier = \"SupplierF\"\n",
        "if new_supplier not in rejected_suppliers:\n",
        "    accepted_suppliers.add(new_supplier)\n",
        "    print(f\"{new_supplier} added to high-quality suppliers list.\")\n",
        "else:\n",
        "    print(f\"{new_supplier} needs to improve quality.\")"
      ],
      "metadata": {
        "colab": {
          "base_uri": "https://localhost:8080/"
        },
        "id": "mLtzoeIy2EjH",
        "outputId": "7a24e8e1-a007-4798-bdc1-770bf78569fa"
      },
      "execution_count": null,
      "outputs": [
        {
          "output_type": "stream",
          "name": "stdout",
          "text": [
            "Suppliers with consistently high quality: {'SupplierA', 'SupplierC'}\n",
            "SupplierF added to high-quality suppliers list.\n"
          ]
        }
      ]
    },
    {
      "cell_type": "markdown",
      "source": [
        "\n",
        "**Learning Outcomes**:\n",
        "- Apply set operations to real-world supplier management.\n",
        "- Understand how to identify and manage high-quality suppliers effectively.\n",
        "\n",
        "---\n",
        "\n"
      ],
      "metadata": {
        "id": "MKULR3Bq2DUl"
      }
    },
    {
      "cell_type": "markdown",
      "source": [
        "### **Project 4: Job Shop Scheduling Optimization**"
      ],
      "metadata": {
        "id": "wBApbdZX2Ljj"
      }
    },
    {
      "cell_type": "markdown",
      "source": [
        "**Objective**: Avoid task conflicts in a job shop environment.\n",
        "\n",
        "**Concepts Used**: Set union, intersection, disjoint sets.\n",
        "\n",
        "**Scenario**:\n",
        "- In a job shop, different jobs require different machines, and you need to ensure that no two jobs conflict by requiring the same machine at the same time.\n",
        "- You'll identify potential conflicts and ensure optimal scheduling.\n",
        "\n",
        "**Implementation**:\n"
      ],
      "metadata": {
        "id": "kvC8-oOg2Iw-"
      }
    },
    {
      "cell_type": "code",
      "source": [
        "# Machines required for different jobs\n",
        "job1_machines = {\"lathe\", \"mill\", \"grinder\"}\n",
        "job2_machines = {\"mill\", \"drill\", \"weld\"}\n",
        "job3_machines = {\"cut\", \"grinder\", \"weld\"}\n",
        "\n",
        "# Check for conflicts between jobs\n",
        "conflict_jobs_1_2 = job1_machines & job2_machines\n",
        "print(\"Conflicting machines for Job 1 and Job 2:\", conflict_jobs_1_2)\n",
        "\n",
        "conflict_jobs_1_3 = job1_machines & job3_machines\n",
        "print(\"Conflicting machines for Job 1 and Job 3:\", conflict_jobs_1_3)\n",
        "\n",
        "# Ensure no conflicts between all jobs\n",
        "if job1_machines.isdisjoint(job2_machines | job3_machines):\n",
        "    print(\"No conflicts, all jobs can be scheduled simultaneously.\")\n",
        "else:\n",
        "    print(\"Conflicts detected, reschedule necessary.\")"
      ],
      "metadata": {
        "colab": {
          "base_uri": "https://localhost:8080/"
        },
        "id": "ygXvBSr72UBO",
        "outputId": "50ce4edd-9e0a-4f29-a6b7-58c7cf83f90e"
      },
      "execution_count": null,
      "outputs": [
        {
          "output_type": "stream",
          "name": "stdout",
          "text": [
            "Conflicting machines for Job 1 and Job 2: {'mill'}\n",
            "Conflicting machines for Job 1 and Job 3: {'grinder'}\n",
            "Conflicts detected, reschedule necessary.\n"
          ]
        }
      ]
    },
    {
      "cell_type": "markdown",
      "source": [
        "\n",
        "**Learning Outcomes**:\n",
        "- Learn to use sets to avoid resource conflicts in job scheduling.\n",
        "- Understand how to ensure optimal use of machines in a job shop environment.\n",
        "\n",
        "---\n",
        "\n",
        "These projects provide practical and engaging ways for industrial engineering students to apply Python sets to solve real-world problems, reinforcing their understanding of set operations in the context of their field."
      ],
      "metadata": {
        "id": "GICknogh2TQT"
      }
    },
    {
      "cell_type": "markdown",
      "source": [
        "# DATA STRUCTURES II - Part-2 : Dictionary"
      ],
      "metadata": {
        "id": "MLLJl7Ny2e1j"
      }
    },
    {
      "cell_type": "markdown",
      "source": [
        "### dict() in Python"
      ],
      "metadata": {
        "id": "-tnZStg04Fyb"
      }
    },
    {
      "cell_type": "markdown",
      "source": [
        "#### **What is a Dictionary in Python?**\n",
        "\n",
        "A **dictionary** in Python is like a real-world dictionary but instead of words and their definitions, it holds **keys** and their **associated values**. Think of it as a container that holds pairs of items where each key is unique and maps to a specific value. This structure allows you to quickly look up information, much like how you use a word to find its meaning in a regular dictionary.\n",
        "\n",
        "- **Key**: The identifier you use to find the information (e.g., a word in a dictionary).\n",
        "- **Value**: The information associated with the key (e.g., the definition of the word).\n",
        "\n",
        "#### **Real-World Analogy**\n",
        "\n",
        "Imagine you have a list of employees, and you want to store their job titles, email addresses, and departments. You could use a dictionary where each employee's name is the key, and their details are stored as the value. This allows you to quickly find or update an employee's information without having to search through a list.\n",
        "\n",
        "#### **Why Use a Dictionary?**\n",
        "\n",
        "- **Quick Access**: You can quickly find a value if you know the key.\n",
        "- **Uniqueness**: Each key in a dictionary is unique, which means you won’t have duplicate entries.\n",
        "- **Mutability**: You can change, add, or remove key-value pairs at any time.\n",
        "\n",
        "### **Creating Dictionaries**\n",
        "\n",
        "There are several ways to create dictionaries in Python. Let's explore a few of them.\n",
        "\n",
        "1. **Empty Dictionary**:\n",
        "   - Start with an empty dictionary and add entries later.\n",
        "   ```python\n",
        "   my_dict = {}  # An empty dictionary\n",
        "   ```\n",
        "\n",
        "2. **Pre-filled Dictionary**:\n",
        "   - Start with a dictionary that already has some data.\n",
        "   ```python\n",
        "   phonebook = {\"Alice\": \"123-456-7890\", \"Bob\": \"987-654-3210\"}\n",
        "   ```\n",
        "\n",
        "3. **Using the `dict()` Constructor**:\n",
        "   - Create a dictionary using the `dict()` function, often with keyword arguments.\n",
        "   ```python\n",
        "   employee = dict(name=\"John Doe\", age=30, department=\"HR\")\n",
        "   ```\n",
        "\n",
        "4. **Using `zip()` to Pair Keys and Values**:\n",
        "   - Combine two lists or sequences into a dictionary.\n",
        "   ```python\n",
        "   keys = [\"name\", \"age\", \"department\"]\n",
        "   values = [\"Jane Smith\", 25, \"IT\"]\n",
        "   employee = dict(zip(keys, values))\n",
        "   # employee = {'name': 'Jane Smith', 'age': 25, 'department': 'IT'}\n",
        "   ```\n",
        "\n",
        "5. **Using Dictionary Comprehension**:\n",
        "   - Create a dictionary from an iterable or conditionally.\n",
        "   ```python\n",
        "   squares = {x: x**2 for x in range(6)}\n",
        "   # squares = {0: 0, 1: 1, 2: 4, 3: 9, 4: 16, 5: 25}\n",
        "   ```\n",
        "\n",
        "   - **Conditional Dictionary Comprehension**:\n",
        "   ```python\n",
        "   even_squares = {x: x**2 for x in range(10) if x % 2 == 0}\n",
        "   # even_squares = {0: 0, 2: 4, 4: 16, 6: 36, 8: 64}\n",
        "   ```\n",
        "\n",
        "### **Accessing Values in a Dictionary**\n",
        "\n",
        "- **Direct Access**: If you know the key, you can access the value directly.\n",
        "  ```python\n",
        "  bob_number = phonebook[\"Bob\"]  # \"987-654-3210\"\n",
        "  ```\n",
        "\n",
        "- **Using `get()` Method**: This is safer as it won’t cause an error if the key doesn’t exist. It returns `None` or a default value if the key is not found.\n",
        "  ```python\n",
        "  alice_number = phonebook.get(\"Alice\")  # \"123-456-7890\"\n",
        "  unknown_number = phonebook.get(\"Unknown\", \"Not Found\")  # \"Not Found\"\n",
        "  ```\n",
        "\n",
        "### **Modifying a Dictionary**\n",
        "\n",
        "- **Adding or Updating Entries**: Easily add a new key-value pair or update an existing one.\n",
        "  ```python\n",
        "  phonebook[\"Eve\"] = \"333-333-3333\"  # Adds new entry for Eve\n",
        "  phonebook[\"Alice\"] = \"111-111-1111\"  # Updates Alice's number\n",
        "  ```\n",
        "\n",
        "- **Adding or Updating Multiple Entries**: Easily update dictionary with new entries.\n",
        "  ```python\n",
        "  new_contacts = {\"kate\": \"000-000-0000\", \"hurley\": \"111-111-1111\"}\n",
        "  phonebook.update(new_contacts)\n",
        "  ```\n",
        "\n",
        "- **Removing Entries**: You can remove an entry by its key.\n",
        "  ```python\n",
        "  del phonebook[\"Bob\"]  # Removes Bob's entry\n",
        "  ```\n",
        "\n",
        "### **Working with Dictionary Methods**\n",
        "\n",
        "- **Check if a Key Exists**: Useful to see if someone’s information is in the phonebook.\n",
        "  ```python\n",
        "  if \"Charlie\" in phonebook:\n",
        "      print(\"Charlie's number is available.\")\n",
        "  ```\n",
        "\n",
        "- **View All Keys, Values, or Items**: Helpful to get an overview of all data in the dictionary.\n",
        "  ```python\n",
        "  keys = phonebook.keys()  # Returns all keys (names)\n",
        "  values = phonebook.values()  # Returns all values (phone numbers)\n",
        "  key, value = phonebook.items()  # Returns all key-value pairs\n",
        "  ```\n",
        "\n",
        "### **Iterating Through a Dictionary**\n",
        "\n",
        "- **Iterate Over Keys**: You can loop through all the keys.\n",
        "  ```python\n",
        "  for name in phonebook:\n",
        "      print(name)\n",
        "  ```\n",
        "\n",
        "- **Iterate Over Key-Value Pairs**: Access both the key and the value in the loop.\n",
        "  ```python\n",
        "  for name, number in phonebook.items():\n",
        "      print(f\"{name}: {number}\")\n",
        "  ```\n",
        "\n",
        "### **Nested Dictionaries**\n",
        "\n",
        "- **Creating and Accessing Nested Dictionaries**:\n",
        "  - You can store dictionaries within dictionaries to represent more complex data.\n",
        "  ```python\n",
        "  employees = {\n",
        "      \"emp1\": {\"name\": \"John\", \"age\": 30, \"department\": \"HR\"},\n",
        "      \"emp2\": {\"name\": \"Jane\", \"age\": 25, \"department\": \"IT\"},\n",
        "  }\n",
        "\n",
        "  # Accessing a nested dictionary\n",
        "  john_name = employees[\"emp1\"][\"name\"]  # Returns \"John\"\n",
        "  ```\n",
        "\n",
        "- **Adding a New Entry to a Nested Dictionary**:\n",
        "  ```python\n",
        "  employees[\"emp3\"] = {\"name\": \"Mike\", \"age\": 32, \"department\": \"Finance\"}\n",
        "  ```\n",
        "\n"
      ],
      "metadata": {
        "id": "itpmEndp3hJa"
      }
    },
    {
      "cell_type": "markdown",
      "source": [
        "## Fun and Engaging Projects\n",
        "\n",
        "> Python dictionaries are perfect for managing and organizing data, which is a common need in industrial engineering. Below are some fun and straightforward projects that demonstrate how dictionaries can be used to solve real-world problems. These examples are designed to be simple and intuitive, without the need for advanced concepts like loops, functions, or classes.\n",
        "---"
      ],
      "metadata": {
        "id": "_tbd-RmY45MC"
      }
    },
    {
      "cell_type": "markdown",
      "source": [
        "### **Project 1: Employee Directory**"
      ],
      "metadata": {
        "id": "vrf-Gyi-5di4"
      }
    },
    {
      "cell_type": "markdown",
      "source": [
        "**Objective**: Create a simple employee directory to store and retrieve information like job titles and departments.\n",
        "\n",
        "**Scenario**:\n",
        "- You need to manage basic employee information, including their job title and department.\n",
        "- You'll use a dictionary where each employee's name is the key, and their job title and department are the values.\n",
        "\n",
        "**Implementation**:\n"
      ],
      "metadata": {
        "id": "Css4aS2S4r4E"
      }
    },
    {
      "cell_type": "code",
      "source": [
        "# Create an empty employee directory\n",
        "employee_directory = {}\n",
        "\n",
        "# Add employees to the directory\n",
        "employee_directory[\"Alice\"] = {\"job_title\": \"Engineer\", \"department\": \"R&D\"}\n",
        "employee_directory[\"Bob\"] = {\"job_title\": \"Technician\", \"department\": \"Maintenance\"}\n",
        "employee_directory[\"Charlie\"] = {\"job_title\": \"Manager\", \"department\": \"HR\"}\n",
        "\n",
        "# Retrieve information about an employee\n",
        "alice_info = employee_directory[\"Alice\"]\n",
        "print(\"Alice's Job Title:\", alice_info[\"job_title\"])\n",
        "print(\"Alice's Department:\", alice_info[\"department\"])\n",
        "\n",
        "# Update an employee's job title\n",
        "employee_directory[\"Alice\"][\"job_title\"] = \"Senior Engineer\"\n",
        "\n",
        "# Remove an employee from the directory\n",
        "del employee_directory[\"Charlie\"]\n",
        "\n",
        "# Print the updated directory\n",
        "print(\"Updated Employee Directory:\", employee_directory)"
      ],
      "metadata": {
        "colab": {
          "base_uri": "https://localhost:8080/"
        },
        "id": "83AZjdV-5kUB",
        "outputId": "7407f9e3-efb0-4600-dbd5-62edbbb53c2b"
      },
      "execution_count": null,
      "outputs": [
        {
          "output_type": "stream",
          "name": "stdout",
          "text": [
            "Alice's Job Title: Engineer\n",
            "Alice's Department: R&D\n",
            "Updated Employee Directory: {'Alice': {'job_title': 'Senior Engineer', 'department': 'R&D'}, 'Bob': {'job_title': 'Technician', 'department': 'Maintenance'}}\n"
          ]
        }
      ]
    },
    {
      "cell_type": "markdown",
      "source": [
        "**Learning Outcomes**:\n",
        "- Understand how to store and retrieve data using keys in a dictionary.\n",
        "- Learn how to update and remove entries in a dictionary.\n",
        "- Manage simple employee information in an easy and efficient way.\n",
        "\n",
        "---\n"
      ],
      "metadata": {
        "id": "ZrVgTouC5gAX"
      }
    },
    {
      "cell_type": "markdown",
      "source": [
        "### **Project 2: Production Line Inventory**"
      ],
      "metadata": {
        "id": "ERDJMsOg5pvZ"
      }
    },
    {
      "cell_type": "markdown",
      "source": [
        "**Objective**: Track the number of parts in stock for different production lines.\n",
        "\n",
        "**Scenario**:\n",
        "- You're in charge of inventory for various production lines, and you need to track the number of parts available for each line.\n",
        "- You'll use a dictionary where each production line's name is the key, and the value is another dictionary containing part names as keys and their quantities as values.\n",
        "\n",
        "**Implementation**:\n"
      ],
      "metadata": {
        "id": "qqngRRXx5nC6"
      }
    },
    {
      "cell_type": "code",
      "source": [
        "# Create an inventory dictionary\n",
        "inventory = {\n",
        "    \"Line1\": {\"screws\": 100, \"bolts\": 150, \"nuts\": 200},\n",
        "    \"Line2\": {\"screws\": 120, \"washers\": 80, \"gears\": 50},\n",
        "    \"Line3\": {\"bolts\": 130, \"nuts\": 90, \"gears\": 60},\n",
        "}\n",
        "\n",
        "# Access the quantity of a specific part in a production line\n",
        "line1_screws = inventory[\"Line1\"][\"screws\"]\n",
        "print(\"Line1 has\", line1_screws, \"screws in stock.\")\n",
        "\n",
        "# Update the quantity of a part in a production line\n",
        "inventory[\"Line2\"][\"washers\"] = 100\n",
        "\n",
        "# Add a new part to a production line\n",
        "inventory[\"Line3\"][\"washers\"] = 70\n",
        "\n",
        "# Remove a part from a production line\n",
        "del inventory[\"Line1\"][\"nuts\"]\n",
        "\n",
        "# Print the updated inventory\n",
        "print(\"Updated Inventory:\", inventory)"
      ],
      "metadata": {
        "colab": {
          "base_uri": "https://localhost:8080/"
        },
        "id": "dRcW6x-Q5yMz",
        "outputId": "d23777ca-f910-45d6-cd32-5a5dd95306b6"
      },
      "execution_count": null,
      "outputs": [
        {
          "output_type": "stream",
          "name": "stdout",
          "text": [
            "Line1 has 100 screws in stock.\n",
            "Updated Inventory: {'Line1': {'screws': 100, 'bolts': 150}, 'Line2': {'screws': 120, 'washers': 100, 'gears': 50}, 'Line3': {'bolts': 130, 'nuts': 90, 'gears': 60, 'washers': 70}}\n"
          ]
        }
      ]
    },
    {
      "cell_type": "markdown",
      "source": [
        "\n",
        "**Learning Outcomes**:\n",
        "- Learn how to manage nested data structures with dictionaries inside dictionaries.\n",
        "- Understand how to access, update, and remove data in a nested dictionary.\n",
        "- Efficiently track and manage inventory for multiple production lines.\n",
        "\n",
        "---\n"
      ],
      "metadata": {
        "id": "97rtmYYb5v6v"
      }
    },
    {
      "cell_type": "markdown",
      "source": [
        "### **Project 3: Supplier Quality Log**"
      ],
      "metadata": {
        "id": "tDIl0u5P55NH"
      }
    },
    {
      "cell_type": "markdown",
      "source": [
        "**Objective**: Keep track of the quality ratings for different suppliers.\n",
        "\n",
        "**Scenario**:\n",
        "- You're responsible for maintaining a log of quality ratings for your suppliers. Each supplier has a rating based on their recent deliveries.\n",
        "- Use a dictionary where the supplier's name is the key, and their quality rating (e.g., \"Excellent\", \"Good\", \"Poor\") is the value.\n",
        "\n",
        "**Implementation**:\n"
      ],
      "metadata": {
        "id": "FF_oH7rh50IH"
      }
    },
    {
      "cell_type": "code",
      "source": [
        "# Create a supplier quality log\n",
        "supplier_quality = {\n",
        "    \"SupplierA\": \"Excellent\",\n",
        "    \"SupplierB\": \"Good\",\n",
        "    \"SupplierC\": \"Poor\",\n",
        "}\n",
        "\n",
        "# Access the quality rating of a supplier\n",
        "supplier_a_rating = supplier_quality[\"SupplierA\"]\n",
        "print(\"SupplierA's Quality Rating:\", supplier_a_rating)\n",
        "\n",
        "# Update the quality rating of a supplier\n",
        "supplier_quality[\"SupplierB\"] = \"Excellent\"\n",
        "\n",
        "# Add a new supplier to the log\n",
        "supplier_quality[\"SupplierD\"] = \"Good\"\n",
        "\n",
        "# Remove a supplier from the log\n",
        "del supplier_quality[\"SupplierC\"]\n",
        "\n",
        "# Print the updated supplier quality log\n",
        "print(\"Updated Supplier Quality Log:\", supplier_quality)"
      ],
      "metadata": {
        "colab": {
          "base_uri": "https://localhost:8080/"
        },
        "id": "dKBbFtQB58U0",
        "outputId": "84c1473f-8ffa-4c50-f5f2-e16efd4d5d54"
      },
      "execution_count": null,
      "outputs": [
        {
          "output_type": "stream",
          "name": "stdout",
          "text": [
            "SupplierA's Quality Rating: Excellent\n",
            "Updated Supplier Quality Log: {'SupplierA': 'Excellent', 'SupplierB': 'Excellent', 'SupplierD': 'Good'}\n"
          ]
        }
      ]
    },
    {
      "cell_type": "markdown",
      "source": [
        "\n",
        "**Learning Outcomes**:\n",
        "- Learn how to use dictionaries to manage and update ratings or evaluations.\n",
        "- Understand the process of adding new data and removing outdated information in a dictionary.\n",
        "- Keep an organized and easily accessible log of supplier quality ratings.\n",
        "\n",
        "---\n"
      ],
      "metadata": {
        "id": "tLRMycYm57UO"
      }
    },
    {
      "cell_type": "markdown",
      "source": [
        "### **Project 4: Machine Maintenance Schedule**"
      ],
      "metadata": {
        "id": "p2mXiJgb6BKa"
      }
    },
    {
      "cell_type": "markdown",
      "source": [
        "**Objective**: Create a schedule for machine maintenance in a factory.\n",
        "\n",
        "**Scenario**:\n",
        "- You need to organize a maintenance schedule for different machines in the factory. Each machine has a scheduled maintenance date.\n",
        "- Use a dictionary where the machine's name is the key, and the value is the maintenance date.\n",
        "\n",
        "**Implementation**:\n"
      ],
      "metadata": {
        "id": "jCv07urY6ANM"
      }
    },
    {
      "cell_type": "code",
      "source": [
        "# Create a maintenance schedule dictionary\n",
        "maintenance_schedule = {\n",
        "    \"Lathe\": \"2024-09-01\",\n",
        "    \"Milling Machine\": \"2024-09-15\",\n",
        "    \"Grinder\": \"2024-10-01\",\n",
        "}\n",
        "\n",
        "# Access the maintenance date for a specific machine\n",
        "lathe_maintenance = maintenance_schedule[\"Lathe\"]\n",
        "print(\"Lathe Maintenance Date:\", lathe_maintenance)\n",
        "\n",
        "# Update the maintenance date for a machine\n",
        "maintenance_schedule[\"Grinder\"] = \"2024-09-25\"\n",
        "\n",
        "# Add a new machine to the maintenance schedule\n",
        "maintenance_schedule[\"Drill Press\"] = \"2024-10-10\"\n",
        "\n",
        "# Remove a machine from the maintenance schedule\n",
        "del maintenance_schedule[\"Milling Machine\"]\n",
        "\n",
        "# Print the updated maintenance schedule\n",
        "print(\"Updated Maintenance Schedule:\", maintenance_schedule)"
      ],
      "metadata": {
        "colab": {
          "base_uri": "https://localhost:8080/"
        },
        "id": "IBou9Qkj6Gbd",
        "outputId": "ee70e7a9-91d7-4c11-cec2-627fe1978e78"
      },
      "execution_count": null,
      "outputs": [
        {
          "output_type": "stream",
          "name": "stdout",
          "text": [
            "Lathe Maintenance Date: 2024-09-01\n",
            "Updated Maintenance Schedule: {'Lathe': '2024-09-01', 'Grinder': '2024-09-25', 'Drill Press': '2024-10-10'}\n"
          ]
        }
      ]
    },
    {
      "cell_type": "markdown",
      "source": [
        "\n",
        "**Learning Outcomes**:\n",
        "- Learn how to schedule and track maintenance tasks using dictionaries.\n",
        "- Understand how to update and manage maintenance dates for different machines.\n",
        "- Efficiently organize and maintain a factory's maintenance schedule.\n",
        "\n",
        "---"
      ],
      "metadata": {
        "id": "soXT6A8R6Frz"
      }
    },
    {
      "cell_type": "markdown",
      "source": [
        "### **Project 5: Simple Contact Manager**\n",
        "**INFO**: I want you to come-back to this part of the notebook once we are done with function"
      ],
      "metadata": {
        "id": "SJk8YlMe315I"
      }
    },
    {
      "cell_type": "markdown",
      "source": [
        "Let’s build a simple contact manager where you can add, find, update, and delete contacts.\n"
      ],
      "metadata": {
        "id": "VYyDMFLJ3ww4"
      }
    },
    {
      "cell_type": "code",
      "source": [
        "contacts = {}\n",
        "\n",
        "def add_contact(name, number):\n",
        "    contacts[name] = number\n",
        "    print(f\"Added {name} with number {number}.\")\n",
        "\n",
        "def find_contact(name):\n",
        "    return contacts.get(name, \"Contact not found.\")\n",
        "\n",
        "def update_contact(name, new_number):\n",
        "    if name in contacts:\n",
        "        contacts[name] = new_number\n",
        "        print(f\"Updated {name}'s number to {new_number}.\")\n",
        "    else:\n",
        "        print(f\"{name} not found.\")\n",
        "\n",
        "def delete_contact(name):\n",
        "    if name in contacts:\n",
        "        del contacts[name]\n",
        "        print(f\"Deleted contact {name}.\")\n",
        "    else:\n",
        "        print(f\"{name} not found.\")\n",
        "\n",
        "# Add some contacts\n",
        "add_contact(\"Alice\", \"123-456-7890\")\n",
        "add_contact(\"Bob\", \"987-654-3210\")\n",
        "\n",
        "# Find a contact\n",
        "print(find_contact(\"Alice\"))  # Should print Alice's number\n",
        "\n",
        "# Update a contact\n",
        "update_contact(\"Alice\", \"111-111-1111\")\n",
        "\n",
        "# Delete a contact\n",
        "delete_contact(\"Bob\")\n",
        "\n",
        "# View all contacts\n",
        "print(\"All contacts:\", contacts)"
      ],
      "metadata": {
        "id": "FeZ7gQLQ6b8q"
      },
      "execution_count": null,
      "outputs": []
    },
    {
      "cell_type": "markdown",
      "source": [
        "\n",
        "#### **Key Takeaways**\n",
        "\n",
        "- **Dictionaries** are powerful tools in Python for storing and managing key-value pairs.\n",
        "- They offer **fast access** to data and are **flexible** for adding, updating, or removing information.\n",
        "- Whether you're building a phonebook, managing a database of users, or handling configurations, dictionaries are your go-to data structure in Python.\n",
        "\n",
        "This cheat sheet introduces Python dictionaries with a user-friendly approach, starting with intuitive examples before diving into the code, making it easier for beginners to understand and apply the concepts."
      ],
      "metadata": {
        "id": "3YL9yaUe6bL-"
      }
    },
    {
      "cell_type": "code",
      "source": [],
      "metadata": {
        "id": "XJPZ6jqA2hFq"
      },
      "execution_count": null,
      "outputs": []
    }
  ]
}