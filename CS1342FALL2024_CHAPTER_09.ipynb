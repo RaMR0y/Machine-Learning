{
  "nbformat": 4,
  "nbformat_minor": 0,
  "metadata": {
    "colab": {
      "provenance": [],
      "collapsed_sections": [
        "T9sZcN3VQAZH",
        "LHCIcRF0QYkE",
        "hNk0vIgUZr9p",
        "qg18vXbEbLjK",
        "es1-3zHqbD_B",
        "nZvQo3F0a6ot",
        "6yd0r2-Ta3e_",
        "fuwTP94_av3_",
        "8C1Vb0d5ak_8",
        "aBuI4lduad7p",
        "7OcX8giEaU2N",
        "F63ijODCaQQM",
        "jm_s8q7XQpCR",
        "6Ukp6DwxQ0Q9",
        "dQbdbYUGQ6I0",
        "gMP9-eL4Q8z7",
        "N-Wlfz6LQ_AM",
        "-7LZcVOPRB1b",
        "OeR1MpDVPGgG",
        "ziqKwm1UAuX-",
        "qVOBr0ACA325",
        "yApeJriKA7sB",
        "8brQJQsjBKzi",
        "bpwUo3fGBQ-4",
        "ARw1eBRqBTKP",
        "lxODZFpcT1p7",
        "fUxLMPUlVmUL",
        "d3Z3wE5iWdML",
        "qn4vmPlAWare",
        "iQd_3vfeXG8I"
      ],
      "include_colab_link": true
    },
    "kernelspec": {
      "name": "python3",
      "display_name": "Python 3"
    },
    "language_info": {
      "name": "python"
    }
  },
  "cells": [
    {
      "cell_type": "markdown",
      "metadata": {
        "id": "view-in-github",
        "colab_type": "text"
      },
      "source": [
        "<a href=\"https://colab.research.google.com/github/RaMR0y/Machine-Learning/blob/Python-Basics/CS1342FALL2024_CHAPTER_09.ipynb\" target=\"_parent\"><img src=\"https://colab.research.google.com/assets/colab-badge.svg\" alt=\"Open In Colab\"/></a>"
      ]
    },
    {
      "cell_type": "markdown",
      "source": [
        "# Quick Guide to Important Python Libraries"
      ],
      "metadata": {
        "id": "Iq4-VSYbPU0Q"
      }
    },
    {
      "cell_type": "markdown",
      "source": [
        "#### 1. **`itertools`**\n",
        "   - **Purpose**: Provides functions for efficient looping, combining, and iterating over iterables.\n",
        "\n",
        "   **Commonly Used Functions**:\n",
        "   - **`itertools.chain()`**: Combines multiple iterables into a single iterable.\n",
        "   - **`itertools.product()`**: Cartesian product of input iterables.\n",
        "   - **`itertools.permutations()`**: Generates all possible permutations of an iterable.\n",
        "   - **`itertools.groupby()`**: Groups elements of an iterable by a specified key function.\n",
        "   - **`itertools.combinations()`**: Generates all possible combinations of an iterable.\n",
        "   - **`itertools.cycle()`**: Cycles through an iterable indefinitely.\n",
        "\n",
        "   **Example**: Combining Multiple Lists\n",
        "   "
      ],
      "metadata": {
        "id": "T9sZcN3VQAZH"
      }
    },
    {
      "cell_type": "code",
      "source": [
        "import itertools\n",
        "\n",
        "list1 = [1, 2, 3]\n",
        "list2 = ['a', 'b', 'c']\n",
        "combined = list(itertools.chain(list1, list2))\n",
        "print(combined)  # Output: [1, 2, 3, 'a', 'b', 'c']"
      ],
      "metadata": {
        "colab": {
          "base_uri": "https://localhost:8080/"
        },
        "id": "ETMa0bkOTbdw",
        "outputId": "0716a1df-4ad0-4fc8-954e-e8c064d5f2bf"
      },
      "execution_count": null,
      "outputs": [
        {
          "output_type": "stream",
          "name": "stdout",
          "text": [
            "[1, 2, 3, 'a', 'b', 'c']\n"
          ]
        }
      ]
    },
    {
      "cell_type": "markdown",
      "source": [
        "**Simplification**: `itertools.chain()` efficiently combines multiple iterables without the need for manual loops or concatenation.\n",
        "\n"
      ],
      "metadata": {
        "id": "Uv5EDwhHQWxN"
      }
    },
    {
      "cell_type": "markdown",
      "source": [
        "#### 2. **`functools`**\n",
        "   - **Purpose**: Provides higher-order functions that work with other functions to simplify functional programming tasks.\n",
        "\n",
        "   **Commonly Used Functions**:\n",
        "   - **`functools.reduce()`**: Applies a function cumulatively to the items of an iterable, reducing it to a single value.\n",
        "   - **`functools.lru_cache()`**: Memoizes (caches) the results of function calls to speed up repeated computations.\n",
        "   - **`functools.partial()`**: Allows partial function application, fixing some arguments and leaving others open.\n",
        "\n",
        "   **Example**: Caching Function Results\n",
        "   "
      ],
      "metadata": {
        "id": "LHCIcRF0QYkE"
      }
    },
    {
      "cell_type": "code",
      "source": [
        "import functools\n",
        "\n",
        "@functools.lru_cache(maxsize=128)\n",
        "def fibonacci(n):\n",
        "    if n < 2:\n",
        "        return n\n",
        "    return fibonacci(n-1) + fibonacci(n-2)\n",
        "\n",
        "print(fibonacci(50))  # Fast computation due to caching"
      ],
      "metadata": {
        "colab": {
          "base_uri": "https://localhost:8080/"
        },
        "id": "Tpw97lTlTXka",
        "outputId": "2ca7a3b8-c79b-45bc-f5d2-d7f16d5ef732"
      },
      "execution_count": null,
      "outputs": [
        {
          "output_type": "stream",
          "name": "stdout",
          "text": [
            "12586269025\n"
          ]
        }
      ]
    },
    {
      "cell_type": "markdown",
      "source": [
        "**Simplification**: `functools.lru_cache()` speeds up recursive function calls by caching previously computed results, eliminating redundant calculations.\n",
        "\n"
      ],
      "metadata": {
        "id": "_Xt6jLW9Qc7L"
      }
    },
    {
      "cell_type": "markdown",
      "source": [
        "#### 3. **`datetime`**\n",
        "   - **Purpose**: Provides classes for manipulating dates and times.\n",
        "\n",
        "   **Commonly Used Classes/Methods**:\n",
        "   - **`datetime.datetime.now()`**: Gets the current local date and time.\n",
        "   - **`datetime.datetime.strptime()`**: Parses a string into a `datetime` object.\n",
        "   - **`datetime.datetime.strftime()`**: Formats a `datetime` object into a string.\n",
        "   - **`datetime.timedelta`**: Represents a duration, useful for date arithmetic.\n",
        "   - **`datetime.date.today()`**: Returns the current date.\n",
        "\n",
        "   **Example**: Formatting Dates\n",
        "   "
      ],
      "metadata": {
        "id": "gpEI3k9sQxM-"
      }
    },
    {
      "cell_type": "markdown",
      "source": [
        "#### Example Usage\n",
        "\n"
      ],
      "metadata": {
        "id": "FYcDZc34bdPC"
      }
    },
    {
      "cell_type": "markdown",
      "source": [
        "Here's a table showcasing a few popular `strftime` patterns commonly used in Python for formatting dates and times:\n",
        "\n",
        "| Format Code Pattern         | Description                                      | Example Output (`datetime.now()` on August 19, 2024, at 14:30:45) |\n",
        "|-----------------------------|--------------------------------------------------|-------------------------------------------------------------------|\n",
        "| `%Y-%m-%d %H:%M:%S`         | Full datetime in ISO format                       | `2024-08-19 14:30:45`                                             |\n",
        "| `%d/%m/%Y`                  | Common date format (day/month/year)               | `19/08/2024`                                                      |\n",
        "| `%A, %B %d, %Y`             | Full date with weekday                            | `Monday, August 19, 2024`                                         |\n",
        "| `%I:%M %p`                  | Time in 12-hour format with AM/PM                 | `02:30 PM`                                                        |\n",
        "| `%m/%d/%Y, %I:%M %p`        | US-style datetime (month/day/year) with 12-hour time | `08/19/2024, 02:30 PM`                                        |\n",
        "| `%b %d %Y %H:%M:%S`         | Abbreviated month, day, and year with time        | `Aug 19 2024 14:30:45`                                            |\n",
        "| `%Y-%m-%d`                  | ISO date format                                   | `2024-08-19`                                                      |\n",
        "| `%H:%M:%S`                  | Time in 24-hour format                            | `14:30:45`                                                        |\n",
        "| `%d %b %Y`                  | Day, abbreviated month, and full year             | `19 Aug 2024`                                                     |\n",
        "| `%c`                        | Locale’s appropriate date and time representation | `Mon Aug 19 14:30:45 2024`                                        |\n",
        "\n"
      ],
      "metadata": {
        "id": "8IawJzsdcJ7l"
      }
    },
    {
      "cell_type": "markdown",
      "source": [
        "Here are a few of the most common date and time operations in Python, along with examples:\n",
        "\n",
        "##### 1. **Getting the Current Date and Time**\n",
        "   - **Description**: Retrieve the current date and time.\n",
        "   - **Example**:\n",
        "\n"
      ],
      "metadata": {
        "id": "hNk0vIgUZr9p"
      }
    },
    {
      "cell_type": "code",
      "source": [
        "from datetime import datetime\n",
        "\n",
        "now = datetime.now()\n",
        "print(now)  # Output: 2024-08-19 14:30:45.123456"
      ],
      "metadata": {
        "colab": {
          "base_uri": "https://localhost:8080/"
        },
        "id": "HRdtJm66bQ6u",
        "outputId": "a50db125-f531-48fa-b564-6378d6d39304"
      },
      "execution_count": null,
      "outputs": [
        {
          "output_type": "stream",
          "name": "stdout",
          "text": [
            "2024-08-22 00:12:02.919856\n"
          ]
        }
      ]
    },
    {
      "cell_type": "markdown",
      "source": [
        "##### 2. **Formatting Dates and Times**\n",
        "   - **Description**: Convert `datetime` objects to a string using `strftime`.\n",
        "   - **Example**:\n"
      ],
      "metadata": {
        "id": "qg18vXbEbLjK"
      }
    },
    {
      "cell_type": "code",
      "source": [
        "from datetime import datetime\n",
        "\n",
        "now = datetime.now()\n",
        "\n",
        "print(now.strftime(\"%Y-%m-%d %H:%M:%S\"))  # 2024-08-19 14:30:45\n",
        "print(now.strftime(\"%d/%m/%Y\"))           # 19/08/2024\n",
        "print(now.strftime(\"%A, %B %d, %Y\"))      # Monday, August 19, 2024\n",
        "print(now.strftime(\"%I:%M %p\"))           # 02:30 PM\n",
        "print(now.strftime(\"%m/%d/%Y, %I:%M %p\")) # 08/19/2024, 02:30 PM"
      ],
      "metadata": {
        "colab": {
          "base_uri": "https://localhost:8080/"
        },
        "id": "nLmndOU-bJKt",
        "outputId": "6e4f6fd8-ff7a-495a-d3cc-a28032ab18c0"
      },
      "execution_count": null,
      "outputs": [
        {
          "output_type": "stream",
          "name": "stdout",
          "text": [
            "2025-04-15 15:04:44\n",
            "15/04/2025\n",
            "Tuesday, April 15, 2025\n",
            "03:04 PM\n",
            "04/15/2025, 03:04 PM\n"
          ]
        }
      ]
    },
    {
      "cell_type": "markdown",
      "source": [
        "##### 3. **Parsing Strings to Dates**\n",
        "   - **Description**: Convert a string to a `datetime` object using `strptime`.\n",
        "   - **Example**:\n",
        "\n"
      ],
      "metadata": {
        "id": "es1-3zHqbD_B"
      }
    },
    {
      "cell_type": "code",
      "source": [
        "print(now.strptime(\"2024-08-22 00:02:43\", \"%Y-%m-%d %H:%M:%S\"))  # 2024-08-19 14:30:45\n",
        "print(now.strptime(\"22/08/2024\", \"%d/%m/%Y\"))           # 19/08/2024\n",
        "print(now.strptime(\"Thursday, August 22, 2024\", \"%A, %B %d, %Y\"))      # Monday, August 19, 2024\n",
        "print(now.strptime(\"12:02 AM\", \"%I:%M %p\"))           # 02:30 PM\n",
        "print(now.strptime(\"08/22/2024, 12:02 AM\", \"%m/%d/%Y, %I:%M %p\")) # 08/19/2024, 02:30 PM"
      ],
      "metadata": {
        "colab": {
          "base_uri": "https://localhost:8080/"
        },
        "id": "ptlpjq8PbE3C",
        "outputId": "1df0adb8-933a-4b9b-8f21-8c24471e7453"
      },
      "execution_count": null,
      "outputs": [
        {
          "output_type": "stream",
          "name": "stdout",
          "text": [
            "2024-08-22 00:02:43\n",
            "2024-08-22 00:00:00\n",
            "2024-08-22 00:00:00\n",
            "1900-01-01 00:02:00\n",
            "2024-08-22 00:02:00\n"
          ]
        }
      ]
    },
    {
      "cell_type": "markdown",
      "source": [
        "##### 4. **Calculating the Difference Between Dates**\n",
        "   - **Description**: Find the difference between two dates (timedelta).\n",
        "   - **Example**:\n",
        "\n"
      ],
      "metadata": {
        "id": "nZvQo3F0a6ot"
      }
    },
    {
      "cell_type": "code",
      "source": [
        "from datetime import timedelta\n",
        "\n",
        "future_date = now + timedelta(days=30)\n",
        "difference = future_date - now\n",
        "print(difference.days)  # Output: 30"
      ],
      "metadata": {
        "colab": {
          "base_uri": "https://localhost:8080/"
        },
        "id": "Dk2Pu1b2a4jW",
        "outputId": "6c3653e7-b701-4db3-f3b4-485f6ab7fee3"
      },
      "execution_count": null,
      "outputs": [
        {
          "output_type": "stream",
          "name": "stdout",
          "text": [
            "30\n"
          ]
        }
      ]
    },
    {
      "cell_type": "markdown",
      "source": [
        "##### 5. **Adding or Subtracting Time**\n",
        "   - **Description**: Add or subtract a specific time duration from a `datetime` object.\n",
        "   - **Example**:\n",
        "     "
      ],
      "metadata": {
        "id": "6yd0r2-Ta3e_"
      }
    },
    {
      "cell_type": "code",
      "source": [
        "one_week_later = now + timedelta(weeks=1)\n",
        "print(one_week_later)  # Output: 2024-08-26 14:30:45.123456"
      ],
      "metadata": {
        "colab": {
          "base_uri": "https://localhost:8080/"
        },
        "id": "PcQG2yYMazfL",
        "outputId": "6fe85ecd-a027-4434-b816-2ea3f2add9d0"
      },
      "execution_count": null,
      "outputs": [
        {
          "output_type": "stream",
          "name": "stdout",
          "text": [
            "2024-08-29 00:02:43.302677\n"
          ]
        }
      ]
    },
    {
      "cell_type": "markdown",
      "source": [
        "##### 6. **Getting the Weekday of a Date**\n",
        "   - **Description**: Find out the day of the week for a specific date.\n",
        "   - **Example**:\n",
        "     "
      ],
      "metadata": {
        "id": "fuwTP94_av3_"
      }
    },
    {
      "cell_type": "code",
      "source": [
        "weekday = now.weekday()\n",
        "print(weekday)  # Output: 0 (0 = Monday, 6 = Sunday)"
      ],
      "metadata": {
        "colab": {
          "base_uri": "https://localhost:8080/"
        },
        "id": "oTAOYl9RaodS",
        "outputId": "0d28b653-ad7e-4737-a03c-f73d76023920"
      },
      "execution_count": null,
      "outputs": [
        {
          "output_type": "stream",
          "name": "stdout",
          "text": [
            "3\n"
          ]
        }
      ]
    },
    {
      "cell_type": "markdown",
      "source": [
        "##### 7. **Replacing Parts of a Date/Time**\n",
        "   - **Description**: Replace specific parts of a `datetime` object (like year, month, day).\n",
        "   - **Example**:"
      ],
      "metadata": {
        "id": "8C1Vb0d5ak_8"
      }
    },
    {
      "cell_type": "code",
      "source": [
        "new_date = now.replace(year=2025, month=12, day=25)\n",
        "print(new_date)  # Output: 2025-12-25 14:30:45.123456"
      ],
      "metadata": {
        "colab": {
          "base_uri": "https://localhost:8080/"
        },
        "id": "_zrNlwb1ahlx",
        "outputId": "32c9325d-4622-4c48-d5f4-ff214338e962"
      },
      "execution_count": null,
      "outputs": [
        {
          "output_type": "stream",
          "name": "stdout",
          "text": [
            "2025-12-25 00:02:43.302677\n"
          ]
        }
      ]
    },
    {
      "cell_type": "markdown",
      "source": [
        "##### 8. **Comparing Dates**\n",
        "   - **Description**: Compare two `datetime` objects to see which is earlier or later.\n",
        "   - **Example**:\n",
        "\n"
      ],
      "metadata": {
        "id": "aBuI4lduad7p"
      }
    },
    {
      "cell_type": "code",
      "source": [
        "future_date = datetime(2025, 1, 1)\n",
        "is_future = future_date > now\n",
        "print(is_future)  # Output: True or False it depends"
      ],
      "metadata": {
        "colab": {
          "base_uri": "https://localhost:8080/"
        },
        "id": "6ZSx0Y_iaa0O",
        "outputId": "d12f1de9-195e-478e-f380-49a19b343c93"
      },
      "execution_count": null,
      "outputs": [
        {
          "output_type": "stream",
          "name": "stdout",
          "text": [
            "False\n"
          ]
        }
      ]
    },
    {
      "cell_type": "markdown",
      "source": [
        "##### 9. **Getting the Start of the Day**\n",
        "   - **Description**: Normalize a `datetime` object to the start of the day (00:00:00).\n",
        "   - **Example**:"
      ],
      "metadata": {
        "id": "7OcX8giEaU2N"
      }
    },
    {
      "cell_type": "code",
      "source": [
        "start_of_day = now.replace(hour=0, minute=0, second=0, microsecond=0)\n",
        "print(start_of_day)  # Output: 2024-08-19 00:00:00"
      ],
      "metadata": {
        "colab": {
          "base_uri": "https://localhost:8080/"
        },
        "id": "19w0_5U4aVq5",
        "outputId": "164063d7-aae4-4949-d9cc-001c3ec976c3"
      },
      "execution_count": null,
      "outputs": [
        {
          "output_type": "stream",
          "name": "stdout",
          "text": [
            "2024-08-22 00:00:00\n"
          ]
        }
      ]
    },
    {
      "cell_type": "markdown",
      "source": [
        "##### 10. **Converting to Timestamp**\n",
        "   - **Description**: Convert a `datetime` object to a Unix timestamp.\n",
        "   - **Example**:"
      ],
      "metadata": {
        "id": "F63ijODCaQQM"
      }
    },
    {
      "cell_type": "code",
      "source": [
        "timestamp = now.timestamp()\n",
        "print(timestamp)  # Output: 1724074245.123456 (varies)"
      ],
      "metadata": {
        "colab": {
          "base_uri": "https://localhost:8080/"
        },
        "id": "YmiJl6I1Z4us",
        "outputId": "8b30cb17-2fa0-42fa-ecd6-d15d61666252"
      },
      "execution_count": null,
      "outputs": [
        {
          "output_type": "stream",
          "name": "stdout",
          "text": [
            "1724284963.302677\n"
          ]
        }
      ]
    },
    {
      "cell_type": "markdown",
      "source": [
        "**Simplification**: `datetime` makes it easy to format, parse, and manipulate date and time values without dealing with raw strings.\n",
        "\n"
      ],
      "metadata": {
        "id": "jm_s8q7XQpCR"
      }
    },
    {
      "cell_type": "markdown",
      "source": [
        "#### 4. **`time`**\n",
        "   - **Purpose**: Provides time-related functions, especially for performance measurement and delays.\n",
        "\n",
        "   **Commonly Used Functions**:\n",
        "   - **`time.time()`**: Returns the current time in seconds since the Epoch.\n",
        "   - **`time.sleep()`**: Suspends execution for a given number of seconds.\n",
        "   - **`time.ctime()`**: Converts a time expressed in seconds since the Epoch to a string.\n",
        "   - **`time.perf_counter()`**: Returns the value (in fractional seconds) of a performance counter for benchmarking.\n",
        "\n",
        "   **Example**: Measuring Execution Time\n",
        "   "
      ],
      "metadata": {
        "id": "uz07H0zAb2Qd"
      }
    },
    {
      "cell_type": "code",
      "source": [
        "import time\n",
        "\n",
        "start = time.perf_counter()\n",
        "time.sleep(2)  # Simulating a delay\n",
        "end = time.perf_counter()\n",
        "\n",
        "print(f\"Elapsed time: {end - start} seconds\")  # Output: Elapsed time: 2.00... seconds"
      ],
      "metadata": {
        "colab": {
          "base_uri": "https://localhost:8080/"
        },
        "id": "vLLQLvdRTqM8",
        "outputId": "bd98c8ea-d3bf-4317-f249-feceb82d2e38"
      },
      "execution_count": null,
      "outputs": [
        {
          "output_type": "stream",
          "name": "stdout",
          "text": [
            "Elapsed time: 2.002466801999617 seconds\n"
          ]
        }
      ]
    },
    {
      "cell_type": "markdown",
      "source": [
        "**Simplification**: `time.perf_counter()` provides a high-resolution timer for precise performance measurement, which is crucial for optimizing code.\n",
        "\n"
      ],
      "metadata": {
        "id": "Jtx5PCSNQuVl"
      }
    },
    {
      "cell_type": "markdown",
      "source": [
        "#### 5. **`calendar`**\n",
        "   - **Purpose**: Provides functions related to calendar operations.\n",
        "\n",
        "   **Commonly Used Functions**:\n",
        "   - **`calendar.monthcalendar()`**: Returns a matrix representing a month's calendar.\n",
        "   - **`calendar.isleap()`**: Checks if a given year is a leap year.\n",
        "   - **`calendar.weekday()`**: Returns the day of the week for a given date.\n",
        "\n",
        "   **Example**: Checking for Leap Year\n",
        "   "
      ],
      "metadata": {
        "id": "6Ukp6DwxQ0Q9"
      }
    },
    {
      "cell_type": "code",
      "source": [
        "import calendar\n",
        "\n",
        "year = 2024\n",
        "if calendar.isleap(year):\n",
        "    print(f\"{year} is a leap year\")\n",
        "else:\n",
        "    print(f\"{year} is not a leap year\")"
      ],
      "metadata": {
        "colab": {
          "base_uri": "https://localhost:8080/"
        },
        "id": "jKHqQMsfSspw",
        "outputId": "19b03992-5847-4a73-c961-94a058545f4e"
      },
      "execution_count": null,
      "outputs": [
        {
          "output_type": "stream",
          "name": "stdout",
          "text": [
            "2024 is a leap year\n"
          ]
        }
      ]
    },
    {
      "cell_type": "markdown",
      "source": [
        "**Simplification**: `calendar.isleap()` allows for easy checking of leap years, which is essential for date-related calculations and planning.\n",
        "\n"
      ],
      "metadata": {
        "id": "foeHScquQ2hA"
      }
    },
    {
      "cell_type": "markdown",
      "source": [
        "### Summary of Simplifications:\n",
        "- **`itertools`**: Simplifies complex iteration patterns and combinations.\n",
        "- **`functools`**: Enhances functional programming with caching, partial applications, and function reductions.\n",
        "- **`datetime`**: Eases manipulation and formatting of date and time data.\n",
        "- **`time`**: Offers simple yet powerful tools for measuring execution time and delaying operations.\n",
        "- **`calendar`**: Facilitates calendar operations, like checking leap years and generating calendars.\n",
        "\n"
      ],
      "metadata": {
        "id": "pBcfBIb6QRou"
      }
    },
    {
      "cell_type": "markdown",
      "source": [
        "### Example Usage:\n",
        "\n"
      ],
      "metadata": {
        "id": "S1tITs-4Q4zG"
      }
    },
    {
      "cell_type": "markdown",
      "source": [
        "#### Example 1: Generating All Possible Date Combinations\n",
        "**Goal**: Use `itertools.product()` to generate all possible combinations of day, month, and year within a given range.\n",
        "\n",
        "**Code**:\n"
      ],
      "metadata": {
        "id": "dQbdbYUGQ6I0"
      }
    },
    {
      "cell_type": "code",
      "source": [
        "import itertools\n",
        "from datetime import datetime\n",
        "\n",
        "days = range(1, 32)\n",
        "months = range(1, 13)\n",
        "years = range(2022, 2024)\n",
        "\n",
        "combinations = itertools.product(days, months, years)\n",
        "\n",
        "valid_dates = []\n",
        "for day, month, year in combinations:\n",
        "    try:\n",
        "        valid_dates.append(datetime(year, month, day))\n",
        "    except ValueError:\n",
        "        continue\n",
        "\n",
        "print(f\"Generated {len(valid_dates)} valid dates.\")"
      ],
      "metadata": {
        "colab": {
          "base_uri": "https://localhost:8080/"
        },
        "id": "RR-0LdMtRROY",
        "outputId": "81871ba2-bf74-40a7-ea74-277e2f2547a4"
      },
      "execution_count": null,
      "outputs": [
        {
          "output_type": "stream",
          "name": "stdout",
          "text": [
            "Generated 730 valid dates.\n"
          ]
        }
      ]
    },
    {
      "cell_type": "markdown",
      "source": [
        "#### Example 2: Caching Expensive Calculations\n",
        "**Goal**: Use `functools.lru_cache()` to optimize a function that calculates the nth Fibonacci number, making it efficient for large inputs.\n",
        "\n",
        "**Code**:\n"
      ],
      "metadata": {
        "id": "gMP9-eL4Q8z7"
      }
    },
    {
      "cell_type": "code",
      "source": [
        "import functools\n",
        "\n",
        "@functools.lru_cache(maxsize=None)\n",
        "def fib(n):\n",
        "    if n < 2:\n",
        "        return n\n",
        "    return fib(n-1) + fib(n-2)\n",
        "\n",
        "print(fib(100))  # Cached, efficient computation of large Fibonacci number"
      ],
      "metadata": {
        "colab": {
          "base_uri": "https://localhost:8080/"
        },
        "id": "HvAensL2RVEc",
        "outputId": "23cd14bf-187e-4861-a2d8-ce4dbee6b9a4"
      },
      "execution_count": null,
      "outputs": [
        {
          "output_type": "stream",
          "name": "stdout",
          "text": [
            "354224848179261915075\n"
          ]
        }
      ]
    },
    {
      "cell_type": "markdown",
      "source": [
        "#### Example 3: Measuring Execution Time of a Sorting Algorithm\n",
        "**Goal**: Use `time.perf_counter()` to measure how long it takes to sort a large list.\n",
        "\n",
        "**Code**:\n"
      ],
      "metadata": {
        "id": "N-Wlfz6LQ_AM"
      }
    },
    {
      "cell_type": "code",
      "source": [
        "import time\n",
        "\n",
        "large_list = list(range(1000000, 0, -1))\n",
        "\n",
        "start = time.perf_counter()\n",
        "large_list.sort()\n",
        "end = time.perf_counter()\n",
        "\n",
        "print(f\"Sorting took {end - start:.2f} seconds.\")"
      ],
      "metadata": {
        "colab": {
          "base_uri": "https://localhost:8080/"
        },
        "id": "Oj91-UugRhfs",
        "outputId": "b5a43b7d-1d91-41b4-90e9-6272c669060a"
      },
      "execution_count": null,
      "outputs": [
        {
          "output_type": "stream",
          "name": "stdout",
          "text": [
            "Sorting took 0.01 seconds.\n"
          ]
        }
      ]
    },
    {
      "cell_type": "markdown",
      "source": [
        "#### Example 4: Create a Yearly Calendar\n",
        "**Goal**: Use `calendar` to generate and print a yearly calendar for a specified year.\n",
        "\n",
        "**Code**:\n"
      ],
      "metadata": {
        "id": "-7LZcVOPRB1b"
      }
    },
    {
      "cell_type": "code",
      "source": [
        "import calendar\n",
        "\n",
        "year = 2024\n",
        "print(calendar.TextCalendar().formatyear(year))"
      ],
      "metadata": {
        "colab": {
          "base_uri": "https://localhost:8080/"
        },
        "id": "NIg_Oi6sRlOw",
        "outputId": "025cf31d-9c26-425c-d6a8-2861c3657093"
      },
      "execution_count": null,
      "outputs": [
        {
          "output_type": "stream",
          "name": "stdout",
          "text": [
            "                                  2024\n",
            "\n",
            "      January                   February                   March\n",
            "Mo Tu We Th Fr Sa Su      Mo Tu We Th Fr Sa Su      Mo Tu We Th Fr Sa Su\n",
            " 1  2  3  4  5  6  7                1  2  3  4                   1  2  3\n",
            " 8  9 10 11 12 13 14       5  6  7  8  9 10 11       4  5  6  7  8  9 10\n",
            "15 16 17 18 19 20 21      12 13 14 15 16 17 18      11 12 13 14 15 16 17\n",
            "22 23 24 25 26 27 28      19 20 21 22 23 24 25      18 19 20 21 22 23 24\n",
            "29 30 31                  26 27 28 29               25 26 27 28 29 30 31\n",
            "\n",
            "       April                      May                       June\n",
            "Mo Tu We Th Fr Sa Su      Mo Tu We Th Fr Sa Su      Mo Tu We Th Fr Sa Su\n",
            " 1  2  3  4  5  6  7             1  2  3  4  5                      1  2\n",
            " 8  9 10 11 12 13 14       6  7  8  9 10 11 12       3  4  5  6  7  8  9\n",
            "15 16 17 18 19 20 21      13 14 15 16 17 18 19      10 11 12 13 14 15 16\n",
            "22 23 24 25 26 27 28      20 21 22 23 24 25 26      17 18 19 20 21 22 23\n",
            "29 30                     27 28 29 30 31            24 25 26 27 28 29 30\n",
            "\n",
            "        July                     August                  September\n",
            "Mo Tu We Th Fr Sa Su      Mo Tu We Th Fr Sa Su      Mo Tu We Th Fr Sa Su\n",
            " 1  2  3  4  5  6  7                1  2  3  4                         1\n",
            " 8  9 10 11 12 13 14       5  6  7  8  9 10 11       2  3  4  5  6  7  8\n",
            "15 16 17 18 19 20 21      12 13 14 15 16 17 18       9 10 11 12 13 14 15\n",
            "22 23 24 25 26 27 28      19 20 21 22 23 24 25      16 17 18 19 20 21 22\n",
            "29 30 31                  26 27 28 29 30 31         23 24 25 26 27 28 29\n",
            "                                                    30\n",
            "\n",
            "      October                   November                  December\n",
            "Mo Tu We Th Fr Sa Su      Mo Tu We Th Fr Sa Su      Mo Tu We Th Fr Sa Su\n",
            "    1  2  3  4  5  6                   1  2  3                         1\n",
            " 7  8  9 10 11 12 13       4  5  6  7  8  9 10       2  3  4  5  6  7  8\n",
            "14 15 16 17 18 19 20      11 12 13 14 15 16 17       9 10 11 12 13 14 15\n",
            "21 22 23 24 25 26 27      18 19 20 21 22 23 24      16 17 18 19 20 21 22\n",
            "28 29 30 31               25 26 27 28 29 30         23 24 25 26 27 28 29\n",
            "                                                    30 31\n",
            "\n"
          ]
        }
      ]
    },
    {
      "cell_type": "markdown",
      "source": [
        "# Example PROJECT"
      ],
      "metadata": {
        "id": "WfnVuYbtPReE"
      }
    },
    {
      "cell_type": "markdown",
      "source": [
        "#### Simulation"
      ],
      "metadata": {
        "id": "c5VIexr98CLv"
      }
    },
    {
      "cell_type": "code",
      "source": [
        "import random\n",
        "import string\n",
        "from datetime import datetime, timedelta\n",
        "\n",
        "# Helper functions\n",
        "def random_date(start_year=2020, end_year=2024):\n",
        "    start_date = datetime(start_year, 1, 1)\n",
        "    end_date = datetime(end_year, 12, 31)\n",
        "    random_days = random.randint(0, (end_date - start_date).days)\n",
        "    return (start_date + timedelta(days=random_days)).strftime('%m-%d-%Y')\n",
        "\n",
        "def random_product_code():\n",
        "    return ''.join(random.choices(string.ascii_uppercase + string.digits, k=8))\n",
        "\n",
        "def random_marked_price_reasonable():\n",
        "    return round(random.uniform(5, 50), 2)\n",
        "\n",
        "def random_best_upto_reasonable():\n",
        "    return random.randint(30, 1000)\n",
        "\n",
        "# Manufacturer names per country\n",
        "manufacturers = {\n",
        "    \"China\": [\"Wuhan Foods\", \"Beijing Harvest\", \"Shenzhen Fresh\", \"Shanghai Farms\", \"Guangzhou Goods\", \"Xian Organics\", \"Nanjing Produce\", \"Hangzhou Pure\", \"Tianjin Natural\", \"Chengdu Healthy\"],\n",
        "\n",
        "    \"India\": [\"Mumbai Delights\", \"Delhi Organics\", \"Bangalore Fresh\", \"Kolkata Farms\", \"Chennai Foods\", \"Pune Harvest\", \"Hyderabad Pure\", \"Ahmedabad Goods\", \"Surat Produce\", \"Jaipur Natural\"],\n",
        "\n",
        "    \"Mexico\": [\"Mexico City Foods\", \"Guadalajara Fresh\", \"Monterrey Harvest\", \"Puebla Farms\", \"Toluca Organics\", \"Tijuana Natural\", \"León Pure\", \"Culiacán Healthy\", \"Cancún Delights\", \"Mérida Produce\"],\n",
        "\n",
        "    \"USA\": [\"California Farms\", \"Texas Foods\", \"New York Fresh\", \"Florida Harvest\", \"Illinois Organics\", \"Ohio Pure\", \"Georgia Natural\", \"Pennsylvania Healthy\", \"Arizona Goods\", \"Michigan Produce\"],\n",
        "\n",
        "    \"Japan\": [\"Tokyo Organics\", \"Osaka Fresh\", \"Nagoya Foods\", \"Sapporo Harvest\", \"Fukuoka Farms\", \"Kobe Pure\", \"Kyoto Natural\", \"Yokohama Goods\", \"Hiroshima Healthy\", \"Sendai Produce\"]\n",
        "}\n",
        "\n",
        "# Food categories and items\n",
        "food_categories = {\n",
        "    \"Dairy\": [\"Milk\", \"Cheese\", \"Yogurt\", \"Butter\", \"Cream\"],\n",
        "    \"Beverages\": [\"Juice\", \"Soda\", \"Tea\", \"Coffee\", \"Water\"],\n",
        "    \"Snacks\": [\"Chips\", \"Cookies\", \"Nuts\", \"Crackers\", \"Popcorn\"],\n",
        "    \"Frozen Foods\": [\"Pizza\", \"Vegetables\", \"Ice Cream\", \"Burgers\", \"Fries\"],\n",
        "    \"Bakery\": [\"Bread\", \"Cake\", \"Pastry\", \"Muffin\", \"Bagel\"],\n",
        "    \"Canned Goods\": [\"Beans\", \"Soup\", \"Tomatoes\", \"Peas\", \"Corn\"],\n",
        "    \"Meat\": [\"Chicken\", \"Beef\", \"Pork\", \"Turkey\", \"Lamb\"],\n",
        "    \"Produce\": [\"Apples\", \"Bananas\", \"Carrots\", \"Tomatoes\", \"Lettuce\"],\n",
        "    \"Seafood\": [\"Salmon\", \"Shrimp\", \"Tuna\", \"Crab\", \"Cod\"],\n",
        "    \"Condiments\": [\"Ketchup\", \"Mustard\", \"Mayonnaise\", \"Hot Sauce\", \"Soy Sauce\"],\n",
        "    \"Grains\": [\"Rice\", \"Oats\", \"Quinoa\", \"Barley\", \"Millet\"],\n",
        "    \"Spices\": [\"Pepper\", \"Salt\", \"Cinnamon\", \"Turmeric\", \"Ginger\"],\n",
        "    \"Oils\": [\"Olive Oil\", \"Coconut Oil\", \"Canola Oil\", \"Peanut Oil\", \"Sunflower Oil\"],\n",
        "    \"Sweets\": [\"Chocolate\", \"Candy\", \"Honey\", \"Jam\", \"Maple Syrup\"],\n",
        "    \"Pasta\": [\"Spaghetti\", \"Penne\", \"Fusilli\", \"Macaroni\", \"Ravioli\"],\n",
        "    \"Cereal\": [\"Corn Flakes\", \"Oatmeal\", \"Granola\", \"Muesli\", \"Wheat Bran\"],\n",
        "    \"Nuts\": [\"Almonds\", \"Walnuts\", \"Cashews\", \"Pistachios\", \"Peanuts\"],\n",
        "    \"Legumes\": [\"Lentils\", \"Chickpeas\", \"Black Beans\", \"Kidney Beans\", \"Green Peas\"],\n",
        "    \"Baking Ingredients\": [\"Flour\", \"Sugar\", \"Baking Powder\", \"Yeast\", \"Cocoa Powder\"],\n",
        "    \"Dried Fruits\": [\"Raisins\", \"Dates\", \"Apricots\", \"Prunes\", \"Cranberries\"]\n",
        "}\n",
        "\n",
        "def random_food_product_name(category):\n",
        "    return f\"{random.choice(food_categories[category])} {random.choice(['Fresh', 'Organic', 'Natural', 'Low-fat', 'Gluten-Free'])}\"\n",
        "\n",
        "def generate_food_data(num_rows):\n",
        "    headers = [\"Product Name\", \"Product Code\", \"Price ($)\", \"Manufacturer\", \"Country\", \"Manufacture Date\", \"Best Before (Days)\", \"Category\"]\n",
        "    data = []\n",
        "    for _ in range(num_rows):\n",
        "        product_category = random.choice(list(food_categories.keys()))\n",
        "        product_name = random_food_product_name(product_category)\n",
        "        product_code = random_product_code()\n",
        "        marked_price = random_marked_price_reasonable()\n",
        "        manufacturer_country = random.choice(list(manufacturers.keys()))\n",
        "        manufacturer = random.choice(manufacturers[manufacturer_country])\n",
        "        manufacture_date = random_date()\n",
        "        best_upto = random_best_upto_reasonable()\n",
        "\n",
        "        data.append([\n",
        "            product_name,\n",
        "            product_code,\n",
        "            marked_price,\n",
        "            manufacturer,\n",
        "            manufacturer_country,\n",
        "            manufacture_date,\n",
        "            best_upto,\n",
        "            product_category\n",
        "        ])\n",
        "    return data, headers\n",
        "\n",
        "def pretty_print_food_data(food_data, headers):\n",
        "    # Determine column widths based on headers and data\n",
        "    col_widths = [max(len(str(x)) for x in col) for col in zip(*([headers] + food_data))]\n",
        "\n",
        "    # Print headers\n",
        "    header_row = \"S.No. \"+ \" | \".join(f\"{headers[i].ljust(col_widths[i])}\" for i in range(len(headers)))\n",
        "    print(\"-\" * len(header_row))\n",
        "    print(header_row)\n",
        "    print(\"-\" * len(header_row))\n",
        "\n",
        "    # Print each row of data\n",
        "    for i, row in enumerate(food_data):\n",
        "        row_str = f\"{i+1:04}. \"+ \" | \".join(f\"{str(row[i]).ljust(col_widths[i])}\" for i in range(len(row)))\n",
        "        print(row_str)\n",
        "    print(\"-\" * len(header_row))"
      ],
      "metadata": {
        "id": "lJyRyFatO9L0"
      },
      "execution_count": null,
      "outputs": []
    },
    {
      "cell_type": "markdown",
      "source": [
        "# New Section"
      ],
      "metadata": {
        "id": "RD9J6bp5ADEX"
      }
    },
    {
      "cell_type": "markdown",
      "source": [
        "#### Code"
      ],
      "metadata": {
        "id": "OeR1MpDVPGgG"
      }
    },
    {
      "cell_type": "code",
      "source": [
        "# Example usage\n",
        "food_data, headers = generate_food_data(1000)\n",
        "pretty_print_food_data(food_data[:25], headers)  # Display the first 5 rows of generated data"
      ],
      "metadata": {
        "colab": {
          "base_uri": "https://localhost:8080/"
        },
        "id": "BmTPTakD9lES",
        "outputId": "62fbb2a8-a72a-4a09-bc27-10ee0d91f7f1"
      },
      "execution_count": null,
      "outputs": [
        {
          "output_type": "stream",
          "name": "stdout",
          "text": [
            "---------------------------------------------------------------------------------------------------------------------------------------------------\n",
            "S.No. Product Name         | Product Code | Price ($) | Manufacturer         | Country | Manufacture Date | Best Before (Days) | Category          \n",
            "---------------------------------------------------------------------------------------------------------------------------------------------------\n",
            "0001. Corn Flakes Natural  | 3BUTS370     | 7.73      | Cancún Delights      | Mexico  | 08-13-2024       | 461                | Cereal            \n",
            "0002. Millet Organic       | OESGAGZS     | 12.44     | Kobe Pure            | Japan   | 01-14-2020       | 893                | Grains            \n",
            "0003. Coffee Low-fat       | 9GFGC98Z     | 34.98     | Michigan Produce     | USA     | 09-27-2024       | 772                | Beverages         \n",
            "0004. Salmon Low-fat       | 4MRHI0KO     | 21.4      | Xian Organics        | China   | 03-07-2021       | 338                | Seafood           \n",
            "0005. Muesli Low-fat       | NRF3BC3R     | 17.53     | León Pure            | Mexico  | 03-25-2020       | 915                | Cereal            \n",
            "0006. Salt Natural         | BJHF10XW     | 45.43     | Tijuana Natural      | Mexico  | 09-26-2024       | 365                | Spices            \n",
            "0007. Beans Gluten-Free    | PL1ZU0NE     | 44.4      | Puebla Farms         | Mexico  | 06-02-2021       | 336                | Canned Goods      \n",
            "0008. Barley Gluten-Free   | G6GETM4X     | 23.09     | Mérida Produce       | Mexico  | 08-14-2021       | 867                | Grains            \n",
            "0009. Kidney Beans Organic | 3GCAHFQS     | 19.64     | Cancún Delights      | Mexico  | 07-11-2023       | 214                | Legumes           \n",
            "0010. Tea Organic          | NH3GYCIU     | 34.57     | Florida Harvest      | USA     | 03-06-2021       | 516                | Beverages         \n",
            "0011. Ketchup Natural      | 4RCBBWPJ     | 30.73     | Pune Harvest         | India   | 02-12-2023       | 609                | Condiments        \n",
            "0012. Burgers Natural      | XYF51L3S     | 34.6      | Hyderabad Pure       | India   | 02-29-2020       | 130                | Frozen Foods      \n",
            "0013. Popcorn Organic      | C69S25I8     | 22.35     | Bangalore Fresh      | India   | 08-27-2020       | 404                | Snacks            \n",
            "0014. Coffee Natural       | V56TGXJQ     | 26.6      | León Pure            | Mexico  | 04-16-2020       | 184                | Beverages         \n",
            "0015. Water Gluten-Free    | 41PQMQ4K     | 12.52     | León Pure            | Mexico  | 07-29-2020       | 517                | Beverages         \n",
            "0016. Tomatoes Low-fat     | 8XJENTN2     | 22.84     | Tokyo Organics       | Japan   | 12-25-2020       | 868                | Canned Goods      \n",
            "0017. Soda Natural         | 7X20YO9G     | 7.12      | Surat Produce        | India   | 06-11-2020       | 439                | Beverages         \n",
            "0018. Flour Gluten-Free    | P2N80OWA     | 43.44     | Ahmedabad Goods      | India   | 08-05-2023       | 665                | Baking Ingredients\n",
            "0019. Muesli Natural       | 3VPCOTVJ     | 22.04     | Jaipur Natural       | India   | 03-24-2021       | 312                | Cereal            \n",
            "0020. Pork Natural         | SO0GX8CY     | 25.98     | Texas Foods          | USA     | 03-26-2020       | 757                | Meat              \n",
            "0021. Granola Natural      | 3O4OVQQR     | 49.59     | Hyderabad Pure       | India   | 12-08-2021       | 907                | Cereal            \n",
            "0022. Carrots Fresh        | O6T076JV     | 13.56     | Puebla Farms         | Mexico  | 03-14-2024       | 993                | Produce           \n",
            "0023. Ravioli Fresh        | YK9I5HVV     | 46.75     | Monterrey Harvest    | Mexico  | 06-08-2022       | 389                | Pasta             \n",
            "0024. Tuna Organic         | OQ8L4P6H     | 13.16     | Pennsylvania Healthy | USA     | 03-30-2022       | 294                | Seafood           \n",
            "0025. Ravioli Fresh        | CJ4HNLYT     | 42.17     | Ahmedabad Goods      | India   | 02-12-2021       | 853                | Pasta             \n",
            "---------------------------------------------------------------------------------------------------------------------------------------------------\n"
          ]
        }
      ]
    },
    {
      "cell_type": "markdown",
      "source": [
        "Here are three engaging and meaningful projects based on the generated food data that utilize the `itertools`, `functools`, and `datetime` libraries in Python:\n",
        "\n",
        "### Project 1: **Food Expiry Date Tracker**\n",
        "**Objective**: Track and notify which food items are nearing their expiry date within a specified number of days using `datetime`.\n",
        "\n",
        "**Steps**:\n",
        "1. **Convert Manufacture Date**: Convert the manufacture date to a `datetime` object and calculate the expiry date by adding the \"Best Before\" days.\n",
        "2. **Filter Items**: Use a specified threshold to filter items that are about to expire soon.\n",
        "3. **Display Results**: Display the items that need attention.\n",
        "\n",
        "**Code**:\n"
      ],
      "metadata": {
        "id": "ziqKwm1UAuX-"
      }
    },
    {
      "cell_type": "code",
      "source": [
        "from datetime import datetime, timedelta\n",
        "\n",
        "def track_expiry(food_data, days_threshold=30):\n",
        "    soon_to_expire = []\n",
        "    for item in food_data:\n",
        "        manufacture_date = datetime.strptime(item[5], \"%m-%d-%Y\")\n",
        "        expiry_date = manufacture_date + timedelta(days=item[6])\n",
        "        days_until_expiry = (expiry_date - datetime.now()).days\n",
        "\n",
        "        if 0 <= days_until_expiry <= days_threshold:\n",
        "            soon_to_expire.append((*item, expiry_date.strftime(\"%m-%d-%Y\"), days_until_expiry))\n",
        "\n",
        "    # Print results\n",
        "    print(f\"Items expiring in the next {days_threshold} days:\")\n",
        "    expiry_headers = headers + [\"Expiry Date\", \"Days Until Expiry\"]\n",
        "    return soon_to_expire, expiry_headers\n",
        "\n",
        "# Example usage\n",
        "exp_data, exp_headers = track_expiry(food_data, 60)\n",
        "pretty_print_food_data(exp_data, exp_headers)"
      ],
      "metadata": {
        "colab": {
          "base_uri": "https://localhost:8080/"
        },
        "id": "t6gCPyIeBAOE",
        "outputId": "e9116149-8829-4305-e41f-fac810fb0189"
      },
      "execution_count": null,
      "outputs": [
        {
          "output_type": "stream",
          "name": "stdout",
          "text": [
            "Items expiring in the next 60 days:\n",
            "-----------------------------------------------------------------------------------------------------------------------------------------------------------------------------------\n",
            "S.No. Product Name          | Product Code | Price ($) | Manufacturer      | Country | Manufacture Date | Best Before (Days) | Category           | Expiry Date | Days Until Expiry\n",
            "-----------------------------------------------------------------------------------------------------------------------------------------------------------------------------------\n",
            "0001. Flour Gluten-Free     | P2N80OWA     | 43.44     | Ahmedabad Goods   | India   | 08-05-2023       | 665                | Baking Ingredients | 05-31-2025  | 45               \n",
            "0002. Baking Powder Low-fat | L3X6AXEL     | 5.7       | León Pure         | Mexico  | 04-30-2024       | 370                | Baking Ingredients | 05-05-2025  | 19               \n",
            "0003. Macaroni Gluten-Free  | QXBNSHG7     | 27.68     | Mumbai Delights   | India   | 09-09-2022       | 953                | Pasta              | 04-19-2025  | 3                \n",
            "0004. Sugar Organic         | GAVLSK7M     | 35.71     | León Pure         | Mexico  | 02-16-2024       | 460                | Baking Ingredients | 05-21-2025  | 35               \n",
            "0005. Chickpeas Gluten-Free | P0DDNKR0     | 16.27     | Michigan Produce  | USA     | 10-28-2023       | 547                | Legumes            | 04-27-2025  | 11               \n",
            "0006. Almonds Organic       | 4BDOS9IL     | 20.17     | Delhi Organics    | India   | 04-20-2023       | 732                | Nuts               | 04-21-2025  | 5                \n",
            "0007. Hot Sauce Gluten-Free | J2MF5C9C     | 17.99     | Illinois Organics | USA     | 07-23-2024       | 327                | Condiments         | 06-15-2025  | 60               \n",
            "0008. Juice Low-fat         | 38NZ75WA     | 38.01     | Georgia Natural   | USA     | 05-29-2023       | 739                | Beverages          | 06-06-2025  | 51               \n",
            "0009. Beans Fresh           | HWJ0STQ9     | 40.17     | Toluca Organics   | Mexico  | 02-25-2024       | 463                | Canned Goods       | 06-02-2025  | 47               \n",
            "0010. Pizza Low-fat         | BEPK78KS     | 28.96     | Tijuana Natural   | Mexico  | 01-06-2023       | 855                | Frozen Foods       | 05-10-2025  | 24               \n",
            "0011. Oats Natural          | 3RV2MWIA     | 43.83     | Michigan Produce  | USA     | 06-07-2023       | 734                | Grains             | 06-10-2025  | 55               \n",
            "0012. Salmon Organic        | Y3L08V2Z     | 30.85     | Pune Harvest      | India   | 06-24-2024       | 327                | Seafood            | 05-17-2025  | 31               \n",
            "0013. Soy Sauce Gluten-Free | G11ZZHAC     | 23.06     | Michigan Produce  | USA     | 09-02-2022       | 989                | Condiments         | 05-18-2025  | 32               \n",
            "0014. Chicken Natural       | 0PHVCY7L     | 42.9      | Sapporo Harvest   | Japan   | 09-14-2022       | 955                | Meat               | 04-26-2025  | 10               \n",
            "0015. Tuna Low-fat          | 0CYWJE78     | 35.3      | Ohio Pure         | USA     | 06-23-2023       | 720                | Seafood            | 06-12-2025  | 57               \n",
            "0016. Rice Low-fat          | 0QNVR5FV     | 31.7      | Texas Foods       | USA     | 09-08-2022       | 994                | Grains             | 05-29-2025  | 43               \n",
            "0017. Muesli Gluten-Free    | 2IATYPF4     | 28.96     | Kolkata Farms     | India   | 10-08-2024       | 197                | Cereal             | 04-23-2025  | 7                \n",
            "0018. Sunflower Oil Low-fat | 21ULW2WX     | 16.87     | Jaipur Natural    | India   | 09-27-2023       | 622                | Oils               | 06-10-2025  | 55               \n",
            "0019. Maple Syrup Natural   | J7N7UO8X     | 22.38     | Kolkata Farms     | India   | 04-26-2023       | 725                | Sweets             | 04-20-2025  | 4                \n",
            "0020. Tea Organic           | QZ958IWN     | 28.41     | Fukuoka Farms     | Japan   | 10-14-2023       | 608                | Beverages          | 06-13-2025  | 58               \n",
            "0021. Peas Fresh            | YZXP0BB9     | 43.11     | Illinois Organics | USA     | 09-11-2024       | 241                | Canned Goods       | 05-10-2025  | 24               \n",
            "0022. Muffin Fresh          | VNB74687     | 14.27     | Yokohama Goods    | Japan   | 12-22-2023       | 488                | Bakery             | 04-23-2025  | 7                \n",
            "0023. Tomatoes Gluten-Free  | 7HDTPJNE     | 17.15     | Texas Foods       | USA     | 11-25-2022       | 876                | Produce            | 04-19-2025  | 3                \n",
            "0024. Tomatoes Gluten-Free  | IIRGOQGG     | 30.0      | Cancún Delights   | Mexico  | 01-23-2023       | 838                | Produce            | 05-10-2025  | 24               \n",
            "0025. Bread Fresh           | LMFPXRXX     | 46.05     | Wuhan Foods       | China   | 12-08-2022       | 893                | Bakery             | 05-19-2025  | 33               \n",
            "0026. Muffin Gluten-Free    | 6XBW1X9A     | 9.41      | Guangzhou Goods   | China   | 02-05-2023       | 806                | Bakery             | 04-21-2025  | 5                \n",
            "0027. Sunflower Oil Low-fat | OJFE8YKR     | 48.51     | Xian Organics     | China   | 08-11-2024       | 295                | Oils               | 06-02-2025  | 47               \n",
            "0028. Quinoa Organic        | TK9M1K24     | 43.47     | Cancún Delights   | Mexico  | 07-09-2023       | 703                | Grains             | 06-11-2025  | 56               \n",
            "0029. Burgers Organic       | T3C4N4SM     | 8.09      | Nagoya Foods      | Japan   | 05-27-2024       | 359                | Frozen Foods       | 05-21-2025  | 35               \n",
            "0030. Barley Gluten-Free    | AI8XS0WV     | 16.2      | Wuhan Foods       | China   | 09-24-2022       | 984                | Grains             | 06-04-2025  | 49               \n",
            "0031. Lentils Organic       | V6Z5BQWJ     | 26.79     | Kolkata Farms     | India   | 03-03-2023       | 784                | Legumes            | 04-25-2025  | 9                \n",
            "-----------------------------------------------------------------------------------------------------------------------------------------------------------------------------------\n"
          ]
        }
      ]
    },
    {
      "cell_type": "markdown",
      "source": [
        "### Project 2: **Manufacturer Report by Country**\n",
        "**Objective**: Generate a report of the total number of products and the average price of products for each manufacturer in a specific country using `itertools` and `functools`.\n",
        "\n",
        "**Steps**:\n",
        "1. **Group by Manufacturer**: Use `itertools.groupby` to group the data by manufacturer.\n",
        "2. **Calculate Stats**: Use `functools.reduce` to calculate the total number of products and the average price for each manufacturer.\n",
        "3. **Display Report**: Print a report showing the results.\n",
        "\n",
        "**Code**:\n"
      ],
      "metadata": {
        "id": "qVOBr0ACA325"
      }
    },
    {
      "cell_type": "code",
      "source": [
        "import itertools\n",
        "import functools\n",
        "\n",
        "def manufacturer_report_by_country(food_data, country):\n",
        "    # Filter by country\n",
        "    filtered_data = [item for item in food_data if item[4] == country]\n",
        "\n",
        "    # Sort by manufacturer (necessary for groupby)\n",
        "    filtered_data.sort(key=lambda x: x[3])\n",
        "\n",
        "    # Group by manufacturer\n",
        "    grouped_data = itertools.groupby(filtered_data, key=lambda x: x[3])\n",
        "\n",
        "    # Create Data\n",
        "    mfg_data = []\n",
        "    mfg_header = [\"Manufacturer\", \"Total Products\", \"Average Price\"]\n",
        "    # Calculate and display the report\n",
        "    for manufacturer, items in grouped_data:\n",
        "        items_list = list(items)\n",
        "        total_products = len(items_list)\n",
        "\n",
        "        # Get Prices\n",
        "        prices = [item[2] for item in items_list]\n",
        "        average_price = sum(prices) / total_products\n",
        "\n",
        "        mfg_data.append((manufacturer, total_products, average_price))\n",
        "    return mfg_data, mfg_header\n",
        "\n",
        "# Example usage\n",
        "mfg_data, mfg_header = manufacturer_report_by_country(food_data, \"USA\")\n",
        "pretty_print_food_data(mfg_data, mfg_header)"
      ],
      "metadata": {
        "colab": {
          "base_uri": "https://localhost:8080/"
        },
        "id": "lFPhcWJgBDqI",
        "outputId": "be8ddbf5-8ccd-48cb-ef69-4b85e12f8c93"
      },
      "execution_count": null,
      "outputs": [
        {
          "output_type": "stream",
          "name": "stdout",
          "text": [
            "----------------------------------------------------------------\n",
            "S.No. Manufacturer         | Total Products | Average Price     \n",
            "----------------------------------------------------------------\n",
            "0001. Arizona Goods        | 22             | 27.183636363636367\n",
            "0002. California Farms     | 18             | 24.61111111111111 \n",
            "0003. Florida Harvest      | 16             | 28.038749999999997\n",
            "0004. Georgia Natural      | 24             | 27.601249999999997\n",
            "0005. Illinois Organics    | 23             | 23.197826086956525\n",
            "0006. Michigan Produce     | 24             | 26.269166666666663\n",
            "0007. New York Fresh       | 27             | 28.91037037037037 \n",
            "0008. Ohio Pure            | 21             | 29.404761904761905\n",
            "0009. Pennsylvania Healthy | 23             | 26.18521739130434 \n",
            "0010. Texas Foods          | 23             | 26.716521739130435\n",
            "----------------------------------------------------------------\n"
          ]
        }
      ]
    },
    {
      "cell_type": "markdown",
      "source": [
        "### Project 3: **Generate Meal Kits**\n",
        "**Objective**: Create meal kits by pairing compatible products (e.g., main dish + side dish) using `itertools.product` and ensure the combination is affordable (total price below a specified budget).\n",
        "\n",
        "**Steps**:\n",
        "1. **Pair Products**: Use `itertools.product` to create all possible combinations of products.\n",
        "2. **Filter by Budget**: Ensure the combined price of the products is within the specified budget.\n",
        "3. **Display Meal Kits**: Print out the generated meal kits.\n",
        "\n",
        "**Code**:\n"
      ],
      "metadata": {
        "id": "yApeJriKA7sB"
      }
    },
    {
      "cell_type": "code",
      "source": [
        "import itertools\n",
        "\n",
        "def generate_meal_kits(food_data, budget=50):\n",
        "    # Filter products into main dishes and sides\n",
        "    main_dishes = [item for item in food_data if item[7] in [\"Meat\", \"Seafood\", \"Pasta\", \"Frozen Foods\"]]\n",
        "    sides = [item for item in food_data if item[7] in [\"Vegetables\", \"Condiments\", \"Bakery\", \"Produce\"]]\n",
        "\n",
        "    # Generate all possible meal kits (main + side)\n",
        "    meal_kits = itertools.product(main_dishes, sides)\n",
        "\n",
        "    # Filter by budget\n",
        "    affordable_meal_kits = [(main, side) for main, side in meal_kits if main[2] + side[2] <= budget]\n",
        "\n",
        "    # Display the meal kits\n",
        "    print(f\"Meal Kits under ${budget}:\")\n",
        "    meal_data = []\n",
        "    meal_headers = [\"Main Dish\", \"Side Dish\", \"Price\"]\n",
        "    for main, side in affordable_meal_kits:\n",
        "        total_price = main[2] + side[2]\n",
        "        meal_data.append((main[0], side[0], total_price))\n",
        "    return meal_data, meal_headers\n",
        "\n",
        "# Example usage\n",
        "meal_data, meal_headers = generate_meal_kits(food_data, 12)\n",
        "\n",
        "# See the data\n",
        "pretty_print_food_data(meal_data[:100], meal_headers)"
      ],
      "metadata": {
        "colab": {
          "base_uri": "https://localhost:8080/"
        },
        "id": "XIORKdEEBF6F",
        "outputId": "cb7162b7-ed20-4cb4-caa9-10f52e647df6"
      },
      "execution_count": null,
      "outputs": [
        {
          "output_type": "stream",
          "name": "stdout",
          "text": [
            "Meal Kits under $12:\n",
            "-------------------------------------------------------------------------\n",
            "S.No. Main Dish              | Side Dish             | Price             \n",
            "-------------------------------------------------------------------------\n",
            "0001. Vegetables Gluten-Free | Pastry Organic        | 11.75             \n",
            "0002. Vegetables Gluten-Free | Pastry Low-fat        | 11.34             \n",
            "0003. Vegetables Gluten-Free | Hot Sauce Gluten-Free | 11.15             \n",
            "0004. Vegetables Gluten-Free | Tomatoes Low-fat      | 11.6              \n",
            "0005. Vegetables Gluten-Free | Soy Sauce Natural     | 11.01             \n",
            "0006. Vegetables Gluten-Free | Soy Sauce Fresh       | 11.940000000000001\n",
            "0007. Vegetables Gluten-Free | Mustard Low-fat       | 11.71             \n",
            "0008. Vegetables Gluten-Free | Muffin Gluten-Free    | 11.879999999999999\n",
            "0009. Vegetables Gluten-Free | Bagel Organic         | 11.98             \n",
            "0010. Spaghetti Fresh        | Pastry Organic        | 11.85             \n",
            "0011. Spaghetti Fresh        | Pastry Low-fat        | 11.44             \n",
            "0012. Spaghetti Fresh        | Hot Sauce Gluten-Free | 11.25             \n",
            "0013. Spaghetti Fresh        | Tomatoes Low-fat      | 11.7              \n",
            "0014. Spaghetti Fresh        | Soy Sauce Natural     | 11.11             \n",
            "0015. Spaghetti Fresh        | Mustard Low-fat       | 11.809999999999999\n",
            "0016. Spaghetti Fresh        | Muffin Gluten-Free    | 11.98             \n",
            "0017. Vegetables Gluten-Free | Pastry Gluten-Free    | 11.25             \n",
            "0018. Vegetables Gluten-Free | Bread Low-fat         | 11.59             \n",
            "0019. Vegetables Gluten-Free | Pastry Organic        | 10.99             \n",
            "0020. Vegetables Gluten-Free | Bananas Natural       | 11.75             \n",
            "0021. Vegetables Gluten-Free | Pastry Low-fat        | 10.58             \n",
            "0022. Vegetables Gluten-Free | Hot Sauce Gluten-Free | 10.39             \n",
            "0023. Vegetables Gluten-Free | Tomatoes Low-fat      | 10.84             \n",
            "0024. Vegetables Gluten-Free | Soy Sauce Natural     | 10.25             \n",
            "0025. Vegetables Gluten-Free | Soy Sauce Fresh       | 11.18             \n",
            "0026. Vegetables Gluten-Free | Mustard Low-fat       | 10.95             \n",
            "0027. Vegetables Gluten-Free | Muffin Gluten-Free    | 11.120000000000001\n",
            "0028. Vegetables Gluten-Free | Lettuce Natural       | 11.36             \n",
            "0029. Vegetables Gluten-Free | Bagel Organic         | 11.22             \n",
            "0030. Crab Gluten-Free       | Hot Sauce Gluten-Free | 11.89             \n",
            "0031. Crab Gluten-Free       | Soy Sauce Natural     | 11.75             \n",
            "0032. Ice Cream Fresh        | Pastry Gluten-Free    | 11.239999999999998\n",
            "0033. Ice Cream Fresh        | Bread Low-fat         | 11.579999999999998\n",
            "0034. Ice Cream Fresh        | Pastry Organic        | 10.98             \n",
            "0035. Ice Cream Fresh        | Bananas Natural       | 11.739999999999998\n",
            "0036. Ice Cream Fresh        | Pastry Low-fat        | 10.57             \n",
            "0037. Ice Cream Fresh        | Hot Sauce Gluten-Free | 10.379999999999999\n",
            "0038. Ice Cream Fresh        | Tomatoes Low-fat      | 10.829999999999998\n",
            "0039. Ice Cream Fresh        | Soy Sauce Natural     | 10.239999999999998\n",
            "0040. Ice Cream Fresh        | Soy Sauce Fresh       | 11.17             \n",
            "0041. Ice Cream Fresh        | Mustard Low-fat       | 10.94             \n",
            "0042. Ice Cream Fresh        | Muffin Gluten-Free    | 11.11             \n",
            "0043. Ice Cream Fresh        | Lettuce Natural       | 11.35             \n",
            "0044. Ice Cream Fresh        | Bagel Organic         | 11.21             \n",
            "0045. Turkey Fresh           | Soy Sauce Natural     | 11.98             \n",
            "0046. Chicken Gluten-Free    | Pastry Low-fat        | 11.89             \n",
            "0047. Chicken Gluten-Free    | Hot Sauce Gluten-Free | 11.7              \n",
            "0048. Chicken Gluten-Free    | Soy Sauce Natural     | 11.559999999999999\n",
            "0049. Cod Natural            | Pastry Organic        | 11.93             \n",
            "0050. Cod Natural            | Pastry Low-fat        | 11.52             \n",
            "0051. Cod Natural            | Hot Sauce Gluten-Free | 11.33             \n",
            "0052. Cod Natural            | Tomatoes Low-fat      | 11.78             \n",
            "0053. Cod Natural            | Soy Sauce Natural     | 11.19             \n",
            "0054. Cod Natural            | Mustard Low-fat       | 11.89             \n",
            "0055. Lamb Fresh             | Hot Sauce Gluten-Free | 11.879999999999999\n",
            "0056. Lamb Fresh             | Soy Sauce Natural     | 11.739999999999998\n",
            "0057. Fusilli Low-fat        | Pastry Gluten-Free    | 11.6              \n",
            "0058. Fusilli Low-fat        | Bread Low-fat         | 11.94             \n",
            "0059. Fusilli Low-fat        | Pastry Organic        | 11.34             \n",
            "0060. Fusilli Low-fat        | Pastry Low-fat        | 10.93             \n",
            "0061. Fusilli Low-fat        | Hot Sauce Gluten-Free | 10.74             \n",
            "0062. Fusilli Low-fat        | Tomatoes Low-fat      | 11.19             \n",
            "0063. Fusilli Low-fat        | Soy Sauce Natural     | 10.6              \n",
            "0064. Fusilli Low-fat        | Soy Sauce Fresh       | 11.530000000000001\n",
            "0065. Fusilli Low-fat        | Mustard Low-fat       | 11.3              \n",
            "0066. Fusilli Low-fat        | Muffin Gluten-Free    | 11.469999999999999\n",
            "0067. Fusilli Low-fat        | Lettuce Natural       | 11.71             \n",
            "0068. Fusilli Low-fat        | Bagel Organic         | 11.57             \n",
            "0069. Tuna Gluten-Free       | Pastry Gluten-Free    | 11.559999999999999\n",
            "0070. Tuna Gluten-Free       | Bread Low-fat         | 11.899999999999999\n",
            "0071. Tuna Gluten-Free       | Pastry Organic        | 11.3              \n",
            "0072. Tuna Gluten-Free       | Pastry Low-fat        | 10.89             \n",
            "0073. Tuna Gluten-Free       | Hot Sauce Gluten-Free | 10.7              \n",
            "0074. Tuna Gluten-Free       | Tomatoes Low-fat      | 11.149999999999999\n",
            "0075. Tuna Gluten-Free       | Soy Sauce Natural     | 10.559999999999999\n",
            "0076. Tuna Gluten-Free       | Soy Sauce Fresh       | 11.49             \n",
            "0077. Tuna Gluten-Free       | Mustard Low-fat       | 11.26             \n",
            "0078. Tuna Gluten-Free       | Muffin Gluten-Free    | 11.43             \n",
            "0079. Tuna Gluten-Free       | Lettuce Natural       | 11.67             \n",
            "0080. Tuna Gluten-Free       | Bagel Organic         | 11.530000000000001\n",
            "0081. Fusilli Natural        | Pastry Low-fat        | 11.77             \n",
            "0082. Fusilli Natural        | Hot Sauce Gluten-Free | 11.58             \n",
            "0083. Fusilli Natural        | Soy Sauce Natural     | 11.44             \n",
            "-------------------------------------------------------------------------\n"
          ]
        }
      ]
    },
    {
      "cell_type": "markdown",
      "source": [
        "Here are two additional engaging projects based on the given food data, making use of relevant Python libraries and focusing on meaningful and practical applications:\n",
        "\n",
        "### Project 4: **Seasonal Discount Application**\n",
        "**Objective**: Apply a seasonal discount to products based on their category and adjust the prices accordingly. This project will use `functools` to apply discounts and update the dataset.\n",
        "\n",
        "**Steps**:\n",
        "1. **Define Discounts**: Create a dictionary with discounts for specific categories.\n",
        "2. **Apply Discounts**: Use `functools.reduce` to apply the discount to the price of each item in the relevant categories.\n",
        "3. **Display Updated Prices**: Print the updated list of products with the new prices after applying the discount.\n",
        "\n",
        "**Code**:\n"
      ],
      "metadata": {
        "id": "8brQJQsjBKzi"
      }
    },
    {
      "cell_type": "code",
      "source": [
        "import functools\n",
        "\n",
        "def apply_seasonal_discounts(food_data, discounts):\n",
        "    def apply_discount(item):\n",
        "        category = item[7]\n",
        "        if category in discounts:\n",
        "            discount = discounts[category]\n",
        "            item[2] = round(item[2] * (1 - discount), 2)\n",
        "        return item\n",
        "\n",
        "    # Apply discounts to each item in the dataset\n",
        "    discounted_data = list(map(apply_discount, food_data))\n",
        "\n",
        "    return discounted_data\n",
        "\n",
        "# Example usage\n",
        "discounts = {\n",
        "    \"Dairy\": 0.10,         # 10% discount on Dairy products\n",
        "    \"Beverages\": 0.15,     # 15% discount on Beverages\n",
        "    \"Snacks\": 0.20         # 20% discount on Snacks\n",
        "}\n",
        "\n",
        "discounted_data = apply_seasonal_discounts(food_data, discounts)\n",
        "pretty_print_food_data(discounted_data[:10], headers)  # Show the first 10 items as a preview"
      ],
      "metadata": {
        "colab": {
          "base_uri": "https://localhost:8080/"
        },
        "id": "pvmuskXoBZn6",
        "outputId": "b9a43fcd-3eba-45f4-c85e-0fd0cc23d3ef"
      },
      "execution_count": null,
      "outputs": [
        {
          "output_type": "stream",
          "name": "stdout",
          "text": [
            "----------------------------------------------------------------------------------------------------------------------------------------------\n",
            "S.No. Product Name       | Product Code | Price ($) | Manufacturer      | Country | Manufacture Date | Best Before (Days) | Category          \n",
            "----------------------------------------------------------------------------------------------------------------------------------------------\n",
            "0001. Peanuts Fresh      | 880TWJFS     | 45.83     | Mérida Produce    | Mexico  | 10-04-2021       | 334                | Nuts              \n",
            "0002. Kidney Beans Fresh | 5QM14JMN     | 34.51     | Hiroshima Healthy | Japan   | 05-12-2020       | 107                | Legumes           \n",
            "0003. Millet Organic     | NCG4MDSR     | 5.49      | Georgia Natural   | USA     | 08-01-2023       | 725                | Grains            \n",
            "0004. Cake Organic       | 79J8SZYX     | 24.26     | Culiacán Healthy  | Mexico  | 12-30-2023       | 754                | Bakery            \n",
            "0005. Bagel Organic      | F53Y5T65     | 25.73     | Georgia Natural   | USA     | 04-19-2021       | 874                | Bakery            \n",
            "0006. Turmeric Low-fat   | L6HJQRA2     | 33.79     | Tianjin Natural   | China   | 03-29-2023       | 178                | Spices            \n",
            "0007. Dates Natural      | OYQ3KBXP     | 48.99     | Nagoya Foods      | Japan   | 09-13-2022       | 474                | Dried Fruits      \n",
            "0008. Flour Low-fat      | 960H9P0T     | 19.54     | Shanghai Farms    | China   | 11-26-2023       | 956                | Baking Ingredients\n",
            "0009. Cod Low-fat        | BFWEQLXM     | 26.14     | Kobe Pure         | Japan   | 04-18-2022       | 269                | Seafood           \n",
            "0010. Pastry Fresh       | HYG76RUL     | 13.65     | Guadalajara Fresh | Mexico  | 10-20-2024       | 337                | Bakery            \n",
            "----------------------------------------------------------------------------------------------------------------------------------------------\n"
          ]
        }
      ]
    },
    {
      "cell_type": "markdown",
      "source": [
        "### Project 5: **Supply Chain Simulation**\n",
        "**Objective**: Simulate the supply chain process by tracking when products are shipped, stored, and sold. The project will use `datetime` to calculate storage duration and `itertools` to generate combinations of storage and sale scenarios.\n",
        "\n",
        "**Steps**:\n",
        "1. **Generate Shipping Dates**: Randomly assign shipping dates to each product.\n",
        "2. **Simulate Storage and Sale**: Calculate how long each product is stored before being sold using different scenarios.\n",
        "3. **Display Supply Chain Data**: Print out the supply chain details, including shipping date, storage duration, and sale date.\n",
        "\n",
        "**Code**:\n"
      ],
      "metadata": {
        "id": "bpwUo3fGBQ-4"
      }
    },
    {
      "cell_type": "code",
      "source": [
        "from datetime import timedelta\n",
        "\n",
        "def simulate_supply_chain(food_data):\n",
        "    def random_shipping_date():\n",
        "        return datetime.now() - timedelta(days=random.randint(1, 365))\n",
        "\n",
        "    supply_chain_data = []\n",
        "    for item in food_data:\n",
        "        shipping_date = random_shipping_date()\n",
        "        storage_duration = random.randint(1, 30)  # Random storage duration between 1 and 30 days\n",
        "        sale_date = shipping_date + timedelta(days=storage_duration)\n",
        "        supply_chain_data.append({\n",
        "            \"Product Name\": item[0],\n",
        "            \"Shipping Date\": shipping_date.strftime(\"%m-%d-%Y\"),\n",
        "            \"Storage Duration (Days)\": storage_duration,\n",
        "            \"Sale Date\": sale_date.strftime(\"%m-%d-%Y\"),\n",
        "            \"Category\": item[7]\n",
        "        })\n",
        "\n",
        "    # Display the supply chain data\n",
        "    print(f\"{'Product Name':<20} {'Shipping Date':<15} {'Storage (Days)':<15} {'Sale Date':<15} {'Category':<10}\")\n",
        "    print(\"-\" * 80)\n",
        "    for data in supply_chain_data[:10]:  # Display first 10 for brevity\n",
        "        print(f\"{data['Product Name']:<20} {data['Shipping Date']:<15} {data['Storage Duration (Days)']:<15} {data['Sale Date']:<15} {data['Category']:<10}\")\n",
        "\n",
        "# Example usage\n",
        "simulate_supply_chain(food_data)"
      ],
      "metadata": {
        "colab": {
          "base_uri": "https://localhost:8080/"
        },
        "id": "U8_ZwOOBBb-1",
        "outputId": "d621493f-77f8-4b5b-ab46-228e6baa2757"
      },
      "execution_count": null,
      "outputs": [
        {
          "output_type": "stream",
          "name": "stdout",
          "text": [
            "Product Name         Shipping Date   Storage (Days)  Sale Date       Category  \n",
            "--------------------------------------------------------------------------------\n",
            "Peanuts Fresh        01-09-2024      10              01-19-2024      Nuts      \n",
            "Kidney Beans Fresh   03-07-2024      24              03-31-2024      Legumes   \n",
            "Millet Organic       04-30-2024      5               05-05-2024      Grains    \n",
            "Cake Organic         11-10-2023      25              12-05-2023      Bakery    \n",
            "Bagel Organic        04-28-2024      2               04-30-2024      Bakery    \n",
            "Turmeric Low-fat     07-25-2024      21              08-15-2024      Spices    \n",
            "Dates Natural        05-19-2024      27              06-15-2024      Dried Fruits\n",
            "Flour Low-fat        02-19-2024      22              03-12-2024      Baking Ingredients\n",
            "Cod Low-fat          06-08-2024      20              06-28-2024      Seafood   \n",
            "Pastry Fresh         11-18-2023      29              12-17-2023      Bakery    \n"
          ]
        }
      ]
    },
    {
      "cell_type": "markdown",
      "source": [
        "### Project 6: **Product Bundling for Promotions**\n",
        "**Objective**: Create promotional bundles by combining related food items into bundles that maximize customer value and minimize leftover inventory. This project will use `itertools.combinations` to generate bundles.\n",
        "\n",
        "**Steps**:\n",
        "1. **Identify Related Items**: Group items into related categories (e.g., Dairy + Bakery, Snacks + Beverages).\n",
        "2. **Generate Bundles**: Use `itertools.combinations` to create bundles of 2 or 3 items.\n",
        "3. **Filter Bundles**: Select bundles that offer a combined value within a specified price range.\n",
        "4. **Display Promotional Bundles**: Print out the details of each promotional bundle.\n",
        "\n",
        "**Code**:\n"
      ],
      "metadata": {
        "id": "ARw1eBRqBTKP"
      }
    },
    {
      "cell_type": "code",
      "source": [
        "import itertools\n",
        "\n",
        "def create_promotional_bundles(food_data, max_bundle_price=50):\n",
        "    # Group items by related categories\n",
        "    dairy_bakery = [item for item in food_data if item[7] in [\"Dairy\", \"Bakery\"]]\n",
        "    snacks_beverages = [item for item in food_data if item[7] in [\"Snacks\", \"Beverages\"]]\n",
        "\n",
        "    # Generate bundles\n",
        "    dairy_bakery_bundles = list(itertools.combinations(dairy_bakery, 2))\n",
        "    snacks_beverages_bundles = list(itertools.combinations(snacks_beverages, 2))\n",
        "\n",
        "    # Filter bundles by max price\n",
        "    selected_bundles = []\n",
        "    for bundle in dairy_bakery_bundles + snacks_beverages_bundles:\n",
        "        total_price = sum(item[2] for item in bundle)\n",
        "        if total_price <= max_bundle_price:\n",
        "            selected_bundles.append((bundle, total_price))\n",
        "\n",
        "    prom_data = []\n",
        "    prom_headers = [\"Bundle Items\", \"Total Price\"]\n",
        "\n",
        "    for bundle, total_price in selected_bundles:\n",
        "        items_str = \" + \".join(item[0] for item in bundle)\n",
        "        prom_data.append((items_str, total_price))\n",
        "    return prom_data, prom_headers\n",
        "\n",
        "# Example usage\n",
        "# Display promotional bundles\n",
        "max_bundle_price = 10\n",
        "\n",
        "print(f\"Promotional Bundles under ${max_bundle_price}:\")\n",
        "prom_data, prom_headers = create_promotional_bundles(food_data, max_bundle_price)\n",
        "\n",
        "pretty_print_food_data(prom_data, prom_headers)"
      ],
      "metadata": {
        "colab": {
          "base_uri": "https://localhost:8080/"
        },
        "id": "btFTFns2BeK_",
        "outputId": "c330c9de-6276-47db-f0b9-acd0897df323"
      },
      "execution_count": null,
      "outputs": [
        {
          "output_type": "stream",
          "name": "stdout",
          "text": [
            "Promotional Bundles under $10:\n",
            "-----------------------------------------------------------------\n",
            "S.No. Bundle Items                           | Total Price       \n",
            "-----------------------------------------------------------------\n",
            "0001. Pastry Organic + Cream Low-fat         | 9.870000000000001 \n",
            "0002. Pastry Low-fat + Cream Low-fat         | 9.46              \n",
            "0003. Cheese Fresh + Cream Low-fat           | 8.86              \n",
            "0004. Cream Low-fat + Muffin Gluten-Free     | 10.0              \n",
            "0005. Nuts Natural + Cookies Gluten-Free     | 9.33              \n",
            "0006. Nuts Natural + Juice Natural           | 9.4               \n",
            "0007. Water Natural + Cookies Natural        | 8.08              \n",
            "0008. Water Natural + Cookies Gluten-Free    | 7.28              \n",
            "0009. Water Natural + Nuts Gluten-Free       | 8.31              \n",
            "0010. Water Natural + Juice Natural          | 7.3500000000000005\n",
            "0011. Water Natural + Juice Natural          | 8.350000000000001 \n",
            "0012. Water Natural + Chips Low-fat          | 9.64              \n",
            "0013. Cookies Natural + Cookies Gluten-Free  | 7.140000000000001 \n",
            "0014. Cookies Natural + Nuts Gluten-Free     | 8.17              \n",
            "0015. Cookies Natural + Juice Natural        | 7.210000000000001 \n",
            "0016. Cookies Natural + Juice Natural        | 8.21              \n",
            "0017. Cookies Natural + Chips Low-fat        | 9.5               \n",
            "0018. Cookies Gluten-Free + Nuts Gluten-Free | 7.37              \n",
            "0019. Cookies Gluten-Free + Juice Natural    | 6.41              \n",
            "0020. Cookies Gluten-Free + Juice Natural    | 7.41              \n",
            "0021. Cookies Gluten-Free + Chips Low-fat    | 8.7               \n",
            "0022. Nuts Gluten-Free + Juice Natural       | 7.44              \n",
            "0023. Nuts Gluten-Free + Juice Natural       | 8.440000000000001 \n",
            "0024. Nuts Gluten-Free + Chips Low-fat       | 9.73              \n",
            "0025. Juice Natural + Juice Natural          | 7.48              \n",
            "0026. Juice Natural + Chips Low-fat          | 8.77              \n",
            "0027. Juice Natural + Chips Low-fat          | 9.77              \n",
            "-----------------------------------------------------------------\n"
          ]
        }
      ]
    },
    {
      "cell_type": "markdown",
      "source": [
        "# Python Functional Programming: `map`, `filter`, and `reduce`"
      ],
      "metadata": {
        "id": "lxODZFpcT1p7"
      }
    },
    {
      "cell_type": "markdown",
      "source": [
        "#### **1. `map`**\n",
        "\n",
        "- **Purpose**: Applies a given function to all items in an iterable (like a list) and returns a map object (which can be converted to a list).\n",
        "- **When to Use**: When you want to apply a function to each element in an iterable and collect the results.\n",
        "\n",
        "**Basic Example**:\n"
      ],
      "metadata": {
        "id": "fUxLMPUlVmUL"
      }
    },
    {
      "cell_type": "code",
      "source": [
        "numbers = [1, 2, 3, 4, 5]\n",
        "squared = list(map(lambda x: x**2, numbers))\n",
        "print(squared)  # Output: [1, 4, 9, 16, 25]"
      ],
      "metadata": {
        "colab": {
          "base_uri": "https://localhost:8080/"
        },
        "id": "zlyMRQh6W6SY",
        "outputId": "f07caf79-6631-4394-b103-26d286569dc8"
      },
      "execution_count": null,
      "outputs": [
        {
          "output_type": "stream",
          "name": "stdout",
          "text": [
            "[1, 4, 9, 16, 25]\n"
          ]
        }
      ]
    },
    {
      "cell_type": "markdown",
      "source": [
        "**Advanced Example**:\n"
      ],
      "metadata": {
        "id": "fjpNA-IPVzZv"
      }
    },
    {
      "cell_type": "code",
      "source": [
        "names = [\"Alice\", \"Bob\", \"Charlie\"]\n",
        "greeted = list(map(lambda name: f\"Hello, {name}!\", names))\n",
        "print(greeted)  # Output: ['Hello, Alice!', 'Hello, Bob!', 'Hello, Charlie!']"
      ],
      "metadata": {
        "colab": {
          "base_uri": "https://localhost:8080/"
        },
        "id": "Pnlr1uAXW78k",
        "outputId": "1d34b3e1-6d9c-440e-e1e4-f9b29ffa3a27"
      },
      "execution_count": null,
      "outputs": [
        {
          "output_type": "stream",
          "name": "stdout",
          "text": [
            "['Hello, Alice!', 'Hello, Bob!', 'Hello, Charlie!']\n"
          ]
        }
      ]
    },
    {
      "cell_type": "markdown",
      "source": [
        "**Powerful Use Case**:\n",
        "- **`starmap` in `itertools`**: Useful for parallel processing when you need to apply a function to multiple arguments.\n",
        "- **Example**:\n",
        "  "
      ],
      "metadata": {
        "id": "4wHhynBkV27d"
      }
    },
    {
      "cell_type": "code",
      "source": [
        "from itertools import starmap\n",
        "from operator import add\n",
        "\n",
        "pairs = [(1, 2), (3, 4), (5, 6)]\n",
        "result = list(starmap(add, pairs))\n",
        "print(result)  # Output: [3, 7, 11]"
      ],
      "metadata": {
        "colab": {
          "base_uri": "https://localhost:8080/"
        },
        "id": "pJhvgVUEW9ka",
        "outputId": "2f377f82-25a1-4a29-ab32-fc1b4ab4c17c"
      },
      "execution_count": null,
      "outputs": [
        {
          "output_type": "stream",
          "name": "stdout",
          "text": [
            "[3, 7, 11]\n"
          ]
        }
      ]
    },
    {
      "cell_type": "markdown",
      "source": [
        "**Why Use It**: `map` is powerful when you have a large dataset or a complex operation to apply uniformly across elements, especially in parallel processing scenarios.\n",
        "\n"
      ],
      "metadata": {
        "id": "-tBx2PU2V78C"
      }
    },
    {
      "cell_type": "markdown",
      "source": [
        "#### **2. `filter`**\n",
        "\n",
        "- **Purpose**: Filters elements from an iterable based on a function that returns `True` or `False`.\n",
        "- **When to Use**: When you need to extract elements from an iterable that meet a certain condition.\n",
        "\n",
        "**Basic Example**:\n"
      ],
      "metadata": {
        "id": "d3Z3wE5iWdML"
      }
    },
    {
      "cell_type": "code",
      "source": [
        "numbers = [1, 2, 3, 4, 5, 6, 7, 8, 9]\n",
        "even_numbers = list(filter(lambda x: x % 2 == 0, numbers))\n",
        "print(even_numbers)  # Output: [2, 4, 6, 8]"
      ],
      "metadata": {
        "colab": {
          "base_uri": "https://localhost:8080/"
        },
        "id": "Z8TBjdXvWwjq",
        "outputId": "400c1a81-e358-4f48-9b38-8150dac465f7"
      },
      "execution_count": null,
      "outputs": [
        {
          "output_type": "stream",
          "name": "stdout",
          "text": [
            "[2, 4, 6, 8]\n"
          ]
        }
      ]
    },
    {
      "cell_type": "markdown",
      "source": [
        "**Advanced Example**:\n"
      ],
      "metadata": {
        "id": "RjjB2kOgWAtZ"
      }
    },
    {
      "cell_type": "code",
      "source": [
        "words = [\"apple\", \"banana\", \"cherry\", \"date\"]\n",
        "long_words = list(filter(lambda word: len(word) > 5, words))\n",
        "print(long_words)  # Output: ['banana', 'cherry']"
      ],
      "metadata": {
        "colab": {
          "base_uri": "https://localhost:8080/"
        },
        "id": "PVo2-AFYWyKy",
        "outputId": "d10e392e-7227-475c-af94-c164bdaa7042"
      },
      "execution_count": null,
      "outputs": [
        {
          "output_type": "stream",
          "name": "stdout",
          "text": [
            "['banana', 'cherry']\n"
          ]
        }
      ]
    },
    {
      "cell_type": "markdown",
      "source": [
        "**Powerful Use Case**:\n",
        "- **Example**: Filtering a list of dictionaries to find entries that meet specific criteria.\n",
        "  "
      ],
      "metadata": {
        "id": "0zchqV9EWFGG"
      }
    },
    {
      "cell_type": "code",
      "source": [
        "products = [\n",
        "    {\"name\": \"apple\", \"price\": 10},\n",
        "    {\"name\": \"banana\", \"price\": 20},\n",
        "    {\"name\": \"cherry\", \"price\": 5}\n",
        "]\n",
        "expensive_products = list(filter(lambda product: product['price'] > 10, products))\n",
        "print(expensive_products)  # Output: [{'name': 'banana', 'price': 20}]"
      ],
      "metadata": {
        "colab": {
          "base_uri": "https://localhost:8080/"
        },
        "id": "bF0HBcGNW0lA",
        "outputId": "5bcf8bb9-7064-434e-85d0-0e8daaee3963"
      },
      "execution_count": null,
      "outputs": [
        {
          "output_type": "stream",
          "name": "stdout",
          "text": [
            "[{'name': 'banana', 'price': 20}]\n"
          ]
        }
      ]
    },
    {
      "cell_type": "markdown",
      "source": [
        "**Why Use It**: `filter` is efficient for selective processing, enabling you to focus on the relevant subset of data.\n",
        "\n"
      ],
      "metadata": {
        "id": "7Hv736xNWJ5I"
      }
    },
    {
      "cell_type": "markdown",
      "source": [
        "#### **3. `reduce`**\n",
        "\n",
        "- **Purpose**: Applies a rolling computation to sequential pairs of values in an iterable, reducing it to a single cumulative value.\n",
        "- **When to Use**: When you need to combine elements in an iterable using a specific operation (e.g., summing, multiplying).\n",
        "\n",
        "**Basic Example**:\n"
      ],
      "metadata": {
        "id": "qn4vmPlAWare"
      }
    },
    {
      "cell_type": "code",
      "source": [
        "from functools import reduce\n",
        "\n",
        "numbers = [1, 2, 3, 4, 5]\n",
        "total = reduce(lambda x, y: x + y, numbers)\n",
        "print(total)  # Output: 15"
      ],
      "metadata": {
        "colab": {
          "base_uri": "https://localhost:8080/"
        },
        "id": "XADbazDrWkPd",
        "outputId": "3aed0144-fd69-49da-d7f5-f01b30705cfe"
      },
      "execution_count": null,
      "outputs": [
        {
          "output_type": "stream",
          "name": "stdout",
          "text": [
            "15\n"
          ]
        }
      ]
    },
    {
      "cell_type": "markdown",
      "source": [
        "**Advanced Example**:\n"
      ],
      "metadata": {
        "id": "5CtG9IDOWNFg"
      }
    },
    {
      "cell_type": "code",
      "source": [
        "words = [\"functional\", \"programming\", \"in\", \"python\"]\n",
        "sentence = reduce(lambda x, y: x + \" \" + y, words)\n",
        "print(sentence)  # Output: 'functional programming in python'"
      ],
      "metadata": {
        "colab": {
          "base_uri": "https://localhost:8080/"
        },
        "id": "8Cg6IGrUWmot",
        "outputId": "8ae991f2-8405-4333-b6b3-38dbe14bcbd5"
      },
      "execution_count": null,
      "outputs": [
        {
          "output_type": "stream",
          "name": "stdout",
          "text": [
            "functional programming in python\n"
          ]
        }
      ]
    },
    {
      "cell_type": "markdown",
      "source": [
        "**Powerful Use Case**:\n",
        "- **Example**: Finding the maximum value in a list using `reduce`.\n",
        "  "
      ],
      "metadata": {
        "id": "s1ZMHKf1WQVX"
      }
    },
    {
      "cell_type": "code",
      "source": [
        "numbers = [3, 7, 2, 8, 5, 10]\n",
        "max_value = reduce(lambda x, y: x if x > y else y, numbers)\n",
        "print(max_value)  # Output: 10"
      ],
      "metadata": {
        "colab": {
          "base_uri": "https://localhost:8080/"
        },
        "id": "bJ7vkb1rWtR8",
        "outputId": "62499302-fe1e-4b76-843a-a06ab89ea211"
      },
      "execution_count": null,
      "outputs": [
        {
          "output_type": "stream",
          "name": "stdout",
          "text": [
            "10\n"
          ]
        }
      ]
    },
    {
      "cell_type": "markdown",
      "source": [
        "**Why Use It**: `reduce` is ideal for scenarios requiring cumulative operations, especially when other methods like `sum()` or `max()` aren't sufficient.\n",
        "\n"
      ],
      "metadata": {
        "id": "3Apfgh5YWTfp"
      }
    },
    {
      "cell_type": "markdown",
      "source": [
        "### **Summary**\n",
        "\n",
        "- **`map`**: Use it when you need to apply a function to each element in an iterable.\n",
        "- **`filter`**: Use it when you need to select elements that meet a condition.\n",
        "- **`reduce`**: Use it when you need to accumulate or combine elements into a single result."
      ],
      "metadata": {
        "id": "PYBihhl4WhhK"
      }
    },
    {
      "cell_type": "markdown",
      "source": [
        "### Are you ready for following challenges?"
      ],
      "metadata": {
        "id": "iQd_3vfeXG8I"
      }
    },
    {
      "cell_type": "code",
      "source": [
        "# food_data\n",
        "pretty_print_food_data(food_data[:10], headers)"
      ],
      "metadata": {
        "colab": {
          "base_uri": "https://localhost:8080/"
        },
        "id": "PQqwimvkXOrS",
        "outputId": "e1e3abd8-3ab9-46db-f9d6-f26e6f9a2d4c"
      },
      "execution_count": null,
      "outputs": [
        {
          "output_type": "stream",
          "name": "stdout",
          "text": [
            "----------------------------------------------------------------------------------------------------------------------------------------------\n",
            "S.No. Product Name       | Product Code | Price ($) | Manufacturer      | Country | Manufacture Date | Best Before (Days) | Category          \n",
            "----------------------------------------------------------------------------------------------------------------------------------------------\n",
            "0001. Peanuts Fresh      | 880TWJFS     | 45.83     | Mérida Produce    | Mexico  | 10-04-2021       | 334                | Nuts              \n",
            "0002. Kidney Beans Fresh | 5QM14JMN     | 34.51     | Hiroshima Healthy | Japan   | 05-12-2020       | 107                | Legumes           \n",
            "0003. Millet Organic     | NCG4MDSR     | 5.49      | Georgia Natural   | USA     | 08-01-2023       | 725                | Grains            \n",
            "0004. Cake Organic       | 79J8SZYX     | 24.26     | Culiacán Healthy  | Mexico  | 12-30-2023       | 754                | Bakery            \n",
            "0005. Bagel Organic      | F53Y5T65     | 25.73     | Georgia Natural   | USA     | 04-19-2021       | 874                | Bakery            \n",
            "0006. Turmeric Low-fat   | L6HJQRA2     | 33.79     | Tianjin Natural   | China   | 03-29-2023       | 178                | Spices            \n",
            "0007. Dates Natural      | OYQ3KBXP     | 48.99     | Nagoya Foods      | Japan   | 09-13-2022       | 474                | Dried Fruits      \n",
            "0008. Flour Low-fat      | 960H9P0T     | 19.54     | Shanghai Farms    | China   | 11-26-2023       | 956                | Baking Ingredients\n",
            "0009. Cod Low-fat        | BFWEQLXM     | 26.14     | Kobe Pure         | Japan   | 04-18-2022       | 269                | Seafood           \n",
            "0010. Pastry Fresh       | HYG76RUL     | 13.65     | Guadalajara Fresh | Mexico  | 10-20-2024       | 337                | Bakery            \n",
            "----------------------------------------------------------------------------------------------------------------------------------------------\n"
          ]
        }
      ]
    },
    {
      "cell_type": "markdown",
      "source": [
        "**Challenge** Can you filter this table to find products that are expired already?"
      ],
      "metadata": {
        "id": "yLp6_yVbXZ2w"
      }
    },
    {
      "cell_type": "code",
      "source": [
        "def is_expired(mfg_date, best_before):\n",
        "    mfg_date = datetime.strptime(mfg_date, \"%m-%d-%Y\")\n",
        "    return datetime.now() > mfg_date + timedelta(days=best_before)\n",
        "\n",
        "expired_food_data = list(filter(lambda x: is_expired(x[5], x[6]), food_data))\n",
        "print(f\"{len(expired_food_data)} items expired out of {len(food_data)}\")\n",
        "pretty_print_food_data(expired_food_data[:10], headers)"
      ],
      "metadata": {
        "colab": {
          "base_uri": "https://localhost:8080/"
        },
        "id": "OOobiH8bXSCB",
        "outputId": "30c70b6f-8880-4704-d637-f4f77cf346d9"
      },
      "execution_count": null,
      "outputs": [
        {
          "output_type": "stream",
          "name": "stdout",
          "text": [
            "616 items expired out of 1000\n",
            "----------------------------------------------------------------------------------------------------------------------------------------------\n",
            "S.No. Product Name       | Product Code | Price ($) | Manufacturer      | Country | Manufacture Date | Best Before (Days) | Category          \n",
            "----------------------------------------------------------------------------------------------------------------------------------------------\n",
            "0001. Peanuts Fresh      | 880TWJFS     | 45.83     | Mérida Produce    | Mexico  | 10-04-2021       | 334                | Nuts              \n",
            "0002. Kidney Beans Fresh | 5QM14JMN     | 34.51     | Hiroshima Healthy | Japan   | 05-12-2020       | 107                | Legumes           \n",
            "0003. Bagel Organic      | F53Y5T65     | 25.73     | Georgia Natural   | USA     | 04-19-2021       | 874                | Bakery            \n",
            "0004. Turmeric Low-fat   | L6HJQRA2     | 33.79     | Tianjin Natural   | China   | 03-29-2023       | 178                | Spices            \n",
            "0005. Dates Natural      | OYQ3KBXP     | 48.99     | Nagoya Foods      | Japan   | 09-13-2022       | 474                | Dried Fruits      \n",
            "0006. Cod Low-fat        | BFWEQLXM     | 26.14     | Kobe Pure         | Japan   | 04-18-2022       | 269                | Seafood           \n",
            "0007. Vegetables Low-fat | HVB6KOPR     | 13.34     | Ohio Pure         | USA     | 08-11-2021       | 853                | Frozen Foods      \n",
            "0008. Cod Gluten-Free    | TVV7BHRZ     | 22.74     | Jaipur Natural    | India   | 10-07-2020       | 137                | Seafood           \n",
            "0009. Apricots Fresh     | ZYS6TRE5     | 44.16     | Arizona Goods     | USA     | 05-06-2020       | 212                | Dried Fruits      \n",
            "0010. Sugar Natural      | GI7FL6KS     | 28.77     | Guadalajara Fresh | Mexico  | 12-28-2021       | 764                | Baking Ingredients\n",
            "----------------------------------------------------------------------------------------------------------------------------------------------\n"
          ]
        }
      ]
    },
    {
      "cell_type": "markdown",
      "source": [
        "**Challenge** Can you filter this table to find products that are not expired yet?"
      ],
      "metadata": {
        "id": "hXWpU3r0dD-b"
      }
    },
    {
      "cell_type": "code",
      "source": [
        "not_expired_food_data = list(filter(lambda x: not is_expired(x[5], x[6]), food_data))\n",
        "print(f\"{len(not_expired_food_data)} items expired out of {len(food_data)}\")\n",
        "pretty_print_food_data(not_expired_food_data[:10], headers)"
      ],
      "metadata": {
        "colab": {
          "base_uri": "https://localhost:8080/"
        },
        "id": "rPLnuq7LYVtR",
        "outputId": "fc171074-6c27-47b6-8aca-37e6b9c7282e"
      },
      "execution_count": null,
      "outputs": [
        {
          "output_type": "stream",
          "name": "stdout",
          "text": [
            "384 items expired out of 1000\n",
            "-----------------------------------------------------------------------------------------------------------------------------------------------------\n",
            "S.No. Product Name              | Product Code | Price ($) | Manufacturer      | Country | Manufacture Date | Best Before (Days) | Category          \n",
            "-----------------------------------------------------------------------------------------------------------------------------------------------------\n",
            "0001. Millet Organic            | NCG4MDSR     | 5.49      | Georgia Natural   | USA     | 08-01-2023       | 725                | Grains            \n",
            "0002. Cake Organic              | 79J8SZYX     | 24.26     | Culiacán Healthy  | Mexico  | 12-30-2023       | 754                | Bakery            \n",
            "0003. Flour Low-fat             | 960H9P0T     | 19.54     | Shanghai Farms    | China   | 11-26-2023       | 956                | Baking Ingredients\n",
            "0004. Pastry Fresh              | HYG76RUL     | 13.65     | Guadalajara Fresh | Mexico  | 10-20-2024       | 337                | Bakery            \n",
            "0005. Olive Oil Organic         | KMPXGBT7     | 27.11     | Nagoya Foods      | Japan   | 04-27-2023       | 764                | Oils              \n",
            "0006. Baking Powder Gluten-Free | BXYKTAHZ     | 16.09     | Ohio Pure         | USA     | 08-24-2023       | 990                | Baking Ingredients\n",
            "0007. Granola Organic           | BA7QMO4U     | 31.96     | Texas Foods       | USA     | 10-26-2024       | 583                | Cereal            \n",
            "0008. Corn Low-fat              | LTQ960TI     | 27.93     | Arizona Goods     | USA     | 04-14-2023       | 626                | Canned Goods      \n",
            "0009. Rice Fresh                | GCJLNSIG     | 40.43     | Nanjing Produce   | China   | 05-24-2023       | 701                | Grains            \n",
            "0010. Raisins Low-fat           | 2KC8ZXXV     | 12.7      | Kobe Pure         | Japan   | 10-28-2023       | 995                | Dried Fruits      \n",
            "-----------------------------------------------------------------------------------------------------------------------------------------------------\n"
          ]
        }
      ]
    },
    {
      "cell_type": "markdown",
      "source": [
        "**Challenge** Can you sort this table in ascending order of *Price*?"
      ],
      "metadata": {
        "id": "S8X9ocV7d8W0"
      }
    },
    {
      "cell_type": "code",
      "source": [
        "sorted_food_data = sorted(food_data, key=lambda x: x[2]) # Note x[2] is Price\n",
        "pretty_print_food_data(sorted_food_data[:10], headers)"
      ],
      "metadata": {
        "colab": {
          "base_uri": "https://localhost:8080/"
        },
        "id": "bt1L8OlQeCzE",
        "outputId": "7d71514e-2359-4dee-ed25-cb0aad557219"
      },
      "execution_count": null,
      "outputs": [
        {
          "output_type": "stream",
          "name": "stdout",
          "text": [
            "--------------------------------------------------------------------------------------------------------------------------------------------\n",
            "S.No. Product Name           | Product Code | Price ($) | Manufacturer      | Country | Manufacture Date | Best Before (Days) | Category    \n",
            "--------------------------------------------------------------------------------------------------------------------------------------------\n",
            "0001. Cookies Gluten-Free    | NJONF8FN     | 3.17      | Tijuana Natural   | Mexico  | 12-16-2020       | 882                | Snacks      \n",
            "0002. Juice Natural          | T4FOQFKJ     | 3.24      | Tokyo Organics    | Japan   | 05-09-2021       | 533                | Beverages   \n",
            "0003. Cream Low-fat          | ZCK58LY6     | 3.91      | Jaipur Natural    | India   | 06-07-2023       | 629                | Dairy       \n",
            "0004. Cookies Natural        | RX1KN010     | 3.97      | Beijing Harvest   | China   | 08-16-2024       | 235                | Snacks      \n",
            "0005. Water Natural          | 0BMVBFT4     | 4.11      | Kobe Pure         | Japan   | 12-03-2022       | 606                | Beverages   \n",
            "0006. Nuts Gluten-Free       | PPD7EGKF     | 4.2       | Mexico City Foods | Mexico  | 01-22-2020       | 710                | Snacks      \n",
            "0007. Juice Natural          | 6LAT7O28     | 4.24      | Florida Harvest   | USA     | 11-24-2023       | 56                 | Beverages   \n",
            "0008. Cheese Fresh           | T146J9Q8     | 4.95      | Monterrey Harvest | Mexico  | 11-26-2021       | 927                | Dairy       \n",
            "0009. Ice Cream Fresh        | Y47PK0N1     | 5.02      | Sendai Produce    | Japan   | 09-25-2020       | 183                | Frozen Foods\n",
            "0010. Vegetables Gluten-Free | VKSSJQJ1     | 5.03      | Kobe Pure         | Japan   | 05-28-2020       | 522                | Frozen Foods\n",
            "--------------------------------------------------------------------------------------------------------------------------------------------\n"
          ]
        }
      ]
    },
    {
      "cell_type": "markdown",
      "source": [
        "**Challenge** Can you find `min`, `max`, and `average` price?"
      ],
      "metadata": {
        "id": "a9l8KIpxePI-"
      }
    },
    {
      "cell_type": "code",
      "source": [
        "prices_only = list(map(lambda x:x[2], food_data)) # You need to convert map, and filter object to list\n",
        "\n",
        "total_prices = sum(prices_only)\n",
        "max_prices = max(prices_only)\n",
        "min_prices = min(prices_only)\n",
        "average_price = total_prices / len(prices_only)\n",
        "\n",
        "print(f\"Total Price: {total_prices : .2f}\")\n",
        "print(f\"Max Price: {max_prices: .2f}\")\n",
        "print(f\"Min Price: {min_prices: .2f}\")\n",
        "print(f\"Average Price: {average_price: .2f}\")"
      ],
      "metadata": {
        "colab": {
          "base_uri": "https://localhost:8080/"
        },
        "id": "7-VxZbhUeN3W",
        "outputId": "bc0a6d4c-362d-42f3-bf23-1a471a7f6c6d"
      },
      "execution_count": null,
      "outputs": [
        {
          "output_type": "stream",
          "name": "stdout",
          "text": [
            "Total Price:  25977.45\n",
            "Max Price:  49.99\n",
            "Min Price:  3.17\n",
            "Average Price:  25.98\n"
          ]
        }
      ]
    },
    {
      "cell_type": "markdown",
      "source": [
        "**Challenge** Can you ask more questions, and solve for your self?"
      ],
      "metadata": {
        "id": "8FMHC6VLdwzw"
      }
    }
  ]
}