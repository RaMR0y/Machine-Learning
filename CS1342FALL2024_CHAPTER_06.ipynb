{
  "nbformat": 4,
  "nbformat_minor": 0,
  "metadata": {
    "colab": {
      "provenance": [],
      "collapsed_sections": [
        "jHaga5WHtH8K",
        "i7ZF8ICjtjDl",
        "HasYc2c9tgK1",
        "K9tMpF-LuH4e",
        "li_A8G92uWms",
        "aL_EbLbbubvG",
        "GxCLLfMLufkg",
        "w9HqRa6Lul7b",
        "F5SX4m28u-Ph",
        "aNBpOZckiZZe",
        "_-CXHCrDvyK3",
        "MxGDaY6zwoHK",
        "6D5u6UgAxIde",
        "FEwt_sPpxX0H",
        "Rup8fVqgzU8I",
        "DGLZw1hEzX-6",
        "qVeRezeczggi",
        "49O6IXwrzmpx",
        "S-nrr8RYzswi",
        "MR5A9jzV0zO2",
        "_GOXlKUf01ni",
        "CqylF44o0-9V",
        "NoGz1qbz2OZ8",
        "wM_VpPG12dIX",
        "_5DBlyjX25YZ",
        "qDLEoXmJ2_BC",
        "60YxK-Uh3Fi8",
        "6EiWMoIaYYjF",
        "fqBwfdHGhtr_",
        "WS-v1y4YY3kC",
        "5GV7OFbuYuaF",
        "WIP-xpkXfweN",
        "WL2pdxiMf28A",
        "Njy_BvPBjc2k"
      ],
      "include_colab_link": true
    },
    "kernelspec": {
      "name": "python3",
      "display_name": "Python 3"
    },
    "language_info": {
      "name": "python"
    }
  },
  "cells": [
    {
      "cell_type": "markdown",
      "metadata": {
        "id": "view-in-github",
        "colab_type": "text"
      },
      "source": [
        "<a href=\"https://colab.research.google.com/github/RaMR0y/Machine-Learning/blob/Python-Basics/CS1342FALL2024_CHAPTER_06.ipynb\" target=\"_parent\"><img src=\"https://colab.research.google.com/assets/colab-badge.svg\" alt=\"Open In Colab\"/></a>"
      ]
    },
    {
      "cell_type": "markdown",
      "source": [
        "# Functions"
      ],
      "metadata": {
        "id": "h1gOqOZ0sduO"
      }
    },
    {
      "cell_type": "markdown",
      "source": [
        "## **Understanding the Need for Functions**\n",
        "\n",
        "#### **Why Do We Need Functions?**\n",
        "\n",
        "In programming, we often encounter tasks that need to be repeated multiple times, like calculations or data processing. Writing the same code repeatedly can lead to cluttered, error-prone, and hard-to-maintain programs. Functions help by allowing us to encapsulate these repetitive tasks into a single block of code that can be reused whenever needed.\n",
        "\n",
        "### **Intuitive Example: Calculating Forces on Mechanical Components**\n",
        "\n",
        "Imagine you're an engineer working on a project where you need to calculate the force exerted on different mechanical components. Instead of writing the same formula over and over for each component, you can create a function to handle the calculation.\n",
        "\n"
      ],
      "metadata": {
        "id": "jHaga5WHtH8K"
      }
    },
    {
      "cell_type": "markdown",
      "source": [
        "#### **Without Functions: Repetitive Code**\n",
        "\n",
        "Suppose you need to calculate the force for several components:\n"
      ],
      "metadata": {
        "id": "i7ZF8ICjtjDl"
      }
    },
    {
      "cell_type": "code",
      "source": [
        "# Calculate force for the first component\n",
        "mass1 = 10\n",
        "acceleration1 = 9.8\n",
        "force1 = mass1 * acceleration1\n",
        "print(f\"Force on component 1: {force1} N\")\n",
        "\n",
        "# Calculate force for the second component\n",
        "mass2 = 15\n",
        "acceleration2 = 9.8\n",
        "force2 = mass2 * acceleration2\n",
        "print(f\"Force on component 2: {force2} N\")\n",
        "\n",
        "# Calculate force for the third component\n",
        "mass3 = 12\n",
        "acceleration3 = 9.8\n",
        "force3 = mass3 * acceleration3\n",
        "print(f\"Force on component 3: {force3} N\")"
      ],
      "metadata": {
        "id": "SNC2NVqHtVNq",
        "outputId": "1f1b7bc9-c021-4325-ff81-529a89fe6051",
        "colab": {
          "base_uri": "https://localhost:8080/"
        }
      },
      "execution_count": null,
      "outputs": [
        {
          "output_type": "stream",
          "name": "stdout",
          "text": [
            "Force on component 1: 98.0 N\n",
            "Force on component 2: 147.0 N\n",
            "Force on component 3: 117.60000000000001 N\n"
          ]
        }
      ]
    },
    {
      "cell_type": "markdown",
      "source": [
        "**Problems with this Approach**:\n",
        "- **Repetition**: The same formula is repeated multiple times.\n",
        "- **Maintenance**: If you need to update the calculation, you have to change it in multiple places.\n",
        "\n"
      ],
      "metadata": {
        "id": "2TUwMmp1tQ0U"
      }
    },
    {
      "cell_type": "markdown",
      "source": [
        "#### **With Functions: Clean and Reusable Code**\n",
        "\n",
        "Now, let’s use a function to perform the force calculation:"
      ],
      "metadata": {
        "id": "HasYc2c9tgK1"
      }
    },
    {
      "cell_type": "code",
      "source": [
        "def calculate_force(mass, acceleration):\n",
        "    return mass * acceleration\n",
        "\n",
        "# Reuse the function for multiple components\n",
        "force1 = calculate_force(10, 9.8)\n",
        "force2 = calculate_force(15, 9.8)\n",
        "force3 = calculate_force(12, 9.8)\n",
        "\n",
        "print(f\"Force on component 1: {force1} N\")\n",
        "print(f\"Force on component 2: {force2} N\")\n",
        "print(f\"Force on component 3: {force3} N\")"
      ],
      "metadata": {
        "colab": {
          "base_uri": "https://localhost:8080/"
        },
        "id": "8mGsuLdBtbzT",
        "outputId": "964a1cc9-6bf3-412c-eb93-6f8393d335c7"
      },
      "execution_count": null,
      "outputs": [
        {
          "output_type": "stream",
          "name": "stdout",
          "text": [
            "Force on component 1: 98.0 N\n",
            "Force on component 2: 147.0 N\n",
            "Force on component 3: 117.60000000000001 N\n"
          ]
        }
      ]
    },
    {
      "cell_type": "markdown",
      "source": [
        "**Benefits of Using Functions**:\n",
        "- **Reusability**: The calculation code is written once and reused for each component.\n",
        "- **Readability**: The code is easier to understand and follow.\n",
        "- **Maintainability**: If the formula changes, you only need to update the function.\n",
        "\n",
        "---\n",
        "\n"
      ],
      "metadata": {
        "id": "XLVqye-ntZ-B"
      }
    },
    {
      "cell_type": "markdown",
      "source": [
        "### **Basic Function Syntax**\n"
      ],
      "metadata": {
        "id": "ENTfEIQytm4a"
      }
    },
    {
      "cell_type": "markdown",
      "source": [
        "```python\n",
        "def function_name(parameters):\n",
        "    # Code block\n",
        "    return result\n",
        "```\n",
        "\n",
        "- **`def`**: The keyword that defines a function.\n",
        "- **`function_name`**: The name you give to your function.\n",
        "- **`parameters`**: The inputs your function will use.\n",
        "- **`return`**: The value your function will output after processing."
      ],
      "metadata": {
        "id": "IiKU2oT3tp55"
      }
    },
    {
      "cell_type": "code",
      "execution_count": null,
      "metadata": {
        "id": "uU9rn8tPsbm-"
      },
      "outputs": [],
      "source": []
    },
    {
      "cell_type": "markdown",
      "source": [
        "## **Different Types of functions**\n",
        "### Showcasing Different Types of Functions in Python\n",
        "\n",
        "> Functions in Python can vary based on the type and number of arguments they accept and whether they return a value. Here are four examples demonstrating these variations.\n",
        "---"
      ],
      "metadata": {
        "id": "K9tMpF-LuH4e"
      }
    },
    {
      "cell_type": "markdown",
      "source": [
        "### **1. Function with No Arguments and No Return Value**\n",
        "\n",
        "**Description**: This type of function does not take any input parameters and does not return a value. It simply performs an action.\n",
        "\n",
        "**Example**: A function that prints a welcome message.\n",
        "\n"
      ],
      "metadata": {
        "id": "li_A8G92uWms"
      }
    },
    {
      "cell_type": "code",
      "source": [
        "def print_welcome_message():\n",
        "    print(\"Welcome to the Mechanical Engineering Calculator!\")\n",
        "\n",
        "# Calling the function\n",
        "print_welcome_message()"
      ],
      "metadata": {
        "id": "YJtdiFI3u4r9"
      },
      "execution_count": null,
      "outputs": []
    },
    {
      "cell_type": "markdown",
      "source": [
        "### **2. Function with Arguments and No Return Value**\n",
        "\n",
        "**Description**: This function accepts arguments (inputs) but does not return a value. It performs an action using the provided arguments.\n",
        "\n",
        "**Example**: A function that prints the force exerted on a component based on mass and acceleration.\n",
        "\n"
      ],
      "metadata": {
        "id": "aL_EbLbbubvG"
      }
    },
    {
      "cell_type": "code",
      "source": [
        "def print_force(mass, acceleration):\n",
        "    force = mass * acceleration\n",
        "    print(f\"The force exerted on the component is {force} N\")\n",
        "\n",
        "# Calling the function with arguments\n",
        "print_force(10, 9.8)"
      ],
      "metadata": {
        "colab": {
          "base_uri": "https://localhost:8080/"
        },
        "id": "W4wAuQt8u1yH",
        "outputId": "07635c91-d81c-42f9-b81e-eba7391332df"
      },
      "execution_count": null,
      "outputs": [
        {
          "output_type": "stream",
          "name": "stdout",
          "text": [
            "The force exerted on the component is 98.0 N\n"
          ]
        }
      ]
    },
    {
      "cell_type": "markdown",
      "source": [
        "### **3. Function with Arguments and a Return Value**\n",
        "\n",
        "**Description**: This function takes arguments, performs some processing, and returns a result.\n",
        "\n",
        "**Example**: A function that calculates and returns the stress on a material given the force and area.\n",
        "\n"
      ],
      "metadata": {
        "id": "GxCLLfMLufkg"
      }
    },
    {
      "cell_type": "code",
      "source": [
        "def calculate_stress(force, area):\n",
        "    stress = force / area\n",
        "    return stress\n",
        "\n",
        "# Calling the function and storing the returned value\n",
        "stress = calculate_stress(980, 0.05)\n",
        "print(f\"The stress on the material is {stress} Pa\")"
      ],
      "metadata": {
        "colab": {
          "base_uri": "https://localhost:8080/"
        },
        "id": "2C5ufLJmuxWC",
        "outputId": "29494c01-af22-4ad7-c288-45b7485a5130"
      },
      "execution_count": null,
      "outputs": [
        {
          "output_type": "stream",
          "name": "stdout",
          "text": [
            "The stress on the material is 19600.0 Pa\n"
          ]
        }
      ]
    },
    {
      "cell_type": "markdown",
      "source": [
        "### **4. Function with Default Arguments and a Return Value**\n",
        "\n",
        "**Description**: This function has default values for its parameters, which are used if no arguments are provided. It returns a result based on the inputs.\n",
        "\n",
        "**Example**: A function that calculates and returns the kinetic energy of an object, with a default acceleration due to gravity.\n",
        "\n"
      ],
      "metadata": {
        "id": "w9HqRa6Lul7b"
      }
    },
    {
      "cell_type": "code",
      "source": [
        "def calculate_kinetic_energy(mass, velocity, gravity=9.8):\n",
        "    kinetic_energy = 0.5 * mass * velocity**2\n",
        "    return kinetic_energy\n",
        "\n",
        "# Calling the function with all arguments\n",
        "ke1 = calculate_kinetic_energy(10, 5)\n",
        "print(f\"Kinetic energy (default gravity): {ke1} J\")\n",
        "\n",
        "# Calling the function with a custom gravity value\n",
        "ke2 = calculate_kinetic_energy(10, 5, gravity=10)\n",
        "print(f\"Kinetic energy (custom gravity): {ke2} J\")"
      ],
      "metadata": {
        "id": "jKNZF3lZusEF"
      },
      "execution_count": null,
      "outputs": []
    },
    {
      "cell_type": "markdown",
      "source": [
        "### **5. Function with No Arguments but with a Return Value**\n",
        "\n",
        "**Description**: This function does not take any input parameters but performs some internal calculations or operations and returns a result.\n",
        "\n",
        "**Example**: A function that returns the current year.\n",
        "\n"
      ],
      "metadata": {
        "id": "F5SX4m28u-Ph"
      }
    },
    {
      "cell_type": "code",
      "source": [
        "from datetime import datetime\n",
        "\n",
        "def get_current_year():\n",
        "    current_year = datetime.now().year\n",
        "    return current_year\n",
        "\n",
        "# Calling the function and storing the returned value\n",
        "year = get_current_year()\n",
        "print(f\"The current year is {year}\")"
      ],
      "metadata": {
        "colab": {
          "base_uri": "https://localhost:8080/"
        },
        "id": "OSNsgyNpvEqV",
        "outputId": "c5ffd3cf-4b0c-436f-c2fa-071cb3d8f517"
      },
      "execution_count": null,
      "outputs": [
        {
          "output_type": "stream",
          "name": "stdout",
          "text": [
            "The current year is 2024\n"
          ]
        }
      ]
    },
    {
      "cell_type": "markdown",
      "source": [
        "## **Understanding `*args` and **kwargs in Python Functions**\n",
        "#### Why Do We Need `*args` and `**kwargs`?\n",
        "\n",
        "In Python, sometimes you want to write functions that can handle a flexible number of arguments. Instead of defining a function with a fixed number of parameters, you can use `*args` and `**kwargs` to allow your function to accept any number of positional or keyword arguments.\n",
        "\n",
        "---\n",
        "\n",
        "### **Intuitive Illustration: Building a Custom Machine**\n",
        "\n",
        "Imagine you’re a mechanical engineer designing custom machines. Each machine might need different components based on client requirements:\n",
        "\n",
        "- **Some machines** need only a few parts (e.g., motor, gears).\n",
        "- **Other machines** might need many parts (e.g., motor, gears, sensors, cooling system).\n",
        "\n",
        "You don’t want to design a new blueprint for each machine from scratch. Instead, you create a flexible blueprint that can adapt to any number of parts."
      ],
      "metadata": {
        "id": "aNBpOZckiZZe"
      }
    },
    {
      "cell_type": "markdown",
      "source": [
        "\n",
        "\n",
        "### **Using `*args` (Flexible Number of Positional Arguments)**\n",
        "\n",
        "`*args` allows you to pass a variable number of positional arguments to a function.\n",
        "\n",
        "**Example**: A function that builds a custom machine by accepting any number of components.\n",
        "\n"
      ],
      "metadata": {
        "id": "_-CXHCrDvyK3"
      }
    },
    {
      "cell_type": "code",
      "source": [
        "def build_machine(*components):\n",
        "    print(\"Building a machine with the following components:\")\n",
        "    for component in components:\n",
        "        print(f\"- {component}\")\n",
        "\n",
        "# Calling the function with different numbers of components\n",
        "build_machine(\"Motor\", \"Gears\")\n",
        "build_machine(\"Motor\", \"Gears\", \"Sensors\", \"Cooling System\")"
      ],
      "metadata": {
        "colab": {
          "base_uri": "https://localhost:8080/"
        },
        "id": "fBMHhWsDw3Is",
        "outputId": "02805946-a45f-498f-873e-35a90b79e877"
      },
      "execution_count": null,
      "outputs": [
        {
          "output_type": "stream",
          "name": "stdout",
          "text": [
            "Building a machine with the following components:\n",
            "- Motor\n",
            "- Gears\n",
            "Building a machine with the following components:\n",
            "- Motor\n",
            "- Gears\n",
            "- Sensors\n",
            "- Cooling System\n"
          ]
        }
      ]
    },
    {
      "cell_type": "markdown",
      "source": [
        "### **Using** `**kwargs` **(Flexible Number of Keyword Arguments)**\n",
        "\n",
        "`**kwargs` allows you to pass a variable number of keyword arguments (name-value pairs) to a function.\n",
        "\n",
        "**Example**: A function that builds a machine with configurable settings like speed, power, and cooling.\n",
        "\n"
      ],
      "metadata": {
        "id": "MxGDaY6zwoHK"
      }
    },
    {
      "cell_type": "code",
      "source": [
        "def configure_machine(**settings):\n",
        "    print(\"Configuring machine with the following settings:\")\n",
        "    for key, value in settings.items():\n",
        "        print(f\"{key}: {value}\")\n",
        "\n",
        "# Calling the function with different settings\n",
        "configure_machine(speed=120, power=\"High\")\n",
        "configure_machine(speed=100, power=\"Medium\", cooling=\"Liquid\")"
      ],
      "metadata": {
        "colab": {
          "base_uri": "https://localhost:8080/"
        },
        "id": "VJdQm0Klw0Qt",
        "outputId": "4cbf5acd-26f3-48b4-fa1b-0cdaadfaaf90"
      },
      "execution_count": null,
      "outputs": [
        {
          "output_type": "stream",
          "name": "stdout",
          "text": [
            "Configuring machine with the following settings:\n",
            "speed: 120\n",
            "power: High\n",
            "Configuring machine with the following settings:\n",
            "speed: 100\n",
            "power: Medium\n",
            "cooling: Liquid\n"
          ]
        }
      ]
    },
    {
      "cell_type": "markdown",
      "source": [
        "### **Examples Using** `*args` **and** `**kwargs` **Together**\n",
        "**Scenario**: Imagine you’re designing a custom machine that can have a variable number of components (`*args`) and customizable settings (`**kwargs`).\n",
        "\n"
      ],
      "metadata": {
        "id": "6D5u6UgAxIde"
      }
    },
    {
      "cell_type": "code",
      "source": [
        "def build_custom_machine(*components, **settings):\n",
        "    print(\"Building a machine with the following components:\")\n",
        "    for component in components:\n",
        "        print(f\"- {component}\")\n",
        "\n",
        "    print(\"\\nMachine settings:\")\n",
        "    for key, value in settings.items():\n",
        "        print(f\"{key}: {value}\")\n",
        "\n",
        "# Example Usage\n",
        "build_custom_machine(\"Motor\", \"Gears\", \"Sensors\", speed=150, power=\"High\", cooling=\"Air\")"
      ],
      "metadata": {
        "colab": {
          "base_uri": "https://localhost:8080/"
        },
        "id": "6wZRksI7xRwX",
        "outputId": "02b9f794-928d-4546-ffec-8ae6d5e5c76a"
      },
      "execution_count": null,
      "outputs": [
        {
          "output_type": "stream",
          "name": "stdout",
          "text": [
            "Building a machine with the following components:\n",
            "- Motor\n",
            "- Gears\n",
            "- Sensors\n",
            "\n",
            "Machine settings:\n",
            "speed: 150\n",
            "power: High\n",
            "cooling: Air\n"
          ]
        }
      ]
    },
    {
      "cell_type": "markdown",
      "source": [
        "**Explanation**:\n",
        "- **`*args`** handles the list of components.\n",
        "- **`**kwargs`** handles the customizable settings.\n",
        "\n",
        "---\n",
        "\n"
      ],
      "metadata": {
        "id": "lmLcuaZMxUz4"
      }
    },
    {
      "cell_type": "markdown",
      "source": [
        "### **Function with Regular Arguments, Default Arguments,** `*args`**, and** `**kwargs`\n",
        "\n",
        "**Scenario**: A more complex function where you specify the machine type (`machine_type`), set a default speed (`speed`), and allow additional components and settings to be passed flexibly.\n",
        "\n"
      ],
      "metadata": {
        "id": "FEwt_sPpxX0H"
      }
    },
    {
      "cell_type": "code",
      "source": [
        "def create_machine(machine_type, speed=100, *components, **settings):\n",
        "    print(f\"Creating a {machine_type} machine with a default speed of {speed} RPM.\")\n",
        "\n",
        "    print(\"\\nAdditional components:\")\n",
        "    for component in components:\n",
        "        print(f\"- {component}\")\n",
        "\n",
        "    print(\"\\nCustom settings:\")\n",
        "    for key, value in settings.items():\n",
        "        print(f\"{key}: {value}\")\n",
        "\n",
        "# Example Usage\n",
        "create_machine(\n",
        "    machine_type = \"Lathe\", # This is your non-default arguments\n",
        "    speed = 120, # This is your default arguments\n",
        "    \"Tool Holder\", \"Chuck\", # This is your components, could be any number of items\n",
        "    power=\"High\", cooling=\"Water\", safety=\"Enabled\", # This is your settings, could be any number of items with key\n",
        ")"
      ],
      "metadata": {
        "colab": {
          "base_uri": "https://localhost:8080/"
        },
        "id": "JXBMXlMIxcWE",
        "outputId": "3732110b-ad23-4c2f-8650-a7eb000929c5"
      },
      "execution_count": null,
      "outputs": [
        {
          "output_type": "stream",
          "name": "stdout",
          "text": [
            "Creating a Lathe machine with a default speed of 120 RPM.\n",
            "\n",
            "Additional components:\n",
            "- Tool Holder\n",
            "- Chuck\n",
            "\n",
            "Custom settings:\n",
            "power: High\n",
            "cooling: Water\n",
            "safety: Enabled\n"
          ]
        }
      ]
    },
    {
      "cell_type": "markdown",
      "source": [
        "**Explanation**:\n",
        "- **`machine_type`**: Regular argument, must be provided.\n",
        "- **`speed`**: Default argument, can be overridden.\n",
        "- **`*components`**: Additional components can be added flexibly.\n",
        "- **`**settings`**: Custom settings can be passed as key-value pairs.\n",
        "\n",
        "---"
      ],
      "metadata": {
        "id": "p24Jkr_OxbKY"
      }
    },
    {
      "cell_type": "markdown",
      "source": [
        "### Why Use `*args` and `**kwargs`?\n",
        "\n",
        "- **Flexibility**: They allow your functions to be more versatile, handling a variety of inputs without needing to specify every possible parameter.\n",
        "- **Scalability**: You can easily scale your functions to handle more cases without changing the function definition.\n",
        "- **Clean Code**: They help you avoid cluttered function definitions with too many parameters."
      ],
      "metadata": {
        "id": "V4-4nbvGwt-X"
      }
    },
    {
      "cell_type": "markdown",
      "source": [
        "## **Understanding Variable Scope in Python**\n",
        "\n",
        "Let's break down the concept of variable scope in Python through a series of simple, progressive examples.\n",
        "\n",
        "---\n",
        "\n"
      ],
      "metadata": {
        "id": "Rup8fVqgzU8I"
      }
    },
    {
      "cell_type": "markdown",
      "source": [
        "### **1. Accessing a Global Variable Inside a Function**\n",
        "\n",
        "You can access variables defined outside a function (in the global scope) from within the function.\n",
        "\n"
      ],
      "metadata": {
        "id": "DGLZw1hEzX-6"
      }
    },
    {
      "cell_type": "code",
      "source": [
        "# Global variable\n",
        "greeting = \"Hello, World!\"\n",
        "\n",
        "def print_greeting():\n",
        "    # Accessing the global variable inside the function\n",
        "    print(greeting)\n",
        "\n",
        "print_greeting()  # Output: Hello, World!"
      ],
      "metadata": {
        "colab": {
          "base_uri": "https://localhost:8080/"
        },
        "id": "xrWmOVkM0QqJ",
        "outputId": "572c6e5a-9964-443d-ce0b-f3c5a85620d1"
      },
      "execution_count": null,
      "outputs": [
        {
          "output_type": "stream",
          "name": "stdout",
          "text": [
            "Hello, World!\n"
          ]
        }
      ]
    },
    {
      "cell_type": "markdown",
      "source": [
        "**Explanation**: The function `print_greeting` can access and print the `greeting` variable defined outside the function because `greeting` is in the global scope.\n",
        "\n",
        "---\n",
        "\n"
      ],
      "metadata": {
        "id": "OgI0g0vIzedf"
      }
    },
    {
      "cell_type": "markdown",
      "source": [
        "### **2. Accessing a Local Variable Outside of the Function**\n",
        "\n",
        "Variables defined inside a function are local to that function and cannot be accessed outside of it. Attempting to do so will result in an error.\n",
        "\n"
      ],
      "metadata": {
        "id": "qVeRezeczggi"
      }
    },
    {
      "cell_type": "code",
      "source": [
        "def print_message():\n",
        "    message = \"This is a local variable\"\n",
        "    print(message)\n",
        "\n",
        "print_message()  # Output: This is a local variable\n",
        "print(message)   # Error: NameError: name 'message' is not defined"
      ],
      "metadata": {
        "colab": {
          "base_uri": "https://localhost:8080/",
          "height": 193
        },
        "id": "32aHFX3i0Nx9",
        "outputId": "6ad92918-5cf7-4070-cd1b-591adfd78bc3"
      },
      "execution_count": null,
      "outputs": [
        {
          "output_type": "stream",
          "name": "stdout",
          "text": [
            "This is a local variable\n"
          ]
        },
        {
          "output_type": "error",
          "ename": "NameError",
          "evalue": "name 'message' is not defined",
          "traceback": [
            "\u001b[0;31m---------------------------------------------------------------------------\u001b[0m",
            "\u001b[0;31mNameError\u001b[0m                                 Traceback (most recent call last)",
            "\u001b[0;32m<ipython-input-14-c4bc5d11063c>\u001b[0m in \u001b[0;36m<cell line: 6>\u001b[0;34m()\u001b[0m\n\u001b[1;32m      4\u001b[0m \u001b[0;34m\u001b[0m\u001b[0m\n\u001b[1;32m      5\u001b[0m \u001b[0mprint_message\u001b[0m\u001b[0;34m(\u001b[0m\u001b[0;34m)\u001b[0m  \u001b[0;31m# Output: This is a local variable\u001b[0m\u001b[0;34m\u001b[0m\u001b[0;34m\u001b[0m\u001b[0m\n\u001b[0;32m----> 6\u001b[0;31m \u001b[0mprint\u001b[0m\u001b[0;34m(\u001b[0m\u001b[0mmessage\u001b[0m\u001b[0;34m)\u001b[0m   \u001b[0;31m# Error: NameError: name 'message' is not defined\u001b[0m\u001b[0;34m\u001b[0m\u001b[0;34m\u001b[0m\u001b[0m\n\u001b[0m",
            "\u001b[0;31mNameError\u001b[0m: name 'message' is not defined"
          ]
        }
      ]
    },
    {
      "cell_type": "markdown",
      "source": [
        "**Explanation**: The variable `message` is local to the `print_message` function. Trying to access it outside the function causes a `NameError` because `message` is not defined in the global scope.\n",
        "\n",
        "---\n",
        "\n"
      ],
      "metadata": {
        "id": "4j2QvsITzils"
      }
    },
    {
      "cell_type": "markdown",
      "source": [
        "### **3. Modifying a Global Variable Inside a Function (Without `global` Keyword)**\n",
        "\n",
        "If you try to modify a global variable inside a function without explicitly telling Python that you intend to modify it, Python will treat it as a new local variable, leading to an error if the variable is also accessed before it's defined locally.\n",
        "\n"
      ],
      "metadata": {
        "id": "49O6IXwrzmpx"
      }
    },
    {
      "cell_type": "code",
      "source": [
        "counter = 10\n",
        "\n",
        "def increment_counter():\n",
        "    counter += 1  # Attempt to modify global variable\n",
        "    print(counter)\n",
        "\n",
        "increment_counter()  # Error: UnboundLocalError: local variable 'counter' referenced before assignment"
      ],
      "metadata": {
        "colab": {
          "base_uri": "https://localhost:8080/",
          "height": 297
        },
        "id": "lE1MogPk0Jdo",
        "outputId": "ad91400e-1e56-4a31-ae7f-722cd15b6cda"
      },
      "execution_count": null,
      "outputs": [
        {
          "output_type": "error",
          "ename": "UnboundLocalError",
          "evalue": "local variable 'counter' referenced before assignment",
          "traceback": [
            "\u001b[0;31m---------------------------------------------------------------------------\u001b[0m",
            "\u001b[0;31mUnboundLocalError\u001b[0m                         Traceback (most recent call last)",
            "\u001b[0;32m<ipython-input-13-32a67a5a26a2>\u001b[0m in \u001b[0;36m<cell line: 7>\u001b[0;34m()\u001b[0m\n\u001b[1;32m      5\u001b[0m     \u001b[0mprint\u001b[0m\u001b[0;34m(\u001b[0m\u001b[0mcounter\u001b[0m\u001b[0;34m)\u001b[0m\u001b[0;34m\u001b[0m\u001b[0;34m\u001b[0m\u001b[0m\n\u001b[1;32m      6\u001b[0m \u001b[0;34m\u001b[0m\u001b[0m\n\u001b[0;32m----> 7\u001b[0;31m \u001b[0mincrement_counter\u001b[0m\u001b[0;34m(\u001b[0m\u001b[0;34m)\u001b[0m  \u001b[0;31m# Error: UnboundLocalError: local variable 'counter' referenced before assignment\u001b[0m\u001b[0;34m\u001b[0m\u001b[0;34m\u001b[0m\u001b[0m\n\u001b[0m",
            "\u001b[0;32m<ipython-input-13-32a67a5a26a2>\u001b[0m in \u001b[0;36mincrement_counter\u001b[0;34m()\u001b[0m\n\u001b[1;32m      2\u001b[0m \u001b[0;34m\u001b[0m\u001b[0m\n\u001b[1;32m      3\u001b[0m \u001b[0;32mdef\u001b[0m \u001b[0mincrement_counter\u001b[0m\u001b[0;34m(\u001b[0m\u001b[0;34m)\u001b[0m\u001b[0;34m:\u001b[0m\u001b[0;34m\u001b[0m\u001b[0;34m\u001b[0m\u001b[0m\n\u001b[0;32m----> 4\u001b[0;31m     \u001b[0mcounter\u001b[0m \u001b[0;34m+=\u001b[0m \u001b[0;36m1\u001b[0m  \u001b[0;31m# Attempt to modify global variable\u001b[0m\u001b[0;34m\u001b[0m\u001b[0;34m\u001b[0m\u001b[0m\n\u001b[0m\u001b[1;32m      5\u001b[0m     \u001b[0mprint\u001b[0m\u001b[0;34m(\u001b[0m\u001b[0mcounter\u001b[0m\u001b[0;34m)\u001b[0m\u001b[0;34m\u001b[0m\u001b[0;34m\u001b[0m\u001b[0m\n\u001b[1;32m      6\u001b[0m \u001b[0;34m\u001b[0m\u001b[0m\n",
            "\u001b[0;31mUnboundLocalError\u001b[0m: local variable 'counter' referenced before assignment"
          ]
        }
      ]
    },
    {
      "cell_type": "markdown",
      "source": [
        "**Explanation**: Python raises an `UnboundLocalError` because it assumes you are trying to use a local variable `counter`, but it hasn't been assigned a value within the function before being used.\n",
        "\n",
        "---\n",
        "\n"
      ],
      "metadata": {
        "id": "VnDYKCJ6zqrH"
      }
    },
    {
      "cell_type": "markdown",
      "source": [
        "### **4. Correctly Modifying a Global Variable Inside a Function**\n",
        "\n",
        "To modify a global variable inside a function, you must explicitly declare it as global using the `global` keyword.\n",
        "\n"
      ],
      "metadata": {
        "id": "S-nrr8RYzswi"
      }
    },
    {
      "cell_type": "code",
      "source": [
        "counter = 10\n",
        "\n",
        "def increment_counter():\n",
        "    global counter  # Declare counter as global\n",
        "    counter += 1    # Modify the global variable\n",
        "print(f\"Counter before increment_counter function call: counter = {counter}\")\n",
        "increment_counter()\n",
        "print(f\"Counter after increment_counter function call: counter = {counter}\")"
      ],
      "metadata": {
        "colab": {
          "base_uri": "https://localhost:8080/"
        },
        "id": "seL5dW5xz36z",
        "outputId": "9142fc6f-be70-400c-ca73-3eae2d8a924e"
      },
      "execution_count": null,
      "outputs": [
        {
          "output_type": "stream",
          "name": "stdout",
          "text": [
            "Counter before increment_counter function call: counter = 10\n",
            "Counter after increment_counter function call: counter = 11\n"
          ]
        }
      ]
    },
    {
      "cell_type": "markdown",
      "source": [
        "**Explanation**: By declaring `counter` as global within the function, you tell Python to use the variable `counter` defined in the global scope, allowing you to modify its value.\n",
        "\n",
        "---\n",
        "\n"
      ],
      "metadata": {
        "id": "5haXtimQzxcm"
      }
    },
    {
      "cell_type": "markdown",
      "source": [
        "### **Key Takeaways**\n",
        "\n",
        "1. **Global Variables**: Accessible anywhere in your script, including inside functions.\n",
        "2. **Local Variables**: Defined inside functions and only accessible within that function.\n",
        "3. **Modifying Global Variables**: To modify a global variable within a function, you must use the `global` keyword.\n",
        "4. **Error Handling**: Accessing or modifying variables incorrectly can lead to `NameError` or `UnboundLocalError`."
      ],
      "metadata": {
        "id": "XZrkAixrz14E"
      }
    },
    {
      "cell_type": "code",
      "source": [],
      "metadata": {
        "id": "loNLx_yKz3K4"
      },
      "execution_count": null,
      "outputs": []
    },
    {
      "cell_type": "markdown",
      "source": [
        "## **Understanding the Effect of the `return` Statement in Loops**\n",
        "\n",
        "The `return` statement is used to exit a function and return a value to the caller. When used inside loops, whether in a `while` or `for` loop, it immediately breaks the loop and exits the function. This can be critical in controlling the flow of a program.\n",
        "\n",
        "Here are two examples to illustrate this:\n",
        "\n",
        "---\n",
        "\n"
      ],
      "metadata": {
        "id": "MR5A9jzV0zO2"
      }
    },
    {
      "cell_type": "markdown",
      "source": [
        "### **Example 1: Using `return` in a `for` Loop**\n",
        "\n",
        "**Scenario**: Suppose you have a function that checks for the first even number in a list and returns it. Once an even number is found, the `return` statement will exit the function immediately, breaking the loop.\n",
        "\n"
      ],
      "metadata": {
        "id": "_GOXlKUf01ni"
      }
    },
    {
      "cell_type": "code",
      "source": [
        "def find_first_even(numbers):\n",
        "    for number in numbers:\n",
        "        if number % 2 == 0:\n",
        "            return number  # Exits the function and breaks the loop\n",
        "    return None  # This will execute if no even number is found\n",
        "\n",
        "# Example usage\n",
        "numbers = [1, 3, 7, 8, 10, 12]\n",
        "result = find_first_even(numbers)\n",
        "print(f\"The first even number is: {result}\")"
      ],
      "metadata": {
        "id": "MsziNNBm1Jqp"
      },
      "execution_count": null,
      "outputs": []
    },
    {
      "cell_type": "markdown",
      "source": [
        "**Explanation**:\n",
        "- The `for` loop iterates through the list `numbers`.\n",
        "- When the first even number (`8`) is found, `return` exits the function immediately, so the loop does not continue to check `10` or `12`.\n",
        "\n",
        "---\n",
        "\n"
      ],
      "metadata": {
        "id": "fTQugxQb07-D"
      }
    },
    {
      "cell_type": "markdown",
      "source": [
        "### **Example 2: Using `return` in a `while` Loop**\n",
        "\n",
        "**Scenario**: Imagine a function that keeps checking user input until the correct password is entered. Once the correct password is entered, the `return` statement exits the function, breaking the loop.\n",
        "\n"
      ],
      "metadata": {
        "id": "CqylF44o0-9V"
      }
    },
    {
      "cell_type": "code",
      "source": [
        "def check_password():\n",
        "    correct_password = \"secret\"\n",
        "    # Note while True means run the loop indefinitely...but we have to stop it somehow\n",
        "    while True:\n",
        "        password = input(\"Enter password: \")\n",
        "        if password == correct_password:\n",
        "            return \"Access granted\"  # Exits the function and breaks the loop\n",
        "        print(\"Incorrect password, try again.\")\n",
        "\n",
        "# Example usage\n",
        "result = check_password()\n",
        "print(result)"
      ],
      "metadata": {
        "id": "_fxzVSPE1HMB"
      },
      "execution_count": null,
      "outputs": []
    },
    {
      "cell_type": "markdown",
      "source": [
        "**Explanation**:\n",
        "- The `while` loop continues to prompt the user for a password until the correct one is entered.\n",
        "- Once the correct password is entered, `return` exits the function, so the loop stops, and no further input is requested.\n",
        "\n",
        "---\n",
        "\n"
      ],
      "metadata": {
        "id": "RDgjdYGO1DWr"
      }
    },
    {
      "cell_type": "markdown",
      "source": [
        "### **Key Takeaways**\n",
        "\n",
        "- **`return` in Loops**: Using `return` inside a loop (whether `for` or `while`) will immediately exit the loop and the function, returning the specified value.\n",
        "- **Breaking the Loop**: The loop stops executing as soon as `return` is encountered, so any code or iterations after `return` are not executed.\n",
        "\n",
        "These examples demonstrate how the `return` statement controls the flow within loops, providing an efficient way to exit a function as soon as the desired condition is met."
      ],
      "metadata": {
        "id": "gbzQx44V1FKt"
      }
    },
    {
      "cell_type": "markdown",
      "source": [
        "## **Generator Function - [ADVANCE] CONCEPTS**\n",
        "> ***This section is not important for any kind of assessments, but in practice this is an important thing you should know***\n",
        "\n",
        "### **What is a Generator Function?**\n",
        "\n",
        "A **generator function** is a special type of function in Python that returns an iterator. Instead of returning a single value and exiting, a generator function can yield multiple values one at a time, allowing you to iterate over a sequence of values without having to store the entire sequence in memory.\n",
        "\n",
        "### **Intuitive Explanation**\n",
        "\n",
        "Imagine you’re at a vending machine that can only dispense one item at a time. Each time you press the button, the machine gives you the next item in line. It doesn’t give you everything at once, but only what you need when you ask for it. A generator function works similarly—it gives you one value at a time, on demand, making it very efficient for handling large datasets or infinite sequences.\n"
      ],
      "metadata": {
        "id": "NoGz1qbz2OZ8"
      }
    },
    {
      "cell_type": "markdown",
      "source": [
        "### **Creating a Simple Generator Function**\n",
        "\n",
        "Let’s start with a simple example: a generator function that yields numbers from 1 to 5.\n",
        "\n"
      ],
      "metadata": {
        "id": "wM_VpPG12dIX"
      }
    },
    {
      "cell_type": "code",
      "source": [
        "def count_to_five():\n",
        "    for i in range(1, 6):\n",
        "        yield i\n",
        "\n",
        "# Example usage\n",
        "for number in count_to_five():\n",
        "    print(number)"
      ],
      "metadata": {
        "colab": {
          "base_uri": "https://localhost:8080/"
        },
        "id": "VyRvybUl4x3V",
        "outputId": "c0e63cd4-c993-4d77-ec59-92067dbfc538"
      },
      "execution_count": null,
      "outputs": [
        {
          "output_type": "stream",
          "name": "stdout",
          "text": [
            "1\n",
            "2\n",
            "3\n",
            "4\n",
            "5\n"
          ]
        }
      ]
    },
    {
      "cell_type": "markdown",
      "source": [
        "**Explanation**:\n",
        "- **`yield`**: Instead of `returning` a value and ending the function, `yield` pauses the function and sends the current value to the caller. The function can then be resumed, continuing from where it left off.\n",
        "- **Iteration**: The generator function `count_to_five()` generates numbers from 1 to 5, one at a time.\n",
        "\n",
        "#### **Benefits of Generator Functions**\n",
        "\n",
        "1. **Memory Efficiency**: Generators don’t store all values in memory; they generate each value on the fly.\n",
        "2. **Infinite Sequences**: Generators can be used to create sequences that don’t have a predefined end (e.g., prime numbers, Fibonacci sequence).\n",
        "3. **Lazy Evaluation**: Values are computed only when needed, which can make your program more efficient.\n",
        "\n",
        "---"
      ],
      "metadata": {
        "id": "oGfiWs4f2tmM"
      }
    },
    {
      "cell_type": "markdown",
      "source": [
        "### **Example 1: Infinite Fibonacci Sequence Generator**\n",
        "\n",
        "**Objective**: Create a generator that produces Fibonacci numbers indefinitely. This is useful for understanding recursive sequences and their applications.\n",
        "\n"
      ],
      "metadata": {
        "id": "_5DBlyjX25YZ"
      }
    },
    {
      "cell_type": "code",
      "source": [
        "def infinite_fibonacci():\n",
        "    a, b = 0, 1\n",
        "    while True:\n",
        "        yield a\n",
        "        a, b = b, a + b\n",
        "\n",
        "# Example usage: Generate the first 10 Fibonacci numbers\n",
        "fib_gen = infinite_fibonacci()\n",
        "for _ in range(10):\n",
        "    print(next(fib_gen))"
      ],
      "metadata": {
        "colab": {
          "base_uri": "https://localhost:8080/"
        },
        "id": "bhAGDUNa4vIg",
        "outputId": "ce8a4bb6-fa62-49c1-c521-30901644bc7f"
      },
      "execution_count": null,
      "outputs": [
        {
          "output_type": "stream",
          "name": "stdout",
          "text": [
            "0\n",
            "1\n",
            "1\n",
            "2\n",
            "3\n",
            "5\n",
            "8\n",
            "13\n",
            "21\n",
            "34\n"
          ]
        }
      ]
    },
    {
      "cell_type": "markdown",
      "source": [
        "**Explanation**:\n",
        "- The `infinite_fibonacci` generator yields Fibonacci numbers one by one.\n",
        "- Since it’s an infinite generator, it continues producing numbers until you stop it.\n",
        "\n",
        "---\n",
        "\n"
      ],
      "metadata": {
        "id": "TAo1-rz029AL"
      }
    },
    {
      "cell_type": "markdown",
      "source": [
        "### **Example 2: Random Password Generator**\n",
        "\n",
        "**Objective**: Create a generator that produces random passwords of a specified length. This can be a practical tool for generating secure passwords on the fly.\n",
        "\n"
      ],
      "metadata": {
        "id": "qDLEoXmJ2_BC"
      }
    },
    {
      "cell_type": "code",
      "source": [
        "import random\n",
        "import string\n",
        "\n",
        "# Lets Create Some Global Variable\n",
        "valid_characters = string.ascii_letters +\\\n",
        "                   string.digits +\\\n",
        "                   string.punctuation\n",
        "\n",
        "def random_characters():\n",
        "  char = random.choice(valid_characters)\n",
        "  return char\n",
        "\n",
        "def random_password(length):\n",
        "    while True:\n",
        "        password = ''.join(random_characters() for _ in range(length))\n",
        "        yield password\n",
        "\n",
        "# Example usage: Generate 3 random passwords of length 8\n",
        "password_gen = random_password(8)\n",
        "for _ in range(3):\n",
        "    print(next(password_gen))"
      ],
      "metadata": {
        "colab": {
          "base_uri": "https://localhost:8080/"
        },
        "id": "06jjkJWj3ROH",
        "outputId": "9fc642d3-c1ea-47b2-95e1-f3f58d99dffe"
      },
      "execution_count": null,
      "outputs": [
        {
          "output_type": "stream",
          "name": "stdout",
          "text": [
            "]1<e0Amo\n",
            "bYf<Y5Xm\n",
            "(eMbmSNN\n"
          ]
        }
      ]
    },
    {
      "cell_type": "markdown",
      "source": [
        "**Explanation**:\n",
        "- The `random_password` generator yields a random password each time it’s called.\n",
        "- It can generate an infinite number of passwords, each of a specified length, without storing them.\n",
        "\n",
        "---\n",
        "\n"
      ],
      "metadata": {
        "id": "RTKDNg9e3ENZ"
      }
    },
    {
      "cell_type": "markdown",
      "source": [
        "### **Example 3: Countdown Timer Generator**\n",
        "\n",
        "**Objective**: Create a generator function that acts as a countdown timer, yielding the remaining time each second.\n",
        "\n"
      ],
      "metadata": {
        "id": "60YxK-Uh3Fi8"
      }
    },
    {
      "cell_type": "code",
      "source": [
        "import time\n",
        "\n",
        "def countdown_timer(seconds):\n",
        "    while seconds > 0:\n",
        "        yield seconds\n",
        "        seconds -= 1\n",
        "        time.sleep(1)\n",
        "    yield \"Time's up!\"\n",
        "\n",
        "# Example usage: Countdown from 5 seconds\n",
        "for remaining in countdown_timer(5):\n",
        "    print(remaining)"
      ],
      "metadata": {
        "colab": {
          "base_uri": "https://localhost:8080/"
        },
        "id": "Kp4o0RVp3NHI",
        "outputId": "964f3593-2dba-4cb8-b849-497487264559"
      },
      "execution_count": null,
      "outputs": [
        {
          "output_type": "stream",
          "name": "stdout",
          "text": [
            "5\n",
            "4\n",
            "3\n",
            "2\n",
            "1\n",
            "Time's up!\n"
          ]
        }
      ]
    },
    {
      "cell_type": "markdown",
      "source": [
        "**Explanation**:\n",
        "- The `countdown_timer` generator yields the remaining seconds until the timer reaches zero.\n",
        "- It uses `time.sleep(1)` to wait for a second before continuing, simulating a real countdown.\n",
        "\n",
        "---"
      ],
      "metadata": {
        "id": "7p-87JaO3HSO"
      }
    },
    {
      "cell_type": "markdown",
      "source": [],
      "metadata": {
        "id": "BQsqvZsE5W8Z"
      }
    },
    {
      "cell_type": "markdown",
      "source": [
        "## **Decorator - [ADVANCE] Concepts**\n",
        "A **decorator** in Python is a function that modifies or enhances the behavior of another function or method without changing its code. Decorators are useful for adding functionality like logging, access control, timing, or debugging to existing code in a clean and reusable way.\n",
        "\n",
        "### **Intuitive Explanation: Machine with Additional Features**\n",
        "\n",
        "Imagine you’re designing a machine, like a simple robot arm, that can perform basic tasks like lifting objects. Over time, you might want to add additional features to this robot, such as sensors for obstacle detection, or an enhanced grip mechanism. Instead of redesigning the entire machine from scratch, you can simply attach these new features to the existing machine.\n",
        "\n",
        "In programming, decorators work similarly—they allow you to \"attach\" new functionality to an existing function without altering its original structure.\n",
        "\n",
        "-----"
      ],
      "metadata": {
        "id": "6EiWMoIaYYjF"
      }
    },
    {
      "cell_type": "markdown",
      "source": [
        "### **Creating a Simple Decorator**\n",
        "\n",
        "Let's start with a simple example of a decorator that adds extra functionality to a basic function.\n"
      ],
      "metadata": {
        "id": "fqBwfdHGhtr_"
      }
    },
    {
      "cell_type": "markdown",
      "source": [
        "```python\n",
        "def my_decorator(func):\n",
        "    def wrapper():\n",
        "        print(\"Preparing the machine before the task...\")\n",
        "        func()\n",
        "        print(\"Finishing up after the task.\")\n",
        "    return wrapper\n",
        "\n",
        "# Example usage\n",
        "@my_decorator\n",
        "def perform_task():\n",
        "    print(\"The machine is performing its task.\")\n",
        "\n",
        "perform_task()\n",
        "```\n",
        "\n",
        "**Output**:\n",
        "```\n",
        "Preparing the machine before the task...\n",
        "The machine is performing its task.\n",
        "Finishing up after the task.\n",
        "```\n",
        "\n"
      ],
      "metadata": {
        "id": "d0-A-cq-hpdg"
      }
    },
    {
      "cell_type": "markdown",
      "source": [
        "### **Motivation**"
      ],
      "metadata": {
        "id": "WS-v1y4YY3kC"
      }
    },
    {
      "cell_type": "code",
      "source": [
        "# Consider following add function\n",
        "def add(a, b):\n",
        "    return a + b\n",
        "total = add(2, 3)"
      ],
      "metadata": {
        "id": "FBcOyu-yY7Z3"
      },
      "execution_count": null,
      "outputs": []
    },
    {
      "cell_type": "markdown",
      "source": [
        "***What if we want to add following?***"
      ],
      "metadata": {
        "id": "pDom1KtlZK9U"
      }
    },
    {
      "cell_type": "code",
      "source": [
        "total = add(2, '3')"
      ],
      "metadata": {
        "colab": {
          "base_uri": "https://localhost:8080/",
          "height": 245
        },
        "id": "vHBwv9RFZXG8",
        "outputId": "91cca451-4bc4-4a07-afe1-3085edd5e7e9"
      },
      "execution_count": null,
      "outputs": [
        {
          "output_type": "error",
          "ename": "TypeError",
          "evalue": "unsupported operand type(s) for +: 'int' and 'str'",
          "traceback": [
            "\u001b[0;31m---------------------------------------------------------------------------\u001b[0m",
            "\u001b[0;31mTypeError\u001b[0m                                 Traceback (most recent call last)",
            "\u001b[0;32m<ipython-input-29-8b1008e159b6>\u001b[0m in \u001b[0;36m<cell line: 1>\u001b[0;34m()\u001b[0m\n\u001b[0;32m----> 1\u001b[0;31m \u001b[0mtotal\u001b[0m \u001b[0;34m=\u001b[0m \u001b[0madd\u001b[0m\u001b[0;34m(\u001b[0m\u001b[0;36m2\u001b[0m\u001b[0;34m,\u001b[0m \u001b[0;34m'3'\u001b[0m\u001b[0;34m)\u001b[0m\u001b[0;34m\u001b[0m\u001b[0;34m\u001b[0m\u001b[0m\n\u001b[0m",
            "\u001b[0;32m<ipython-input-28-372b6631b90e>\u001b[0m in \u001b[0;36madd\u001b[0;34m(a, b)\u001b[0m\n\u001b[1;32m      1\u001b[0m \u001b[0;31m# Consider following add function\u001b[0m\u001b[0;34m\u001b[0m\u001b[0;34m\u001b[0m\u001b[0m\n\u001b[1;32m      2\u001b[0m \u001b[0;32mdef\u001b[0m \u001b[0madd\u001b[0m\u001b[0;34m(\u001b[0m\u001b[0ma\u001b[0m\u001b[0;34m,\u001b[0m \u001b[0mb\u001b[0m\u001b[0;34m)\u001b[0m\u001b[0;34m:\u001b[0m\u001b[0;34m\u001b[0m\u001b[0;34m\u001b[0m\u001b[0m\n\u001b[0;32m----> 3\u001b[0;31m     \u001b[0;32mreturn\u001b[0m \u001b[0ma\u001b[0m \u001b[0;34m+\u001b[0m \u001b[0mb\u001b[0m\u001b[0;34m\u001b[0m\u001b[0;34m\u001b[0m\u001b[0m\n\u001b[0m\u001b[1;32m      4\u001b[0m \u001b[0mtotal\u001b[0m \u001b[0;34m=\u001b[0m \u001b[0madd\u001b[0m\u001b[0;34m(\u001b[0m\u001b[0;36m2\u001b[0m\u001b[0;34m,\u001b[0m \u001b[0;36m3\u001b[0m\u001b[0;34m)\u001b[0m\u001b[0;34m\u001b[0m\u001b[0;34m\u001b[0m\u001b[0m\n",
            "\u001b[0;31mTypeError\u001b[0m: unsupported operand type(s) for +: 'int' and 'str'"
          ]
        }
      ]
    },
    {
      "cell_type": "markdown",
      "source": [
        "***Limitation.*** The function fail to add 2 and '3' because of mis-matched data types. What if we want to perform addition, only if the addition is valid, meaning both **`a`** and **`b`** arguments in **add** functions are numeric.\n",
        "\n",
        "FYI: **isinstance(variable, data_type)**, e.g., **isinstance(a, int)** returns **True** if **a** is an **int**, also **isinstance(a, (int, float))** returns **True** if **a** is either an **int** or **float** or simply a is **numeric**."
      ],
      "metadata": {
        "id": "UOXv-IWZZgjY"
      }
    },
    {
      "cell_type": "markdown",
      "source": [
        "**Challenge!!!** We need to fix our add function, without changing the structure of this function. **Decorator** is our savior."
      ],
      "metadata": {
        "id": "c4F2-PvqZgb4"
      }
    },
    {
      "cell_type": "code",
      "source": [
        "# Lets follow example given above, we need my_decorator, with wrapper checking for errors\n",
        "# lets call my_decorator -> numerical_validation\n",
        "# lets call wrapper -> validator\n",
        "\n",
        "# our numerical_validation function should take 'func' as an input, which is infact a function\n",
        "# 'add' in this case\n",
        "def numerical_validation(func):\n",
        "\n",
        "  # Now validator will take all the input that our 'func' takes, which are 'a' and 'b'\n",
        "  def validator(a, b):\n",
        "    # Now check if a and b both are numeric\n",
        "    is_a_numeric = isinstance(a, (int, float))\n",
        "    is_b_numeric = isinstance(b, (int, float))\n",
        "    if is_a_numeric and is_b_numeric:\n",
        "      total = func(a, b)\n",
        "      print(f\"Operation Successfull\")\n",
        "    else:\n",
        "      print(f\"Operation Failed\")\n",
        "      total = None\n",
        "    return total\n",
        "  return validator\n",
        "\n",
        "\n",
        "# Now lets use add function\n",
        "validated_add_function = numerical_validation(add) # See how we are passing add as an input to numerical_validation function\n",
        "print(f\"\\b\\t, {validated_add_function(2, 3) = }\")\n",
        "print(f\"\\b\\t, {validated_add_function(2, '3') = }\")\n",
        "print(f\"\\b\\t, {validated_add_function('2', 3) = }\")\n",
        "print(f\"\\b\\t, {validated_add_function(2.5, 3) = }\")\n",
        "print(f\"\\b\\t, {validated_add_function('2', 3.5) = }\")\n",
        "print(f\"\\b\\t, {validated_add_function(2.5, 3.5) = }\")"
      ],
      "metadata": {
        "colab": {
          "base_uri": "https://localhost:8080/"
        },
        "id": "u81RkgsvZf88",
        "outputId": "e32c391e-6b87-49b4-9f4a-98ff0a6a7f63"
      },
      "execution_count": null,
      "outputs": [
        {
          "output_type": "stream",
          "name": "stdout",
          "text": [
            "Operation Successfull\n",
            "\b\t, validated_add_function(2, 3) = 5\n",
            "Operation Failed\n",
            "\b\t, validated_add_function(2, '3') = None\n",
            "Operation Failed\n",
            "\b\t, validated_add_function('2', 3) = None\n",
            "Operation Successfull\n",
            "\b\t, validated_add_function(2.5, 3) = 5.5\n",
            "Operation Failed\n",
            "\b\t, validated_add_function('2', 3.5) = None\n",
            "Operation Successfull\n",
            "\b\t, validated_add_function(2.5, 3.5) = 6.0\n"
          ]
        }
      ]
    },
    {
      "cell_type": "code",
      "source": [
        "# Alternatively we can also do following\n",
        "\n",
        "@numerical_validation\n",
        "def difference(a, b):\n",
        "  return a - b\n",
        "\n",
        "print(f\"\\b\\t, {difference(2, 3) = }\")\n",
        "print(f\"\\b\\t, {difference(2, '3') = }\")\n",
        "print(f\"\\b\\t, {difference('2', 3) = }\")\n",
        "print(f\"\\b\\t, {difference(2.5, 3) = }\")\n",
        "print(f\"\\b\\t, {difference('2', 3.5) = }\")\n",
        "print(f\"\\b\\t, {difference(2.5, 3.5) = }\")"
      ],
      "metadata": {
        "colab": {
          "base_uri": "https://localhost:8080/"
        },
        "id": "8CKKqq9IchfM",
        "outputId": "8f9316cf-dfa3-4ed4-c7d2-31a83d593c87"
      },
      "execution_count": null,
      "outputs": [
        {
          "output_type": "stream",
          "name": "stdout",
          "text": [
            "Operation Successfull\n",
            "\b\t, difference(2, 3) = -1\n",
            "Operation Failed\n",
            "\b\t, difference(2, '3') = None\n",
            "Operation Failed\n",
            "\b\t, difference('2', 3) = None\n",
            "Operation Successfull\n",
            "\b\t, difference(2.5, 3) = -0.5\n",
            "Operation Failed\n",
            "\b\t, difference('2', 3.5) = None\n",
            "Operation Successfull\n",
            "\b\t, difference(2.5, 3.5) = -1.0\n"
          ]
        }
      ]
    },
    {
      "cell_type": "markdown",
      "source": [
        "**Explanation**:\n",
        "- **`my_decorator`**: This is the decorator function that wraps the `perform_task` function.\n",
        "- **`wrapper`**: Inside the decorator, a new function `wrapper` is defined that adds extra steps before and after calling `perform_task`.\n",
        "- **`@my_decorator`**: The `@` symbol is used to apply the decorator to `perform_task()`, modifying its behavior by adding preparatory and finishing actions."
      ],
      "metadata": {
        "id": "2qSF0SVZY1-g"
      }
    },
    {
      "cell_type": "markdown",
      "source": [
        "### **Advanced Example 1: Timing Function Execution**\n",
        "\n",
        "**Objective**: Create a decorator that measures how long a function takes to execute. This is particularly useful in engineering applications where timing and efficiency are critical, such as in robotics or automated systems.\n",
        "\n"
      ],
      "metadata": {
        "id": "5GV7OFbuYuaF"
      }
    },
    {
      "cell_type": "code",
      "source": [
        "import time\n",
        "\n",
        "def timer_decorator(func):\n",
        "    def wrapper(*args, **kwargs):\n",
        "        start_time = time.time()\n",
        "        result = func(*args, **kwargs)\n",
        "        end_time = time.time()\n",
        "        print(f\"Task {func.__name__} took {end_time - start_time:.4f} seconds to complete.\")\n",
        "        return result\n",
        "    return wrapper\n",
        "\n",
        "# Example usage\n",
        "@timer_decorator\n",
        "def perform_heavy_computation():\n",
        "    time.sleep(2)\n",
        "    print(\"Computation complete.\")\n",
        "\n",
        "perform_heavy_computation()"
      ],
      "metadata": {
        "colab": {
          "base_uri": "https://localhost:8080/"
        },
        "id": "gTzkNwtzgR3J",
        "outputId": "3ad3e85c-d94f-4a39-ede8-ef237c0e90bd"
      },
      "execution_count": null,
      "outputs": [
        {
          "output_type": "stream",
          "name": "stdout",
          "text": [
            "Computation complete.\n",
            "Task perform_heavy_computation took 2.0014 seconds to complete.\n"
          ]
        }
      ]
    },
    {
      "cell_type": "markdown",
      "source": [
        "**Explanation**:\n",
        "- The `timer_decorator` wraps the `perform_heavy_computation` function, measuring how long it takes to execute.\n",
        "- The `wrapper` function calculates the time before and after the task, then prints the elapsed time.\n",
        "\n",
        "---\n",
        "\n"
      ],
      "metadata": {
        "id": "ZfPXOM3Nfs9a"
      }
    },
    {
      "cell_type": "markdown",
      "source": [
        "### **Advance Example 2: Logging Function Calls**\n",
        "\n",
        "**Objective**: Create a decorator that logs every time a function is called, along with its inputs and outputs. This can be useful for monitoring and debugging complex systems like automated machinery or control systems.\n",
        "\n"
      ],
      "metadata": {
        "id": "WIP-xpkXfweN"
      }
    },
    {
      "cell_type": "code",
      "source": [
        "def logging_decorator(func):\n",
        "    def wrapper(*args, **kwargs):\n",
        "        print(f\"Executing {func.__name__} with arguments {args} and {kwargs}\")\n",
        "        result = func(*args, **kwargs)\n",
        "        print(f\"{func.__name__} returned {result}\")\n",
        "        return result\n",
        "    return wrapper\n",
        "\n",
        "# Example usage\n",
        "@logging_decorator\n",
        "def calculate_force(mass, acceleration):\n",
        "    return mass * acceleration\n",
        "\n",
        "force = calculate_force(10, 9.8)"
      ],
      "metadata": {
        "colab": {
          "base_uri": "https://localhost:8080/"
        },
        "id": "W-Bl5QftgOen",
        "outputId": "919d4dbd-f6cd-4bdc-aa5e-e26c4c0d96ef"
      },
      "execution_count": null,
      "outputs": [
        {
          "output_type": "stream",
          "name": "stdout",
          "text": [
            "Executing calculate_force with arguments (10, 9.8) and {}\n",
            "calculate_force returned 98.0\n"
          ]
        }
      ]
    },
    {
      "cell_type": "markdown",
      "source": [
        "**Explanation**:\n",
        "- The `logging_decorator` wraps the `calculate_force` function to log its name, arguments, and return value.\n",
        "- This is helpful for tracking the flow of data in engineering calculations.\n",
        "\n",
        "---\n",
        "\n",
        "### **Advance Example 3: Access Control with Decorators**\n",
        "\n",
        "**Objective**: Create a decorator that restricts access to a function based on user roles. This is particularly relevant in scenarios where only authorized personnel should be allowed to perform certain tasks, such as modifying critical machine settings.\n",
        "\n"
      ],
      "metadata": {
        "id": "WL2pdxiMf28A"
      }
    },
    {
      "cell_type": "code",
      "source": [
        "def require_permission(func):\n",
        "    def wrapper(user_role, *args, **kwargs):\n",
        "        if user_role == 'engineer':\n",
        "            return func(*args, **kwargs)\n",
        "        else:\n",
        "            print(\"Access denied. Engineers only.\")\n",
        "    return wrapper\n",
        "\n",
        "# Example usage\n",
        "@require_permission\n",
        "def modify_machine_settings(setting, value):\n",
        "    print(f\"Setting {setting} updated to {value}.\")\n",
        "\n",
        "# Testing with different roles\n",
        "modify_machine_settings('engineer', 'speed', 150)  # Output: Setting speed updated to 150.\n",
        "modify_machine_settings('technician', 'speed', 150)  # Output: Access denied. Engineers only."
      ],
      "metadata": {
        "colab": {
          "base_uri": "https://localhost:8080/"
        },
        "id": "Nh6wWiG_gKpO",
        "outputId": "e88d8e3c-4c87-4afd-cf5b-6520f63f4865"
      },
      "execution_count": null,
      "outputs": [
        {
          "output_type": "stream",
          "name": "stdout",
          "text": [
            "Setting speed updated to 150.\n",
            "Access denied. Engineers only.\n"
          ]
        }
      ]
    },
    {
      "cell_type": "markdown",
      "source": [
        "**Explanation**:\n",
        "- The `require_permission` decorator checks the user's role before allowing access to the `modify_machine_settings` function.\n",
        "- If the user does not have the required role, access is denied, and the function does not execute.\n",
        "\n",
        "---"
      ],
      "metadata": {
        "id": "pmJcJE8Rf91c"
      }
    },
    {
      "cell_type": "markdown",
      "source": [
        "## **Lambda Functions**\n",
        "- **What is a Lambda Function?**\n",
        "  - A **lambda function** is a small, anonymous function defined with the `lambda` keyword.\n",
        "  - It can have any number of arguments, but only one expression.\n",
        "  - The expression is evaluated and returned automatically.\n",
        "\n",
        "- **Syntax:**\n",
        "  ```python\n",
        "  lambda arguments: expression\n",
        "  ```"
      ],
      "metadata": {
        "id": "Njy_BvPBjc2k"
      }
    },
    {
      "cell_type": "markdown",
      "source": [
        "**Example:**"
      ],
      "metadata": {
        "id": "iZqUv1qSjpPF"
      }
    },
    {
      "cell_type": "code",
      "source": [
        "add = lambda x, y: x + y\n",
        "print(add(2, 3))  # Output: 5"
      ],
      "metadata": {
        "colab": {
          "base_uri": "https://localhost:8080/"
        },
        "id": "9y80KX6djvRV",
        "outputId": "eb88cd77-140d-4dd5-d844-276c472e6a5b"
      },
      "execution_count": null,
      "outputs": [
        {
          "output_type": "stream",
          "name": "stdout",
          "text": [
            "5\n"
          ]
        }
      ]
    },
    {
      "cell_type": "code",
      "source": [
        "# Above is identical to\n",
        "def add(x, y):\n",
        "  return x+y"
      ],
      "metadata": {
        "id": "nZ4U4UT3jx_d"
      },
      "execution_count": null,
      "outputs": []
    },
    {
      "cell_type": "markdown",
      "source": [
        "- **Use Cases:**\n",
        "  - **Short, Simple Functions:** Ideal for small functions that are used once or in a limited scope.\n",
        "  - **Sorting and Filtering:** Often used as a key function in `sorted()`, `filter()`, and `map()` functions.\n",
        "  \n"
      ],
      "metadata": {
        "id": "chDWQ9bHjuVu"
      }
    },
    {
      "cell_type": "markdown",
      "source": [
        "- **Example in Sorting:**\n"
      ],
      "metadata": {
        "id": "8uVllH3Ej2ov"
      }
    },
    {
      "cell_type": "code",
      "source": [
        "# Quick notes on list sorting\n",
        "numbers = [3, 2, 1, 4, 5]"
      ],
      "metadata": {
        "id": "tn0vG9tzkNzG"
      },
      "execution_count": null,
      "outputs": []
    },
    {
      "cell_type": "code",
      "source": [
        "sorted_ascending_numbers = sorted(numbers)\n",
        "print(sorted_ascending_numbers)  # Output: [1, 2, 3, 4, 5]"
      ],
      "metadata": {
        "colab": {
          "base_uri": "https://localhost:8080/"
        },
        "id": "rVtQo6QBka8s",
        "outputId": "c9471f02-497c-4abe-ca5e-12dd288440db"
      },
      "execution_count": null,
      "outputs": [
        {
          "output_type": "stream",
          "name": "stdout",
          "text": [
            "[1, 2, 3, 4, 5]\n"
          ]
        }
      ]
    },
    {
      "cell_type": "code",
      "source": [
        "sorted_descending_numbers = sorted(numbers, reverse=True)\n",
        "print(sorted_descending_numbers)  # Output: [5, 4, 3, 2, 1]"
      ],
      "metadata": {
        "colab": {
          "base_uri": "https://localhost:8080/"
        },
        "id": "uhE_T-r4kcHg",
        "outputId": "5d123d70-ffd7-4fd7-abfa-97498c85430f"
      },
      "execution_count": null,
      "outputs": [
        {
          "output_type": "stream",
          "name": "stdout",
          "text": [
            "[5, 4, 3, 2, 1]\n"
          ]
        }
      ]
    },
    {
      "cell_type": "markdown",
      "source": [
        "**Challenge!!!** Sort `points = [(2, 3), (1, 5), (4, 1)]` in ascending order of y-value assuming each pair is (x,y). Here `item = (2,3)` is an example item from the `points`, here `item[0]` refers to `x` and `item[1]` refers to `y`."
      ],
      "metadata": {
        "id": "14zcjC-4ke2B"
      }
    },
    {
      "cell_type": "code",
      "source": [
        "# points collection of data points in cartesian plane\n",
        "# How to sort these points in ascending order\n",
        "points = [(2, 3), (1, 5), (4, 1)]\n",
        "\n",
        "sorted_points = sorted(points, key=lambda point: point[1]) # here point[1] is y\n",
        "\n",
        "print(sorted_points)  # Output: [(4, 1), (2, 3), (1, 5)]"
      ],
      "metadata": {
        "colab": {
          "base_uri": "https://localhost:8080/"
        },
        "id": "eYH8OUAPj8dV",
        "outputId": "388fb1bf-75ce-4f49-b41d-fe9a88bd4aad"
      },
      "execution_count": null,
      "outputs": [
        {
          "output_type": "stream",
          "name": "stdout",
          "text": [
            "[(4, 1), (2, 3), (1, 5)]\n"
          ]
        }
      ]
    },
    {
      "cell_type": "markdown",
      "source": [
        "- **Key Characteristics:**\n",
        "  - **Anonymous:** Lambda functions don’t require a name.\n",
        "  - **Single Expression:** Limited to one line of code (expression).\n",
        "  - **Concise:** Useful for quick, throwaway functions.\n",
        "\n",
        "- **Limitations:**\n",
        "  - **Readability:** Can become hard to read if overused or if the logic is complex.\n",
        "  - **Single Expression:** Cannot contain multiple statements or complex logic."
      ],
      "metadata": {
        "id": "_g8Z70dCj5aH"
      }
    },
    {
      "cell_type": "code",
      "source": [],
      "metadata": {
        "id": "0JoE6jv4jhU2"
      },
      "execution_count": null,
      "outputs": []
    },
    {
      "cell_type": "markdown",
      "source": [
        "## **Best Practices for Writing Functions in Python**\n",
        "\n",
        "Writing clean, maintainable, and well-documented functions is essential for developing high-quality software. Best practices such as type hinting, docstrings, and proper documentation make your code easier to understand, use, and maintain."
      ],
      "metadata": {
        "id": "bbjrH1V6lzQN"
      }
    },
    {
      "cell_type": "markdown",
      "source": [
        "### Motivation"
      ],
      "metadata": {
        "id": "B9CASFbHm5Bz"
      }
    },
    {
      "cell_type": "markdown",
      "source": [
        "**Pulling Existing Help or Docstring**"
      ],
      "metadata": {
        "id": "-BmyysW1l43H"
      }
    },
    {
      "cell_type": "code",
      "source": [
        "sorted?"
      ],
      "metadata": {
        "id": "lQFJZAyll0Hq"
      },
      "execution_count": null,
      "outputs": []
    },
    {
      "cell_type": "markdown",
      "source": [
        "**or,**"
      ],
      "metadata": {
        "id": "rfvxXkk5mIwg"
      }
    },
    {
      "cell_type": "code",
      "source": [
        "help(sorted)"
      ],
      "metadata": {
        "colab": {
          "base_uri": "https://localhost:8080/"
        },
        "id": "VmYH4IOimGVz",
        "outputId": "af7710c7-8327-4a17-ae22-6868a0b405cf"
      },
      "execution_count": null,
      "outputs": [
        {
          "output_type": "stream",
          "name": "stdout",
          "text": [
            "Help on built-in function sorted in module builtins:\n",
            "\n",
            "sorted(iterable, /, *, key=None, reverse=False)\n",
            "    Return a new list containing all items from the iterable in ascending order.\n",
            "    \n",
            "    A custom key function can be supplied to customize the sort order, and the\n",
            "    reverse flag can be set to request the result in descending order.\n",
            "\n"
          ]
        }
      ]
    },
    {
      "cell_type": "markdown",
      "source": [
        "In the function signature **`sorted(iterable, /, *, key=None, reverse=False)`**, the `/` and `*` symbols have specific meanings related to how arguments are passed to the function:\n",
        "\n",
        "#### **`/` - Positional-Only Parameters:**\n",
        "- The `/` indicates that the arguments before it must be passed as **positional arguments** only.\n",
        "- In the `sorted()` function, `iterable` is a positional-only parameter. This means you must pass the iterable as a positional argument, not as a keyword argument.\n",
        "\n",
        "  **Example:**\n",
        "  ```python\n",
        "  sorted([3, 1, 2])  # Correct usage\n",
        "  sorted(iterable=[3, 1, 2])  # Incorrect usage; will raise a TypeError\n",
        "  ```\n",
        "\n",
        "#### **`*` - Keyword-Only Parameters:**\n",
        "- The `*` indicates that the arguments after it must be passed as **keyword arguments** only.\n",
        "- In the `sorted()` function, `key` and `reverse` are keyword-only parameters, meaning you must specify them by name when calling the function.\n",
        "\n",
        "  **Example:**\n",
        "  ```python\n",
        "  sorted([3, 1, 2], key=lambda x: -x, reverse=True)  # Correct usage\n",
        "  sorted([3, 1, 2], None, True)  # Incorrect usage; must use keywords for key and reverse\n",
        "  ```\n",
        "\n",
        "#### **Summary:**\n",
        "- `/` makes the preceding parameters positional-only.\n",
        "- `*` makes the following parameters keyword-only.\n",
        "\n",
        "In the `sorted()` function:\n",
        "- `iterable` must be passed as a positional argument.\n",
        "- `key` and `reverse` must be passed as keyword arguments if used."
      ],
      "metadata": {
        "id": "Ji-vIh_MmMH8"
      }
    },
    {
      "cell_type": "markdown",
      "source": [
        "#### **Takeaway**\n",
        "Proper doc string provide more clarity, without even reading the function internals.\n",
        "\n",
        "**How to achieve this?**"
      ],
      "metadata": {
        "id": "9OZWgOBunB2p"
      }
    },
    {
      "cell_type": "markdown",
      "source": [
        "### **Simple Example**\n",
        "\n",
        "**Not too shabby!** Usable but difficult to decipher"
      ],
      "metadata": {
        "id": "iIGUrOeKnqZZ"
      }
    },
    {
      "cell_type": "code",
      "source": [
        "def find_average(numbers):\n",
        "  sum_of_all_numbers = sum(numbers)\n",
        "  total_numbers = len(numbers)\n",
        "  average = sum_of_all_numbers / total_numbers\n",
        "  return average\n",
        "find_average([3, 4, 1, 2, 7, 9, 8])"
      ],
      "metadata": {
        "colab": {
          "base_uri": "https://localhost:8080/"
        },
        "id": "sSTTcWZzmK-K",
        "outputId": "37184374-0f6a-4156-a255-90f97f481d27"
      },
      "execution_count": null,
      "outputs": [
        {
          "output_type": "execute_result",
          "data": {
            "text/plain": [
              "4.857142857142857"
            ]
          },
          "metadata": {},
          "execution_count": 61
        }
      ]
    },
    {
      "cell_type": "code",
      "source": [
        "\n",
        "def find_average(numbers):\n",
        "  sum_of_all_numbers = sum(numbers)\n",
        "  total_numbers = len(numbers)\n",
        "  average = sum_of_all_numbers / total_numbers\n",
        "  return average\n",
        "\n",
        "# Assume this function is too long to read.... and someone wrote this long time ago\n",
        "# Lets pull up help\n",
        "help(find_average)"
      ],
      "metadata": {
        "colab": {
          "base_uri": "https://localhost:8080/"
        },
        "id": "0sJwvFHuouZ_",
        "outputId": "af381e20-f31b-41af-b5fb-0d686ffa4e6a"
      },
      "execution_count": null,
      "outputs": [
        {
          "output_type": "stream",
          "name": "stdout",
          "text": [
            "Help on function find_average in module __main__:\n",
            "\n",
            "find_average(numbers)\n",
            "\n"
          ]
        }
      ]
    },
    {
      "cell_type": "markdown",
      "source": [
        "**Now we're cooking with gas!** Usable and easy to decipher"
      ],
      "metadata": {
        "id": "i4Hcw7TmpIua"
      }
    },
    {
      "cell_type": "code",
      "source": [
        "def find_average(numbers):\n",
        "  \"\"\"\n",
        "  Summary:\n",
        "    Return average of all the numbers in input 'numbers' list\n",
        "\n",
        "  Args:\n",
        "    numbers: List of numbers, e.g., [1, 2, 3, ...]\n",
        "  Returns:\n",
        "    average: Returns Average of the numbers\n",
        "  \"\"\"\n",
        "  sum_of_all_numbers = sum(numbers)\n",
        "  total_numbers = len(numbers)\n",
        "  average = sum_of_all_numbers / total_numbers\n",
        "  return average"
      ],
      "metadata": {
        "id": "i-z_ymtlpIAL"
      },
      "execution_count": null,
      "outputs": []
    },
    {
      "cell_type": "code",
      "source": [
        "help(find_average)"
      ],
      "metadata": {
        "colab": {
          "base_uri": "https://localhost:8080/"
        },
        "id": "JzwU6psbo5ZJ",
        "outputId": "887b153b-29b1-4416-d9ae-5c8c16438751"
      },
      "execution_count": null,
      "outputs": [
        {
          "output_type": "stream",
          "name": "stdout",
          "text": [
            "Help on function find_average in module __main__:\n",
            "\n",
            "find_average(numbers)\n",
            "    Summary: \n",
            "      Return average of all the numbers in input 'numbers' list\n",
            "    \n",
            "    Args:\n",
            "      numbers: List of numbers, e.g., [1, 2, 3, ...]\n",
            "    Returns:\n",
            "      average: Returns Average of the numbers\n",
            "\n"
          ]
        }
      ]
    },
    {
      "cell_type": "markdown",
      "source": [
        "**You’ve hit the jackpot!** Usable, easy to decipher, more information on data"
      ],
      "metadata": {
        "id": "UItiPYyWp60N"
      }
    },
    {
      "cell_type": "code",
      "source": [
        "def find_average(numbers:[int,]) -> float:\n",
        "  \"\"\"\n",
        "  Summary:\n",
        "    Return average of all the numbers in input 'numbers' list\n",
        "\n",
        "  Args:\n",
        "    numbers ([int, ]): List of numbers, e.g., [1, 2, 3, ...]\n",
        "  Returns:\n",
        "    average (float): Returns Average of the numbers\n",
        "  \"\"\"\n",
        "  sum_of_all_numbers = sum(numbers)\n",
        "  total_numbers = len(numbers)\n",
        "  average = sum_of_all_numbers / total_numbers\n",
        "  return average\n",
        "\n",
        "help(find_average)"
      ],
      "metadata": {
        "colab": {
          "base_uri": "https://localhost:8080/"
        },
        "id": "PnYY_lttp4w8",
        "outputId": "aba8a1df-978e-4985-e774-184802e20862"
      },
      "execution_count": null,
      "outputs": [
        {
          "output_type": "stream",
          "name": "stdout",
          "text": [
            "Help on function find_average in module __main__:\n",
            "\n",
            "find_average(numbers: [<class 'int'>]) -> float\n",
            "    Summary: \n",
            "      Return average of all the numbers in input 'numbers' list\n",
            "    \n",
            "    Args:\n",
            "      numbers ([int, ]): List of numbers, e.g., [1, 2, 3, ...]\n",
            "    Returns:\n",
            "      average (float): Returns Average of the numbers\n",
            "\n"
          ]
        }
      ]
    },
    {
      "cell_type": "markdown",
      "source": [
        "### **More type - hinting examples [ADVANCE]**"
      ],
      "metadata": {
        "id": "5na4ylTJtuBX"
      }
    },
    {
      "cell_type": "markdown",
      "source": [
        "```python\n",
        "from typing import Optional, Callable, Union\n",
        "\n",
        "def square(number: int) -> int:\n",
        "    # Example argument: number = 4\n",
        "    # Example return: 16\n",
        "    ...\n",
        "\n",
        "def concatenate_strings(a: str, b: str) -> str:\n",
        "    # Example arguments: a = \"Hello\", b = \"World\"\n",
        "    # Example return: \"HelloWorld\"\n",
        "    ...\n",
        "\n",
        "def get_even_numbers(limit: int) -> list[int]:\n",
        "    # Example argument: limit = 10\n",
        "    # Example return: [0, 2, 4, 6, 8]\n",
        "    ...\n",
        "\n",
        "def greet(name: Optional[str] = None) -> str:\n",
        "    # Example argument: name = \"Alice\" (or None)\n",
        "    # Example return: \"Hello, Alice!\" (or \"Hello!\")\n",
        "    ...\n",
        "\n",
        "def count_letters(word: str) -> dict[str, int]:\n",
        "    # Example argument: word = \"hello\"\n",
        "    # Example return: {'h': 1, 'e': 1, 'l': 2, 'o': 1}\n",
        "    ...\n",
        "\n",
        "def divide(dividend: int, divisor: int) -> tuple[int, int]:\n",
        "    # Example arguments: dividend = 10, divisor = 3\n",
        "    # Example return: (3, 1)  # quotient, remainder\n",
        "    ...\n",
        "\n",
        "def apply_operation(a: int, b: int, operation: Callable[[int, int], int]) -> int:\n",
        "    # Example arguments: a = 5, b = 3, operation = lambda x, y: x + y\n",
        "    # Example return: 8\n",
        "    ...\n",
        "\n",
        "def parse_data(data: Union[str, int]) -> str:\n",
        "    # Example argument: data = 123 (or \"123\")\n",
        "    # Example return: \"123\"\n",
        "    ...\n",
        "\n",
        "def summarize_data(records: list[dict[str, int]]) -> dict[str, int]:\n",
        "    # Example argument: records = [{\"a\": 1}, {\"a\": 2, \"b\": 3}]\n",
        "    # Example return: {'a': 3, 'b': 3}\n",
        "    ...\n",
        "```"
      ],
      "metadata": {
        "id": "U2856MnetGuQ"
      }
    },
    {
      "cell_type": "code",
      "source": [],
      "metadata": {
        "id": "QqaoK0iIqNj6"
      },
      "execution_count": null,
      "outputs": []
    }
  ]
}